{
 "cells": [
  {
   "cell_type": "markdown",
   "metadata": {
    "slideshow": {
     "slide_type": "slide"
    }
   },
   "source": [
    "# 爬蟲練習（2）\n",
    "\n",
    "## 郭耀仁"
   ]
  },
  {
   "cell_type": "markdown",
   "metadata": {
    "slideshow": {
     "slide_type": "slide"
    }
   },
   "source": [
    "## PChome 線上購物\n",
    "\n",
    "- <http://shopping.pchome.com.tw/>\n",
    "- 想要把搜尋商品的資訊都抓下來\n",
    "- 搜尋 macbook pro\n",
    "\n",
    "![](img/ch0901.png)"
   ]
  },
  {
   "cell_type": "markdown",
   "metadata": {
    "slideshow": {
     "slide_type": "subslide"
    }
   },
   "source": [
    "## PChome 線上購物（2）\n",
    "\n",
    "- 搜尋後的頁面：<http://ecshweb.pchome.com.tw/search/v3.3/?q=macbook%20pro>\n",
    "- 如果我們跟之前用的方法一樣，會發現這個網頁讀進來沒有商品資訊"
   ]
  },
  {
   "cell_type": "code",
   "execution_count": 1,
   "metadata": {
    "collapsed": true,
    "slideshow": {
     "slide_type": "-"
    }
   },
   "outputs": [],
   "source": [
    "pchome_test <- readLines(\"http://ecshweb.pchome.com.tw/search/v3.3/?q=macbook%20pro\")"
   ]
  },
  {
   "cell_type": "markdown",
   "metadata": {
    "slideshow": {
     "slide_type": "subslide"
    }
   },
   "source": [
    "## PChome 線上購物（3）\n",
    "\n",
    "- 這是因為 PChome 線上購物並不是將商品資訊放在 html 之中\n",
    "- 下載一個 Chrome 外掛來驗證：[Quick Javascript Switcher](https://chrome.google.com/webstore/search/Quick%20Javascript%20Switcher)"
   ]
  },
  {
   "cell_type": "markdown",
   "metadata": {
    "slideshow": {
     "slide_type": "subslide"
    }
   },
   "source": [
    "## PChome 線上購物（4）\n",
    "\n",
    "- 安裝好 Quick JavaScript Switcher 之後，點選圖示關閉 JavaScript\n",
    "- 會發現搜尋後的頁面\n",
    "\n",
    "![](img/ch0902.png)"
   ]
  },
  {
   "cell_type": "markdown",
   "metadata": {
    "slideshow": {
     "slide_type": "subslide"
    }
   },
   "source": [
    "## PChome 線上購物（5）\n",
    "\n",
    "- 商品資訊從頁面上消失了\n",
    "\n",
    "![](img/ch0903.png)"
   ]
  },
  {
   "cell_type": "markdown",
   "metadata": {
    "slideshow": {
     "slide_type": "subslide"
    }
   },
   "source": [
    "## PChome 線上購物（6）\n",
    "\n",
    "- 這是因為網站動態利用 JavaScript 去後端資料庫查詢的緣故\n",
    "- 所以我們可以打開 Chrome 開發者工具\n",
    "- 點選 **Network** 頁籤\n",
    "\n",
    "![](img/ch0904.png)"
   ]
  },
  {
   "cell_type": "markdown",
   "metadata": {
    "slideshow": {
     "slide_type": "subslide"
    }
   },
   "source": [
    "## PChome 線上購物（7）\n",
    "\n",
    "- 因為網頁已經讀取完畢，所以裡面沒有內容\n",
    "- 我們按**重新整理**\n",
    "\n",
    "![](img/ch0905.png)"
   ]
  },
  {
   "cell_type": "markdown",
   "metadata": {
    "slideshow": {
     "slide_type": "subslide"
    }
   },
   "source": [
    "## PChome 線上購物（8）\n",
    "\n",
    "- 網站動態利用 JavaScript 去後端資料庫查詢的例子，資料多半會在 XHR/JS 裡面\n",
    "- 我們點選 XHR 檢查\n",
    "- 點選 results?q=macbook%20pro&page=1&sort=rnk/dc\n",
    "\n",
    "![](img/ch0906.png)"
   ]
  },
  {
   "cell_type": "markdown",
   "metadata": {
    "slideshow": {
     "slide_type": "subslide"
    }
   },
   "source": [
    "## PChome 線上購物（9）\n",
    "\n",
    "- 點選右邊的 **Preview** 標籤就能夠看到商品資訊\n",
    "\n",
    "![](img/ch0907.png)"
   ]
  },
  {
   "cell_type": "markdown",
   "metadata": {
    "slideshow": {
     "slide_type": "subslide"
    }
   },
   "source": [
    "## PChome 線上購物（10）\n",
    "\n",
    "- 接著我們點選 **Headers** 標籤將 **Request URL** 複製貼上到瀏覽器\n",
    "- 我們大概就知道查詢後的商品資訊是以 JSON 格式在傳送"
   ]
  },
  {
   "cell_type": "code",
   "execution_count": 2,
   "metadata": {
    "collapsed": false
   },
   "outputs": [
    {
     "data": {
      "text/html": [
       "<ol class=list-inline>\n",
       "\t<li>'QTime'</li>\n",
       "\t<li>'totalRows'</li>\n",
       "\t<li>'totalPage'</li>\n",
       "\t<li>'range'</li>\n",
       "\t<li>'cateName'</li>\n",
       "\t<li>'q'</li>\n",
       "\t<li>'subq'</li>\n",
       "\t<li>'token'</li>\n",
       "\t<li>'prods'</li>\n",
       "</ol>\n"
      ],
      "text/latex": [
       "\\begin{enumerate*}\n",
       "\\item 'QTime'\n",
       "\\item 'totalRows'\n",
       "\\item 'totalPage'\n",
       "\\item 'range'\n",
       "\\item 'cateName'\n",
       "\\item 'q'\n",
       "\\item 'subq'\n",
       "\\item 'token'\n",
       "\\item 'prods'\n",
       "\\end{enumerate*}\n"
      ],
      "text/markdown": [
       "1. 'QTime'\n",
       "2. 'totalRows'\n",
       "3. 'totalPage'\n",
       "4. 'range'\n",
       "5. 'cateName'\n",
       "6. 'q'\n",
       "7. 'subq'\n",
       "8. 'token'\n",
       "9. 'prods'\n",
       "\n",
       "\n"
      ],
      "text/plain": [
       "[1] \"QTime\"     \"totalRows\" \"totalPage\" \"range\"     \"cateName\"  \"q\"        \n",
       "[7] \"subq\"      \"token\"     \"prods\"    "
      ]
     },
     "metadata": {},
     "output_type": "display_data"
    }
   ],
   "source": [
    "library(jsonlite)\n",
    "\n",
    "url <- \"http://ecshweb.pchome.com.tw/search/v3.3/all/results?q=macbook%20pro&page=1&sort=rnk/dc\"\n",
    "macbook_pro_query <- fromJSON(url)\n",
    "names(macbook_pro_query)"
   ]
  },
  {
   "cell_type": "markdown",
   "metadata": {
    "slideshow": {
     "slide_type": "subslide"
    }
   },
   "source": [
    "## PChome 線上購物（11）\n",
    "\n",
    "- 仔細觀察網址有一個 `page=1` 的描述\n",
    "- 試著更動頁數，發現每頁都有資料\n",
    "- JSON 資料有一個鍵值是 `totalPage`\n",
    "- 觀察 `prods` 這個鍵值的儲存內容"
   ]
  },
  {
   "cell_type": "code",
   "execution_count": 3,
   "metadata": {
    "collapsed": false
   },
   "outputs": [
    {
     "data": {
      "text/html": [
       "80"
      ],
      "text/latex": [
       "80"
      ],
      "text/markdown": [
       "80"
      ],
      "text/plain": [
       "[1] 80"
      ]
     },
     "metadata": {},
     "output_type": "display_data"
    },
    {
     "data": {
      "text/html": [
       "<table>\n",
       "<thead><tr><th scope=col>Id</th><th scope=col>cateId</th><th scope=col>picS</th><th scope=col>picB</th><th scope=col>name</th><th scope=col>describe</th><th scope=col>price</th><th scope=col>author</th><th scope=col>brand</th><th scope=col>publishDate</th><th scope=col>isNC17</th><th scope=col>couponActid</th></tr></thead>\n",
       "<tbody>\n",
       "\t<tr><td>DGAX7H-A9006K8DL                                                               </td><td>DGAX7H                                                                         </td><td>/items/DGAX7HA9006K8DL/000002_1476781561.jpg                                   </td><td>/items/DGAX7HA9006K8DL/000001_1496714797.jpg                                   </td><td>MacBook Pro 13 吋:2.7GHz 128GB (MF839TA/A)                                     </td><td>MacBook Pro 13 吋:2.7GHz 128GB (MF839TA/A)                                     </td><td>37710                                                                          </td><td>                                                                               </td><td>                                                                               </td><td>                                                                               </td><td>0                                                                              </td><td>NULL                                                                           </td></tr>\n",
       "\t<tr><td>DGAX4Y-A9007RRBO                                                               </td><td>DGAX4Y                                                                         </td><td>/items/DGAX4YA9007RRBO/000002_1482994026.jpg                                   </td><td>/items/DGAX4YA9007RRBO/000001_1496656266.png                                   </td><td>MacBook Pro 13 吋:2.7GHz 128GB (Z0QM000Q4)                                     </td><td>▼每日強檔‧瘋殺特賣▼MacBook Pro 13 吋:2.7GHz 128GB (Z0QM000Q4)                  </td><td>44546                                                                          </td><td>                                                                               </td><td>                                                                               </td><td>                                                                               </td><td>0                                                                              </td><td>NULL                                                                           </td></tr>\n",
       "\t<tr><td>DGAX7H-190082U2H                                                               </td><td>DGAX7H                                                                         </td><td>/items/DGAX7H190082U2H/000002_1493365549.png                                   </td><td>/items/DGAX7H190082U2H/000001_1496369008.jpg                                   </td><td>MacBook Pro 13 吋:2.0GHz 256GB 太空灰 (MLL42TA/A)\t                            </td><td>MacBook Pro 13 吋:2.0GHz 256GB 太空灰 (MLL42TA/A)                              </td><td>47900                                                                          </td><td>                                                                               </td><td>                                                                               </td><td>                                                                               </td><td>0                                                                              </td><td>NULL                                                                           </td></tr>\n",
       "\t<tr><td>DGAX7H-A9006MBON                                                               </td><td>DGAX7H                                                                         </td><td>/items/DGAX7HA9006MBON/000002_1478064224.jpg                                   </td><td>/items/DGAX7HA9006MBON/000001_1493690623.jpg                                   </td><td>MacBook Pro 15 吋: 2.2GHz 256GB 配備Retina顯示器(MJLQ2TA/A)                    </td><td>〈8%回饋限時搶購〉MacBook Pro 15 吋: 2.2GHz 256GB 配備Retina顯示器(MJLQ2TA/A)  </td><td>58788                                                                          </td><td>                                                                               </td><td>                                                                               </td><td>                                                                               </td><td>0                                                                              </td><td>NULL                                                                           </td></tr>\n",
       "\t<tr><td>DGAX4Y-A90082KFA                                                               </td><td>DGAX4Y                                                                         </td><td>/items/DGAX4YA90082KFA/000002_1493188339.png                                   </td><td>/items/DGAX4YA90082KFA/000001_1496629485.png                                   </td><td>MacBook Pro 13 吋:2.0GHz 256GB 太空灰 (Z0SW000PX)                              </td><td>MacBook Pro 13 吋:2.0GHz 256GB 太空灰 (Z0SW000PX)                              </td><td>54420                                                                          </td><td>                                                                               </td><td>                                                                               </td><td>                                                                               </td><td>0                                                                              </td><td>NULL                                                                           </td></tr>\n",
       "\t<tr><td>DGAX4Y-A9007RR9W                                                               </td><td>DGAX4Y                                                                         </td><td>/items/DGAX4YA9007RR9W/000002_1482993543.jpg                                   </td><td>/items/DGAX4YA9007RR9W/000001_1496973831.jpg                                   </td><td>MacBook Pro 15 吋:2.8GHz 512GB (Z0RF0015Y)                                     </td><td>MacBook Pro 15 吋:2.8GHz 512GB (Z0RF0015Y)                                     </td><td>80200                                                                          </td><td>                                                                               </td><td>                                                                               </td><td>                                                                               </td><td>0                                                                              </td><td>NULL                                                                           </td></tr>\n",
       "</tbody>\n",
       "</table>\n"
      ],
      "text/latex": [
       "\\begin{tabular}{r|llllllllllll}\n",
       " Id & cateId & picS & picB & name & describe & price & author & brand & publishDate & isNC17 & couponActid\\\\\n",
       "\\hline\n",
       "\t DGAX7H-A9006K8DL                                                                & DGAX7H                                                                          & /items/DGAX7HA9006K8DL/000002\\_1476781561.jpg                                  & /items/DGAX7HA9006K8DL/000001\\_1496714797.jpg                                  & MacBook Pro 13 吋:2.7GHz 128GB (MF839TA/A)                                      & MacBook Pro 13 吋:2.7GHz 128GB (MF839TA/A)                                      & 37710                                                                           &                                                                                 &                                                                                 &                                                                                 & 0                                                                               & NULL                                                                           \\\\\n",
       "\t DGAX4Y-A9007RRBO                                                                & DGAX4Y                                                                          & /items/DGAX4YA9007RRBO/000002\\_1482994026.jpg                                  & /items/DGAX4YA9007RRBO/000001\\_1496656266.png                                  & MacBook Pro 13 吋:2.7GHz 128GB (Z0QM000Q4)                                      & ▼每日強檔‧瘋殺特賣▼MacBook Pro 13 吋:2.7GHz 128GB (Z0QM000Q4)                   & 44546                                                                           &                                                                                 &                                                                                 &                                                                                 & 0                                                                               & NULL                                                                           \\\\\n",
       "\t DGAX7H-190082U2H                                                                & DGAX7H                                                                          & /items/DGAX7H190082U2H/000002\\_1493365549.png                                  & /items/DGAX7H190082U2H/000001\\_1496369008.jpg                                  & MacBook Pro 13 吋:2.0GHz 256GB 太空灰 (MLL42TA/A)\t                             & MacBook Pro 13 吋:2.0GHz 256GB 太空灰 (MLL42TA/A)                               & 47900                                                                           &                                                                                 &                                                                                 &                                                                                 & 0                                                                               & NULL                                                                           \\\\\n",
       "\t DGAX7H-A9006MBON                                                                  & DGAX7H                                                                            & /items/DGAX7HA9006MBON/000002\\_1478064224.jpg                                    & /items/DGAX7HA9006MBON/000001\\_1493690623.jpg                                    & MacBook Pro 15 吋: 2.2GHz 256GB 配備Retina顯示器(MJLQ2TA/A)                       & 〈8\\%回饋限時搶購〉MacBook Pro 15 吋: 2.2GHz 256GB 配備Retina顯示器(MJLQ2TA/A)   & 58788                                                                             &                                                                                   &                                                                                   &                                                                                   & 0                                                                                 & NULL                                                                             \\\\\n",
       "\t DGAX4Y-A90082KFA                                                                & DGAX4Y                                                                          & /items/DGAX4YA90082KFA/000002\\_1493188339.png                                  & /items/DGAX4YA90082KFA/000001\\_1496629485.png                                  & MacBook Pro 13 吋:2.0GHz 256GB 太空灰 (Z0SW000PX)                               & MacBook Pro 13 吋:2.0GHz 256GB 太空灰 (Z0SW000PX)                               & 54420                                                                           &                                                                                 &                                                                                 &                                                                                 & 0                                                                               & NULL                                                                           \\\\\n",
       "\t DGAX4Y-A9007RR9W                                                                & DGAX4Y                                                                          & /items/DGAX4YA9007RR9W/000002\\_1482993543.jpg                                  & /items/DGAX4YA9007RR9W/000001\\_1496973831.jpg                                  & MacBook Pro 15 吋:2.8GHz 512GB (Z0RF0015Y)                                      & MacBook Pro 15 吋:2.8GHz 512GB (Z0RF0015Y)                                      & 80200                                                                           &                                                                                 &                                                                                 &                                                                                 & 0                                                                               & NULL                                                                           \\\\\n",
       "\\end{tabular}\n"
      ],
      "text/markdown": [
       "\n",
       "Id | cateId | picS | picB | name | describe | price | author | brand | publishDate | isNC17 | couponActid | \n",
       "|---|---|---|---|---|---|\n",
       "| DGAX7H-A9006K8DL                                                                | DGAX7H                                                                          | /items/DGAX7HA9006K8DL/000002_1476781561.jpg                                    | /items/DGAX7HA9006K8DL/000001_1496714797.jpg                                    | MacBook Pro 13 吋:2.7GHz 128GB (MF839TA/A)                                      | MacBook Pro 13 吋:2.7GHz 128GB (MF839TA/A)                                      | 37710                                                                           |                                                                                 |                                                                                 |                                                                                 | 0                                                                               | NULL                                                                            | \n",
       "| DGAX4Y-A9007RRBO                                                                | DGAX4Y                                                                          | /items/DGAX4YA9007RRBO/000002_1482994026.jpg                                    | /items/DGAX4YA9007RRBO/000001_1496656266.png                                    | MacBook Pro 13 吋:2.7GHz 128GB (Z0QM000Q4)                                      | ▼每日強檔‧瘋殺特賣▼MacBook Pro 13 吋:2.7GHz 128GB (Z0QM000Q4)                   | 44546                                                                           |                                                                                 |                                                                                 |                                                                                 | 0                                                                               | NULL                                                                            | \n",
       "| DGAX7H-190082U2H                                                                | DGAX7H                                                                          | /items/DGAX7H190082U2H/000002_1493365549.png                                    | /items/DGAX7H190082U2H/000001_1496369008.jpg                                    | MacBook Pro 13 吋:2.0GHz 256GB 太空灰 (MLL42TA/A)\t                             | MacBook Pro 13 吋:2.0GHz 256GB 太空灰 (MLL42TA/A)                               | 47900                                                                           |                                                                                 |                                                                                 |                                                                                 | 0                                                                               | NULL                                                                            | \n",
       "| DGAX7H-A9006MBON                                                                | DGAX7H                                                                          | /items/DGAX7HA9006MBON/000002_1478064224.jpg                                    | /items/DGAX7HA9006MBON/000001_1493690623.jpg                                    | MacBook Pro 15 吋: 2.2GHz 256GB 配備Retina顯示器(MJLQ2TA/A)                     | 〈8%回饋限時搶購〉MacBook Pro 15 吋: 2.2GHz 256GB 配備Retina顯示器(MJLQ2TA/A)   | 58788                                                                           |                                                                                 |                                                                                 |                                                                                 | 0                                                                               | NULL                                                                            | \n",
       "| DGAX4Y-A90082KFA                                                                | DGAX4Y                                                                          | /items/DGAX4YA90082KFA/000002_1493188339.png                                    | /items/DGAX4YA90082KFA/000001_1496629485.png                                    | MacBook Pro 13 吋:2.0GHz 256GB 太空灰 (Z0SW000PX)                               | MacBook Pro 13 吋:2.0GHz 256GB 太空灰 (Z0SW000PX)                               | 54420                                                                           |                                                                                 |                                                                                 |                                                                                 | 0                                                                               | NULL                                                                            | \n",
       "| DGAX4Y-A9007RR9W                                                                | DGAX4Y                                                                          | /items/DGAX4YA9007RR9W/000002_1482993543.jpg                                    | /items/DGAX4YA9007RR9W/000001_1496973831.jpg                                    | MacBook Pro 15 吋:2.8GHz 512GB (Z0RF0015Y)                                      | MacBook Pro 15 吋:2.8GHz 512GB (Z0RF0015Y)                                      | 80200                                                                           |                                                                                 |                                                                                 |                                                                                 | 0                                                                               | NULL                                                                            | \n",
       "\n",
       "\n"
      ],
      "text/plain": [
       "  Id               cateId picS                                        \n",
       "1 DGAX7H-A9006K8DL DGAX7H /items/DGAX7HA9006K8DL/000002_1476781561.jpg\n",
       "2 DGAX4Y-A9007RRBO DGAX4Y /items/DGAX4YA9007RRBO/000002_1482994026.jpg\n",
       "3 DGAX7H-190082U2H DGAX7H /items/DGAX7H190082U2H/000002_1493365549.png\n",
       "4 DGAX7H-A9006MBON DGAX7H /items/DGAX7HA9006MBON/000002_1478064224.jpg\n",
       "5 DGAX4Y-A90082KFA DGAX4Y /items/DGAX4YA90082KFA/000002_1493188339.png\n",
       "6 DGAX4Y-A9007RR9W DGAX4Y /items/DGAX4YA9007RR9W/000002_1482993543.jpg\n",
       "  picB                                        \n",
       "1 /items/DGAX7HA9006K8DL/000001_1496714797.jpg\n",
       "2 /items/DGAX4YA9007RRBO/000001_1496656266.png\n",
       "3 /items/DGAX7H190082U2H/000001_1496369008.jpg\n",
       "4 /items/DGAX7HA9006MBON/000001_1493690623.jpg\n",
       "5 /items/DGAX4YA90082KFA/000001_1496629485.png\n",
       "6 /items/DGAX4YA9007RR9W/000001_1496973831.jpg\n",
       "  name                                                       \n",
       "1 MacBook Pro 13 吋:2.7GHz 128GB (MF839TA/A)                 \n",
       "2 MacBook Pro 13 吋:2.7GHz 128GB (Z0QM000Q4)                 \n",
       "3 MacBook Pro 13 吋:2.0GHz 256GB 太空灰 (MLL42TA/A)\\t        \n",
       "4 MacBook Pro 15 吋: 2.2GHz 256GB 配備Retina顯示器(MJLQ2TA/A)\n",
       "5 MacBook Pro 13 吋:2.0GHz 256GB 太空灰 (Z0SW000PX)          \n",
       "6 MacBook Pro 15 吋:2.8GHz 512GB (Z0RF0015Y)                 \n",
       "  describe                                                                       \n",
       "1 MacBook Pro 13 吋:2.7GHz 128GB (MF839TA/A)                                     \n",
       "2 ▼每日強檔‧瘋殺特賣▼MacBook Pro 13 吋:2.7GHz 128GB (Z0QM000Q4)                  \n",
       "3 MacBook Pro 13 吋:2.0GHz 256GB 太空灰 (MLL42TA/A)                              \n",
       "4 〈8%回饋限時搶購〉MacBook Pro 15 吋: 2.2GHz 256GB 配備Retina顯示器(MJLQ2TA/A)  \n",
       "5 MacBook Pro 13 吋:2.0GHz 256GB 太空灰 (Z0SW000PX)                              \n",
       "6 MacBook Pro 15 吋:2.8GHz 512GB (Z0RF0015Y)                                     \n",
       "  price author brand publishDate isNC17 couponActid\n",
       "1 37710                          0      NULL       \n",
       "2 44546                          0      NULL       \n",
       "3 47900                          0      NULL       \n",
       "4 58788                          0      NULL       \n",
       "5 54420                          0      NULL       \n",
       "6 80200                          0      NULL       "
      ]
     },
     "metadata": {},
     "output_type": "display_data"
    }
   ],
   "source": [
    "macbook_pro_query$totalPage\n",
    "head(macbook_pro_query$prods)"
   ]
  },
  {
   "cell_type": "markdown",
   "metadata": {
    "slideshow": {
     "slide_type": "subslide"
    }
   },
   "source": [
    "## PChome 線上購物（12）\n",
    "\n",
    "- 把前五頁查詢的商品名稱、描述跟價格抓出來"
   ]
  },
  {
   "cell_type": "code",
   "execution_count": 4,
   "metadata": {
    "collapsed": true
   },
   "outputs": [],
   "source": [
    "library(jsonlite)\n",
    "\n",
    "url <- \"http://ecshweb.pchome.com.tw/search/v3.3/all/results?q=macbook%20pro&page=1&sort=rnk/dc\"\n",
    "macbook_pro_query <- fromJSON(url)\n",
    "page_nums <- 1:macbook_pro_query$totalPage\n",
    "\n",
    "urls <- paste(\"http://ecshweb.pchome.com.tw/search/v3.3/all/results?q=macbook%20pro&page=\", page_nums, \"&sort=rnk/dc\", sep = \"\")\n",
    "product_names <- c()\n",
    "product_descriptions <- c()\n",
    "product_prices <- c()\n",
    "\n",
    "for (i in 1:5){\n",
    "    single_page_query <- fromJSON(urls[i])\n",
    "    product_names <- c(product_names, single_page_query$prods$name)\n",
    "    product_descriptions <- c(product_descriptions, single_page_query$prods$describe)\n",
    "    product_prices <- c(product_prices, single_page_query$prods$price)\n",
    "    Sys.sleep(sample(2:5, size = 1))\n",
    "}"
   ]
  },
  {
   "cell_type": "code",
   "execution_count": 5,
   "metadata": {
    "collapsed": false,
    "slideshow": {
     "slide_type": "subslide"
    }
   },
   "outputs": [
    {
     "data": {
      "text/html": [
       "<table>\n",
       "<thead><tr><th scope=col>product_names</th><th scope=col>product_descriptions</th><th scope=col>product_prices</th></tr></thead>\n",
       "<tbody>\n",
       "\t<tr><td>MacBook Pro 13 吋:2.7GHz 128GB (MF839TA/A)                                     </td><td>MacBook Pro 13 吋:2.7GHz 128GB (MF839TA/A)                                     </td><td>37710                                                                          </td></tr>\n",
       "\t<tr><td>MacBook Pro 13 吋:2.7GHz 128GB (Z0QM000Q4)                                     </td><td>▼每日強檔‧瘋殺特賣▼MacBook Pro 13 吋:2.7GHz 128GB (Z0QM000Q4)                  </td><td>44546                                                                          </td></tr>\n",
       "\t<tr><td>MacBook Pro 13 吋:2.0GHz 256GB 太空灰 (MLL42TA/A)\t                            </td><td>MacBook Pro 13 吋:2.0GHz 256GB 太空灰 (MLL42TA/A)                              </td><td>47900                                                                          </td></tr>\n",
       "\t<tr><td>MacBook Pro 15 吋: 2.2GHz 256GB 配備Retina顯示器(MJLQ2TA/A)                    </td><td>〈8%回饋限時搶購〉MacBook Pro 15 吋: 2.2GHz 256GB 配備Retina顯示器(MJLQ2TA/A)  </td><td>58788                                                                          </td></tr>\n",
       "\t<tr><td>MacBook Pro 13 吋:2.0GHz 256GB 太空灰 (Z0SW000PX)                              </td><td>MacBook Pro 13 吋:2.0GHz 256GB 太空灰 (Z0SW000PX)                              </td><td>54420                                                                          </td></tr>\n",
       "\t<tr><td>MacBook Pro 15 吋:2.8GHz 512GB (Z0RF0015Y)                                     </td><td>MacBook Pro 15 吋:2.8GHz 512GB (Z0RF0015Y)                                     </td><td>80200                                                                          </td></tr>\n",
       "</tbody>\n",
       "</table>\n"
      ],
      "text/latex": [
       "\\begin{tabular}{r|lll}\n",
       " product\\_names & product\\_descriptions & product\\_prices\\\\\n",
       "\\hline\n",
       "\t MacBook Pro 13 吋:2.7GHz 128GB (MF839TA/A)                                      & MacBook Pro 13 吋:2.7GHz 128GB (MF839TA/A)                                      & 37710                                                                          \\\\\n",
       "\t MacBook Pro 13 吋:2.7GHz 128GB (Z0QM000Q4)                                      & ▼每日強檔‧瘋殺特賣▼MacBook Pro 13 吋:2.7GHz 128GB (Z0QM000Q4)                   & 44546                                                                          \\\\\n",
       "\t MacBook Pro 13 吋:2.0GHz 256GB 太空灰 (MLL42TA/A)\t                             & MacBook Pro 13 吋:2.0GHz 256GB 太空灰 (MLL42TA/A)                               & 47900                                                                          \\\\\n",
       "\t MacBook Pro 15 吋: 2.2GHz 256GB 配備Retina顯示器(MJLQ2TA/A)                       & 〈8\\%回饋限時搶購〉MacBook Pro 15 吋: 2.2GHz 256GB 配備Retina顯示器(MJLQ2TA/A)   & 58788                                                                            \\\\\n",
       "\t MacBook Pro 13 吋:2.0GHz 256GB 太空灰 (Z0SW000PX)                               & MacBook Pro 13 吋:2.0GHz 256GB 太空灰 (Z0SW000PX)                               & 54420                                                                          \\\\\n",
       "\t MacBook Pro 15 吋:2.8GHz 512GB (Z0RF0015Y)                                      & MacBook Pro 15 吋:2.8GHz 512GB (Z0RF0015Y)                                      & 80200                                                                          \\\\\n",
       "\\end{tabular}\n"
      ],
      "text/markdown": [
       "\n",
       "product_names | product_descriptions | product_prices | \n",
       "|---|---|---|---|---|---|\n",
       "| MacBook Pro 13 吋:2.7GHz 128GB (MF839TA/A)                                      | MacBook Pro 13 吋:2.7GHz 128GB (MF839TA/A)                                      | 37710                                                                           | \n",
       "| MacBook Pro 13 吋:2.7GHz 128GB (Z0QM000Q4)                                      | ▼每日強檔‧瘋殺特賣▼MacBook Pro 13 吋:2.7GHz 128GB (Z0QM000Q4)                   | 44546                                                                           | \n",
       "| MacBook Pro 13 吋:2.0GHz 256GB 太空灰 (MLL42TA/A)\t                             | MacBook Pro 13 吋:2.0GHz 256GB 太空灰 (MLL42TA/A)                               | 47900                                                                           | \n",
       "| MacBook Pro 15 吋: 2.2GHz 256GB 配備Retina顯示器(MJLQ2TA/A)                     | 〈8%回饋限時搶購〉MacBook Pro 15 吋: 2.2GHz 256GB 配備Retina顯示器(MJLQ2TA/A)   | 58788                                                                           | \n",
       "| MacBook Pro 13 吋:2.0GHz 256GB 太空灰 (Z0SW000PX)                               | MacBook Pro 13 吋:2.0GHz 256GB 太空灰 (Z0SW000PX)                               | 54420                                                                           | \n",
       "| MacBook Pro 15 吋:2.8GHz 512GB (Z0RF0015Y)                                      | MacBook Pro 15 吋:2.8GHz 512GB (Z0RF0015Y)                                      | 80200                                                                           | \n",
       "\n",
       "\n"
      ],
      "text/plain": [
       "  product_names                                              \n",
       "1 MacBook Pro 13 吋:2.7GHz 128GB (MF839TA/A)                 \n",
       "2 MacBook Pro 13 吋:2.7GHz 128GB (Z0QM000Q4)                 \n",
       "3 MacBook Pro 13 吋:2.0GHz 256GB 太空灰 (MLL42TA/A)\\t        \n",
       "4 MacBook Pro 15 吋: 2.2GHz 256GB 配備Retina顯示器(MJLQ2TA/A)\n",
       "5 MacBook Pro 13 吋:2.0GHz 256GB 太空灰 (Z0SW000PX)          \n",
       "6 MacBook Pro 15 吋:2.8GHz 512GB (Z0RF0015Y)                 \n",
       "  product_descriptions                                                           \n",
       "1 MacBook Pro 13 吋:2.7GHz 128GB (MF839TA/A)                                     \n",
       "2 ▼每日強檔‧瘋殺特賣▼MacBook Pro 13 吋:2.7GHz 128GB (Z0QM000Q4)                  \n",
       "3 MacBook Pro 13 吋:2.0GHz 256GB 太空灰 (MLL42TA/A)                              \n",
       "4 〈8%回饋限時搶購〉MacBook Pro 15 吋: 2.2GHz 256GB 配備Retina顯示器(MJLQ2TA/A)  \n",
       "5 MacBook Pro 13 吋:2.0GHz 256GB 太空灰 (Z0SW000PX)                              \n",
       "6 MacBook Pro 15 吋:2.8GHz 512GB (Z0RF0015Y)                                     \n",
       "  product_prices\n",
       "1 37710         \n",
       "2 44546         \n",
       "3 47900         \n",
       "4 58788         \n",
       "5 54420         \n",
       "6 80200         "
      ]
     },
     "metadata": {},
     "output_type": "display_data"
    }
   ],
   "source": [
    "mbp_result_df <- data.frame(product_names, product_descriptions, product_prices)\n",
    "head(mbp_result_df)"
   ]
  }
 ],
 "metadata": {
  "celltoolbar": "Slideshow",
  "kernelspec": {
   "display_name": "R",
   "language": "R",
   "name": "ir"
  },
  "language_info": {
   "codemirror_mode": "r",
   "file_extension": ".r",
   "mimetype": "text/x-r-source",
   "name": "R",
   "pygments_lexer": "r",
   "version": "3.4.0"
  }
 },
 "nbformat": 4,
 "nbformat_minor": 2
}

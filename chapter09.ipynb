{
 "cells": [
  {
   "cell_type": "markdown",
   "metadata": {
    "slideshow": {
     "slide_type": "slide"
    }
   },
   "source": [
    "# 爬蟲練習（2）\n",
    "\n",
    "## 郭耀仁"
   ]
  },
  {
   "cell_type": "markdown",
   "metadata": {
    "slideshow": {
     "slide_type": "slide"
    }
   },
   "source": [
    "## PChome 線上購物\n",
    "\n",
    "- <http://shopping.pchome.com.tw/>\n",
    "- 想要把搜尋商品的資訊都抓下來\n",
    "- 搜尋 macbook pro\n",
    "\n",
    "![](img/ch0901.png)"
   ]
  },
  {
   "cell_type": "markdown",
   "metadata": {
    "slideshow": {
     "slide_type": "subslide"
    }
   },
   "source": [
    "## PChome 線上購物（2）\n",
    "\n",
    "- 搜尋後的頁面：<http://ecshweb.pchome.com.tw/search/v3.3/?q=macbook%20pro>\n",
    "- 如果我們跟之前用的方法一樣，會發現這個網頁讀進來沒有商品資訊"
   ]
  },
  {
   "cell_type": "code",
   "execution_count": null,
   "metadata": {
    "collapsed": true,
    "slideshow": {
     "slide_type": "-"
    }
   },
   "outputs": [],
   "source": [
    "pchome_test <- readLines(\"http://ecshweb.pchome.com.tw/search/v3.3/?q=macbook%20pro\")"
   ]
  },
  {
   "cell_type": "markdown",
   "metadata": {
    "slideshow": {
     "slide_type": "subslide"
    }
   },
   "source": [
    "## PChome 線上購物（3）\n",
    "\n",
    "- 這是因為 PChome 線上購物並不是將商品資訊放在 html 之中\n",
    "- 下載一個 Chrome 外掛來驗證：[Quick Javascript Switcher](https://chrome.google.com/webstore/search/Quick%20Javascript%20Switcher)"
   ]
  },
  {
   "cell_type": "markdown",
   "metadata": {
    "slideshow": {
     "slide_type": "subslide"
    }
   },
   "source": [
    "## PChome 線上購物（4）\n",
    "\n",
    "- 安裝好 Quick JavaScript Switcher 之後，點選圖示關閉 JavaScript\n",
    "- 會發現搜尋後的頁面\n",
    "\n",
    "![](img/ch0902.png)"
   ]
  },
  {
   "cell_type": "markdown",
   "metadata": {
    "slideshow": {
     "slide_type": "subslide"
    }
   },
   "source": [
    "## PChome 線上購物（5）\n",
    "\n",
    "- 商品資訊從頁面上消失了\n",
    "\n",
    "![](img/ch0903.png)"
   ]
  },
  {
   "cell_type": "markdown",
   "metadata": {
    "slideshow": {
     "slide_type": "subslide"
    }
   },
   "source": [
    "## PChome 線上購物（6）\n",
    "\n",
    "- 這是因為網站動態利用 JavaScript 去後端資料庫查詢的緣故\n",
    "- 所以我們可以打開 Chrome 開發者工具\n",
    "- 點選 **Network** 頁籤\n",
    "\n",
    "![](img/ch0904.png)"
   ]
  },
  {
   "cell_type": "markdown",
   "metadata": {
    "slideshow": {
     "slide_type": "subslide"
    }
   },
   "source": [
    "## PChome 線上購物（7）\n",
    "\n",
    "- 因為網頁已經讀取完畢，所以裡面沒有內容\n",
    "- 我們按**重新整理**\n",
    "\n",
    "![](img/ch0905.png)"
   ]
  },
  {
   "cell_type": "markdown",
   "metadata": {
    "slideshow": {
     "slide_type": "subslide"
    }
   },
   "source": [
    "## PChome 線上購物（8）\n",
    "\n",
    "- 網站動態利用 JavaScript 去後端資料庫查詢的例子，資料多半會在 XHR/JS 裡面\n",
    "- 我們點選 XHR 檢查\n",
    "- 點選 results?q=macbook%20pro&page=1&sort=rnk/dc\n",
    "\n",
    "![](img/ch0906.png)"
   ]
  },
  {
   "cell_type": "markdown",
   "metadata": {
    "slideshow": {
     "slide_type": "subslide"
    }
   },
   "source": [
    "## PChome 線上購物（9）\n",
    "\n",
    "- 點選右邊的 **Preview** 標籤就能夠看到商品資訊\n",
    "\n",
    "![](img/ch0907.png)"
   ]
  },
  {
   "cell_type": "markdown",
   "metadata": {
    "slideshow": {
     "slide_type": "subslide"
    }
   },
   "source": [
    "## PChome 線上購物（10）\n",
    "\n",
    "- 接著我們點選 **Headers** 標籤將 **Request URL** 複製貼上到瀏覽器\n",
    "- 我們大概就知道查詢後的商品資訊是以 JSON 格式在傳送"
   ]
  },
  {
   "cell_type": "code",
   "execution_count": 1,
   "metadata": {
    "collapsed": false
   },
   "outputs": [
    {
     "data": {
      "text/html": [
       "<ol class=list-inline>\n",
       "\t<li>'QTime'</li>\n",
       "\t<li>'totalRows'</li>\n",
       "\t<li>'totalPage'</li>\n",
       "\t<li>'range'</li>\n",
       "\t<li>'cateName'</li>\n",
       "\t<li>'q'</li>\n",
       "\t<li>'subq'</li>\n",
       "\t<li>'token'</li>\n",
       "\t<li>'prods'</li>\n",
       "</ol>\n"
      ],
      "text/latex": [
       "\\begin{enumerate*}\n",
       "\\item 'QTime'\n",
       "\\item 'totalRows'\n",
       "\\item 'totalPage'\n",
       "\\item 'range'\n",
       "\\item 'cateName'\n",
       "\\item 'q'\n",
       "\\item 'subq'\n",
       "\\item 'token'\n",
       "\\item 'prods'\n",
       "\\end{enumerate*}\n"
      ],
      "text/markdown": [
       "1. 'QTime'\n",
       "2. 'totalRows'\n",
       "3. 'totalPage'\n",
       "4. 'range'\n",
       "5. 'cateName'\n",
       "6. 'q'\n",
       "7. 'subq'\n",
       "8. 'token'\n",
       "9. 'prods'\n",
       "\n",
       "\n"
      ],
      "text/plain": [
       "[1] \"QTime\"     \"totalRows\" \"totalPage\" \"range\"     \"cateName\"  \"q\"        \n",
       "[7] \"subq\"      \"token\"     \"prods\"    "
      ]
     },
     "metadata": {},
     "output_type": "display_data"
    }
   ],
   "source": [
    "library(jsonlite)\n",
    "\n",
    "url <- \"http://ecshweb.pchome.com.tw/search/v3.3/all/results?q=macbook%20pro&page=1&sort=rnk/dc\"\n",
    "macbook_pro_query <- fromJSON(url)\n",
    "names(macbook_pro_query)"
   ]
  }
 ],
 "metadata": {
  "celltoolbar": "Slideshow",
  "kernelspec": {
   "display_name": "R",
   "language": "R",
   "name": "ir"
  },
  "language_info": {
   "codemirror_mode": "r",
   "file_extension": ".r",
   "mimetype": "text/x-r-source",
   "name": "R",
   "pygments_lexer": "r",
   "version": "3.4.0"
  }
 },
 "nbformat": 4,
 "nbformat_minor": 2
}

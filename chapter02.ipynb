{
 "cells": [
  {
   "cell_type": "markdown",
   "metadata": {
    "slideshow": {
     "slide_type": "slide"
    }
   },
   "source": [
    "# 正規表達式（Regular Expression）\n",
    "\n",
    "## 郭耀仁"
   ]
  },
  {
   "cell_type": "markdown",
   "metadata": {
    "slideshow": {
     "slide_type": "slide"
    }
   },
   "source": [
    "## 正規表達式是什麼？\n",
    "\n",
    "- 正規表達式是**絕大多數**程式語言用來處理文字的利器\n",
    "- 用來對照符合某個特徵的文字\n",
    "- 強化我們使用 R 語言的文字函數的能力！"
   ]
  },
  {
   "cell_type": "markdown",
   "metadata": {
    "slideshow": {
     "slide_type": "subslide"
    }
   },
   "source": [
    "## 正規表達式是什麼？（2）\n",
    "\n",
    "- 假設我現在有一個需求是要辨識一個句子中有沒有整數：\n",
    "\n",
    "```r\n",
    "a_sentence <- \"Monica has 11 categories of towels.\"\n",
    "# 如果以我們前一章的做法會是\n",
    "```"
   ]
  },
  {
   "cell_type": "code",
   "execution_count": 5,
   "metadata": {
    "collapsed": false,
    "slideshow": {
     "slide_type": "subslide"
    }
   },
   "outputs": [
    {
     "data": {
      "text/html": [
       "<ol>\n",
       "\t<li>12</li>\n",
       "</ol>\n"
      ],
      "text/latex": [
       "\\begin{enumerate}\n",
       "\\item 12\n",
       "\\end{enumerate}\n"
      ],
      "text/markdown": [
       "1. 12\n",
       "\n",
       "\n"
      ],
      "text/plain": [
       "[[1]]\n",
       "[1] 12\n",
       "attr(,\"match.length\")\n",
       "[1] 2\n",
       "attr(,\"useBytes\")\n",
       "[1] TRUE\n"
      ]
     },
     "metadata": {},
     "output_type": "display_data"
    }
   ],
   "source": [
    "a_sentence <- \"Monica has 11 categories of towels.\"\n",
    "gregexpr(pattern = \"11\", a_sentence, fixed = TRUE)"
   ]
  },
  {
   "cell_type": "markdown",
   "metadata": {
    "slideshow": {
     "slide_type": "subslide"
    }
   },
   "source": [
    "## 正規表達式是什麼？（3）\n",
    "\n",
    "- 如果句子變成這樣怎麼辦？\n",
    "\n",
    "```r\n",
    "a_sentence <- \"Monica has 11 or 13, maybe 15 categories of towels?\"\n",
    "```\n",
    "\n",
    "- 很明顯我們需要一個可以更廣泛表達**整數**特徵的方法\n",
    "- 解開 `fixed = TRUE` 的封印，改採正規表達式"
   ]
  },
  {
   "cell_type": "code",
   "execution_count": 12,
   "metadata": {
    "collapsed": false,
    "slideshow": {
     "slide_type": "subslide"
    }
   },
   "outputs": [
    {
     "data": {
      "text/html": [
       "<ol>\n",
       "\t<li><ol class=list-inline>\n",
       "\t<li>12</li>\n",
       "\t<li>18</li>\n",
       "\t<li>28</li>\n",
       "</ol>\n",
       "</li>\n",
       "</ol>\n"
      ],
      "text/latex": [
       "\\begin{enumerate}\n",
       "\\item \\begin{enumerate*}\n",
       "\\item 12\n",
       "\\item 18\n",
       "\\item 28\n",
       "\\end{enumerate*}\n",
       "\n",
       "\\end{enumerate}\n"
      ],
      "text/markdown": [
       "1. 1. 12\n",
       "2. 18\n",
       "3. 28\n",
       "\n",
       "\n",
       "\n",
       "\n",
       "\n"
      ],
      "text/plain": [
       "[[1]]\n",
       "[1] 12 18 28\n",
       "attr(,\"match.length\")\n",
       "[1] 2 2 2\n",
       "attr(,\"useBytes\")\n",
       "[1] TRUE\n"
      ]
     },
     "metadata": {},
     "output_type": "display_data"
    }
   ],
   "source": [
    "a_sentence <- \"Monica has 11 or 13, maybe 15 categories of towels?\"\n",
    "gregexpr(pattern = \"[0-9]+\", a_sentence)"
   ]
  },
  {
   "cell_type": "markdown",
   "metadata": {
    "slideshow": {
     "slide_type": "slide"
    }
   },
   "source": [
    "## 哪些文字函數可以使用正規表達式？\n",
    "\n",
    "- `strsplit()`\n",
    "- `regexpr()`\n",
    "- `gregexpr()`\n",
    "- `grep()`\n",
    "- `grepl()`\n",
    "- `sub()`\n",
    "- `gsub()`"
   ]
  },
  {
   "cell_type": "markdown",
   "metadata": {
    "slideshow": {
     "slide_type": "subslide"
    }
   },
   "source": [
    "## 哪些文字函數可以使用正規表達式？（2）\n",
    "\n",
    "- `strsplit()`\n",
    "\n",
    "```r\n",
    "a_sentence <- \"Joey: This guy says hello, I wanna kill myself.\"\n",
    "# 斷詞\n",
    "```"
   ]
  },
  {
   "cell_type": "code",
   "execution_count": 13,
   "metadata": {
    "collapsed": false,
    "slideshow": {
     "slide_type": "subslide"
    }
   },
   "outputs": [
    {
     "data": {
      "text/html": [
       "<ol>\n",
       "\t<li><ol class=list-inline>\n",
       "\t<li>'Joey'</li>\n",
       "\t<li>'This'</li>\n",
       "\t<li>'guy'</li>\n",
       "\t<li>'says'</li>\n",
       "\t<li>'hello'</li>\n",
       "\t<li>'I'</li>\n",
       "\t<li>'wanna'</li>\n",
       "\t<li>'kill'</li>\n",
       "\t<li>'myself'</li>\n",
       "</ol>\n",
       "</li>\n",
       "</ol>\n"
      ],
      "text/latex": [
       "\\begin{enumerate}\n",
       "\\item \\begin{enumerate*}\n",
       "\\item 'Joey'\n",
       "\\item 'This'\n",
       "\\item 'guy'\n",
       "\\item 'says'\n",
       "\\item 'hello'\n",
       "\\item 'I'\n",
       "\\item 'wanna'\n",
       "\\item 'kill'\n",
       "\\item 'myself'\n",
       "\\end{enumerate*}\n",
       "\n",
       "\\end{enumerate}\n"
      ],
      "text/markdown": [
       "1. 1. 'Joey'\n",
       "2. 'This'\n",
       "3. 'guy'\n",
       "4. 'says'\n",
       "5. 'hello'\n",
       "6. 'I'\n",
       "7. 'wanna'\n",
       "8. 'kill'\n",
       "9. 'myself'\n",
       "\n",
       "\n",
       "\n",
       "\n",
       "\n"
      ],
      "text/plain": [
       "[[1]]\n",
       "[1] \"Joey\"   \"This\"   \"guy\"    \"says\"   \"hello\"  \"I\"      \"wanna\"  \"kill\"  \n",
       "[9] \"myself\"\n"
      ]
     },
     "metadata": {},
     "output_type": "display_data"
    }
   ],
   "source": [
    "a_sentence <- \"Joey: This guy says hello, I wanna kill myself.\"\n",
    "strsplit(a_sentence, split = \"[: ,.]+\")"
   ]
  },
  {
   "cell_type": "markdown",
   "metadata": {
    "slideshow": {
     "slide_type": "subslide"
    }
   },
   "source": [
    "## 哪些文字函數可以使用正規表達式？（3）\n",
    "\n",
    "- `regexpr()` 與 `gregexpr()`\n",
    "\n",
    "```r\n",
    "a_sentence <- \"Monica has 11 or 13, maybe 15 categories of towels?\"\n",
    "# 找尋第一個數字\n",
    "# 找尋所有的數字\n",
    "```"
   ]
  },
  {
   "cell_type": "code",
   "execution_count": 3,
   "metadata": {
    "collapsed": false,
    "slideshow": {
     "slide_type": "subslide"
    }
   },
   "outputs": [
    {
     "data": {
      "text/html": [
       "12"
      ],
      "text/latex": [
       "12"
      ],
      "text/markdown": [
       "12"
      ],
      "text/plain": [
       "[1] 12\n",
       "attr(,\"match.length\")\n",
       "[1] 2\n",
       "attr(,\"useBytes\")\n",
       "[1] TRUE"
      ]
     },
     "metadata": {},
     "output_type": "display_data"
    },
    {
     "data": {
      "text/html": [
       "<ol>\n",
       "\t<li><ol class=list-inline>\n",
       "\t<li>12</li>\n",
       "\t<li>18</li>\n",
       "\t<li>28</li>\n",
       "</ol>\n",
       "</li>\n",
       "</ol>\n"
      ],
      "text/latex": [
       "\\begin{enumerate}\n",
       "\\item \\begin{enumerate*}\n",
       "\\item 12\n",
       "\\item 18\n",
       "\\item 28\n",
       "\\end{enumerate*}\n",
       "\n",
       "\\end{enumerate}\n"
      ],
      "text/markdown": [
       "1. 1. 12\n",
       "2. 18\n",
       "3. 28\n",
       "\n",
       "\n",
       "\n",
       "\n",
       "\n"
      ],
      "text/plain": [
       "[[1]]\n",
       "[1] 12 18 28\n",
       "attr(,\"match.length\")\n",
       "[1] 2 2 2\n",
       "attr(,\"useBytes\")\n",
       "[1] TRUE\n"
      ]
     },
     "metadata": {},
     "output_type": "display_data"
    }
   ],
   "source": [
    "a_sentence <- \"Monica has 11 or 13, maybe 15 categories of towels?\"\n",
    "regexpr(pattern = \"[0-9]+\", a_sentence)\n",
    "gregexpr(pattern = \"[0-9]+\", a_sentence)"
   ]
  },
  {
   "cell_type": "markdown",
   "metadata": {
    "slideshow": {
     "slide_type": "subslide"
    }
   },
   "source": [
    "## 哪些文字函數可以使用正規表達式？（4）\n",
    "\n",
    "- `grep()` 與 `grepl()`\n",
    "\n",
    "```r\n",
    "a_sentence <- \"Monica has 11 or 13, maybe 15 categories of towels?\"\n",
    "word_vector <- unlist(strsplit(a_sentence, split = \"[: ,.?]+\"))\n",
    "# 找尋數字\n",
    "# 判斷是否有數字\n",
    "```"
   ]
  },
  {
   "cell_type": "code",
   "execution_count": 8,
   "metadata": {
    "collapsed": false,
    "slideshow": {
     "slide_type": "subslide"
    }
   },
   "outputs": [
    {
     "data": {
      "text/html": [
       "<ol class=list-inline>\n",
       "\t<li>'Monica'</li>\n",
       "\t<li>'has'</li>\n",
       "\t<li>'11'</li>\n",
       "\t<li>'or'</li>\n",
       "\t<li>'13'</li>\n",
       "\t<li>'maybe'</li>\n",
       "\t<li>'15'</li>\n",
       "\t<li>'categories'</li>\n",
       "\t<li>'of'</li>\n",
       "\t<li>'towels'</li>\n",
       "</ol>\n"
      ],
      "text/latex": [
       "\\begin{enumerate*}\n",
       "\\item 'Monica'\n",
       "\\item 'has'\n",
       "\\item '11'\n",
       "\\item 'or'\n",
       "\\item '13'\n",
       "\\item 'maybe'\n",
       "\\item '15'\n",
       "\\item 'categories'\n",
       "\\item 'of'\n",
       "\\item 'towels'\n",
       "\\end{enumerate*}\n"
      ],
      "text/markdown": [
       "1. 'Monica'\n",
       "2. 'has'\n",
       "3. '11'\n",
       "4. 'or'\n",
       "5. '13'\n",
       "6. 'maybe'\n",
       "7. '15'\n",
       "8. 'categories'\n",
       "9. 'of'\n",
       "10. 'towels'\n",
       "\n",
       "\n"
      ],
      "text/plain": [
       " [1] \"Monica\"     \"has\"        \"11\"         \"or\"         \"13\"        \n",
       " [6] \"maybe\"      \"15\"         \"categories\" \"of\"         \"towels\"    "
      ]
     },
     "metadata": {},
     "output_type": "display_data"
    },
    {
     "data": {
      "text/html": [
       "<ol class=list-inline>\n",
       "\t<li>3</li>\n",
       "\t<li>5</li>\n",
       "\t<li>7</li>\n",
       "</ol>\n"
      ],
      "text/latex": [
       "\\begin{enumerate*}\n",
       "\\item 3\n",
       "\\item 5\n",
       "\\item 7\n",
       "\\end{enumerate*}\n"
      ],
      "text/markdown": [
       "1. 3\n",
       "2. 5\n",
       "3. 7\n",
       "\n",
       "\n"
      ],
      "text/plain": [
       "[1] 3 5 7"
      ]
     },
     "metadata": {},
     "output_type": "display_data"
    },
    {
     "data": {
      "text/html": [
       "<ol class=list-inline>\n",
       "\t<li>FALSE</li>\n",
       "\t<li>FALSE</li>\n",
       "\t<li>TRUE</li>\n",
       "\t<li>FALSE</li>\n",
       "\t<li>TRUE</li>\n",
       "\t<li>FALSE</li>\n",
       "\t<li>TRUE</li>\n",
       "\t<li>FALSE</li>\n",
       "\t<li>FALSE</li>\n",
       "\t<li>FALSE</li>\n",
       "</ol>\n"
      ],
      "text/latex": [
       "\\begin{enumerate*}\n",
       "\\item FALSE\n",
       "\\item FALSE\n",
       "\\item TRUE\n",
       "\\item FALSE\n",
       "\\item TRUE\n",
       "\\item FALSE\n",
       "\\item TRUE\n",
       "\\item FALSE\n",
       "\\item FALSE\n",
       "\\item FALSE\n",
       "\\end{enumerate*}\n"
      ],
      "text/markdown": [
       "1. FALSE\n",
       "2. FALSE\n",
       "3. TRUE\n",
       "4. FALSE\n",
       "5. TRUE\n",
       "6. FALSE\n",
       "7. TRUE\n",
       "8. FALSE\n",
       "9. FALSE\n",
       "10. FALSE\n",
       "\n",
       "\n"
      ],
      "text/plain": [
       " [1] FALSE FALSE  TRUE FALSE  TRUE FALSE  TRUE FALSE FALSE FALSE"
      ]
     },
     "metadata": {},
     "output_type": "display_data"
    }
   ],
   "source": [
    "a_sentence <- \"Monica has 11 or 13, maybe 15 categories of towels?\"\n",
    "word_vector <- unlist(strsplit(a_sentence, split = \"[: ,.?]+\"))\n",
    "word_vector\n",
    "grep(pattern = \"[0-9]+\", word_vector)\n",
    "grepl(pattern = \"[0-9]+\", word_vector)"
   ]
  },
  {
   "cell_type": "markdown",
   "metadata": {
    "slideshow": {
     "slide_type": "subslide"
    }
   },
   "source": [
    "## 哪些文字函數可以使用正規表達式？（5）\n",
    "\n",
    "- `sub()` 與 `gsub()`\n",
    "\n",
    "```r\n",
    "a_sentence <- \"Monica has 11 or 13, maybe 15 categories of towels?\"\n",
    "# 取代第一個數字為 X\n",
    "# 取代所有數字為 X\n",
    "```"
   ]
  },
  {
   "cell_type": "code",
   "execution_count": 10,
   "metadata": {
    "collapsed": false,
    "slideshow": {
     "slide_type": "subslide"
    }
   },
   "outputs": [
    {
     "data": {
      "text/html": [
       "'Monica has X or 13, maybe 15 categories of towels?'"
      ],
      "text/latex": [
       "'Monica has X or 13, maybe 15 categories of towels?'"
      ],
      "text/markdown": [
       "'Monica has X or 13, maybe 15 categories of towels?'"
      ],
      "text/plain": [
       "[1] \"Monica has X or 13, maybe 15 categories of towels?\""
      ]
     },
     "metadata": {},
     "output_type": "display_data"
    },
    {
     "data": {
      "text/html": [
       "'Monica has X or X, maybe X categories of towels?'"
      ],
      "text/latex": [
       "'Monica has X or X, maybe X categories of towels?'"
      ],
      "text/markdown": [
       "'Monica has X or X, maybe X categories of towels?'"
      ],
      "text/plain": [
       "[1] \"Monica has X or X, maybe X categories of towels?\""
      ]
     },
     "metadata": {},
     "output_type": "display_data"
    }
   ],
   "source": [
    "a_sentence <- \"Monica has 11 or 13, maybe 15 categories of towels?\"\n",
    "sub(pattern = \"[0-9]+\", a_sentence, replacement = \"X\")\n",
    "gsub(pattern = \"[0-9]+\", a_sentence, replacement = \"X\")"
   ]
  },
  {
   "cell_type": "markdown",
   "metadata": {
    "slideshow": {
     "slide_type": "slide"
    }
   },
   "source": [
    "## 常用的正規表達式範例\n",
    "\n",
    "|特徵|正規表達式寫法|\n",
    "|---|------------|\n",
    "|整數|`[0-9]+` 或 `[\\d]`|\n",
    "|浮點數|`[0-9]+\\\\.[0-9]+` 或 `[\\d]+\\\\.[\\d]+`|\n",
    "|英文|`[A-Za-z]+`|\n",
    "|電子郵件信箱|`[a-zA-Z0-9_]+@[a-zA-Z0-9\\\\._]+`|\n",
    "|網址|http(s)?://[a-zA-Z0-9\\\\\\\\./\\_]+|"
   ]
  },
  {
   "cell_type": "markdown",
   "metadata": {
    "slideshow": {
     "slide_type": "subslide"
    }
   },
   "source": [
    "## 常用的正規表達式範例（2）\n",
    "\n",
    "- 判斷浮點數\n",
    "\n",
    "```r\n",
    "a_sentence <- c(\"半程馬拉松是 21 公里\", \"全程馬拉松是 42.195 公里\")\n",
    "# 判斷有無浮點數\n",
    "```"
   ]
  },
  {
   "cell_type": "code",
   "execution_count": 5,
   "metadata": {
    "collapsed": false,
    "slideshow": {
     "slide_type": "subslide"
    }
   },
   "outputs": [
    {
     "data": {
      "text/html": [
       "<ol class=list-inline>\n",
       "\t<li>FALSE</li>\n",
       "\t<li>TRUE</li>\n",
       "</ol>\n"
      ],
      "text/latex": [
       "\\begin{enumerate*}\n",
       "\\item FALSE\n",
       "\\item TRUE\n",
       "\\end{enumerate*}\n"
      ],
      "text/markdown": [
       "1. FALSE\n",
       "2. TRUE\n",
       "\n",
       "\n"
      ],
      "text/plain": [
       "[1] FALSE  TRUE"
      ]
     },
     "metadata": {},
     "output_type": "display_data"
    }
   ],
   "source": [
    "a_sentence <- c(\"半程馬拉松是 21 公里\", \"全程馬拉松是 42.195 公里\")\n",
    "grepl(pattern = \"[0-9]+\\\\.[0-9]+\", a_sentence)"
   ]
  },
  {
   "cell_type": "markdown",
   "metadata": {
    "slideshow": {
     "slide_type": "subslide"
    }
   },
   "source": [
    "## 常用的正規表達式範例（3）\n",
    "\n",
    "- 判斷英文\n",
    "\n",
    "```r\n",
    "a_sentence <- c(\"半程馬拉松是 21 公里\", \"全程馬拉松是 42.195 km\")\n",
    "# 判斷有無英文\n",
    "```"
   ]
  },
  {
   "cell_type": "code",
   "execution_count": 6,
   "metadata": {
    "collapsed": false,
    "slideshow": {
     "slide_type": "subslide"
    }
   },
   "outputs": [
    {
     "data": {
      "text/html": [
       "<ol class=list-inline>\n",
       "\t<li>FALSE</li>\n",
       "\t<li>TRUE</li>\n",
       "</ol>\n"
      ],
      "text/latex": [
       "\\begin{enumerate*}\n",
       "\\item FALSE\n",
       "\\item TRUE\n",
       "\\end{enumerate*}\n"
      ],
      "text/markdown": [
       "1. FALSE\n",
       "2. TRUE\n",
       "\n",
       "\n"
      ],
      "text/plain": [
       "[1] FALSE  TRUE"
      ]
     },
     "metadata": {},
     "output_type": "display_data"
    }
   ],
   "source": [
    "a_sentence <- c(\"半程馬拉松是 21 公里\", \"A full marathon is 42.195 km\")\n",
    "grepl(pattern = \"[A-Za-z]+\", a_sentence)"
   ]
  },
  {
   "cell_type": "markdown",
   "metadata": {
    "slideshow": {
     "slide_type": "subslide"
    }
   },
   "source": [
    "## 常用的正規表達式範例（4）\n",
    "\n",
    "- 判斷電子郵件信箱\n",
    "\n",
    "```r\n",
    "word_vector <- c(\"Chandler Bing\", \"cb@friends.com\")\n",
    "# 判斷有無電子郵件信箱\n",
    "```"
   ]
  },
  {
   "cell_type": "code",
   "execution_count": 9,
   "metadata": {
    "collapsed": false,
    "slideshow": {
     "slide_type": "subslide"
    }
   },
   "outputs": [
    {
     "data": {
      "text/html": [
       "<ol class=list-inline>\n",
       "\t<li>FALSE</li>\n",
       "\t<li>TRUE</li>\n",
       "</ol>\n"
      ],
      "text/latex": [
       "\\begin{enumerate*}\n",
       "\\item FALSE\n",
       "\\item TRUE\n",
       "\\end{enumerate*}\n"
      ],
      "text/markdown": [
       "1. FALSE\n",
       "2. TRUE\n",
       "\n",
       "\n"
      ],
      "text/plain": [
       "[1] FALSE  TRUE"
      ]
     },
     "metadata": {},
     "output_type": "display_data"
    }
   ],
   "source": [
    "word_vector <- c(\"Chandler Bing\", \"cb@friends.com\")\n",
    "grepl(pattern = \"[a-zA-Z0-9_]+@[a-zA-Z0-9\\\\._]+\", word_vector)"
   ]
  },
  {
   "cell_type": "markdown",
   "metadata": {
    "slideshow": {
     "slide_type": "subslide"
    }
   },
   "source": [
    "## 常用的正規表達式範例（5）\n",
    "\n",
    "- 判斷網址\n",
    "\n",
    "```r\n",
    "word_vector <- c(\"https://chandler.com\", \"cb@friends.com\")\n",
    "# 判斷有無網址\n",
    "```"
   ]
  },
  {
   "cell_type": "code",
   "execution_count": 12,
   "metadata": {
    "collapsed": false,
    "slideshow": {
     "slide_type": "subslide"
    }
   },
   "outputs": [
    {
     "data": {
      "text/html": [
       "<ol class=list-inline>\n",
       "\t<li>TRUE</li>\n",
       "\t<li>FALSE</li>\n",
       "\t<li>TRUE</li>\n",
       "</ol>\n"
      ],
      "text/latex": [
       "\\begin{enumerate*}\n",
       "\\item TRUE\n",
       "\\item FALSE\n",
       "\\item TRUE\n",
       "\\end{enumerate*}\n"
      ],
      "text/markdown": [
       "1. TRUE\n",
       "2. FALSE\n",
       "3. TRUE\n",
       "\n",
       "\n"
      ],
      "text/plain": [
       "[1]  TRUE FALSE  TRUE"
      ]
     },
     "metadata": {},
     "output_type": "display_data"
    }
   ],
   "source": [
    "word_vector <- c(\"http://chandler.com\", \"cb@friends.com\", \"https://chandler.io\")\n",
    "grepl(pattern = \"http(s)?://[a-zA-Z0-9\\\\./_]+\", word_vector)"
   ]
  },
  {
   "cell_type": "markdown",
   "metadata": {
    "slideshow": {
     "slide_type": "slide"
    }
   },
   "source": [
    "## 參考連結\n",
    "\n",
    "- [Regular Expressions as used in R](https://stat.ethz.ch/R-manual/R-devel/library/base/html/regex.html)\n",
    "- [正規表示式 Regular Expression](http://ccckmit.wikidot.com/regularexpression)\n",
    "- [Crazy for Friends](http://www.livesinabox.com/friends/)"
   ]
  }
 ],
 "metadata": {
  "celltoolbar": "Slideshow",
  "kernelspec": {
   "display_name": "R",
   "language": "R",
   "name": "ir"
  },
  "language_info": {
   "codemirror_mode": "r",
   "file_extension": ".r",
   "mimetype": "text/x-r-source",
   "name": "R",
   "pygments_lexer": "r",
   "version": "3.4.0"
  }
 },
 "nbformat": 4,
 "nbformat_minor": 2
}

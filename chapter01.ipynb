{
 "cells": [
  {
   "cell_type": "markdown",
   "metadata": {
    "slideshow": {
     "slide_type": "slide"
    }
   },
   "source": [
    "# R 語言的字串函數\n",
    "\n",
    "## 郭耀仁"
   ]
  },
  {
   "cell_type": "markdown",
   "metadata": {
    "slideshow": {
     "slide_type": "slide"
    }
   },
   "source": [
    "## 大綱\n",
    "\n",
    "- `nchar()`\n",
    "- `paste()`\n",
    "- `sprintf()`\n",
    "- `toupper()`\n",
    "- `tolower()`\n",
    "- `substr()`\n",
    "- `strsplit()`\n",
    "- `grep()`\n",
    "- `sub()`"
   ]
  },
  {
   "cell_type": "markdown",
   "metadata": {
    "slideshow": {
     "slide_type": "slide"
    }
   },
   "source": [
    "## `nchar()`\n",
    "\n",
    "- 計算文字的字元數\n",
    "- `nchar(x)`\n",
    "\n",
    "```r\n",
    "my_name <- \"Tony Kuo\"\n",
    "# 計算字元數\n",
    "```"
   ]
  },
  {
   "cell_type": "code",
   "execution_count": 27,
   "metadata": {
    "collapsed": false,
    "slideshow": {
     "slide_type": "subslide"
    }
   },
   "outputs": [
    {
     "data": {
      "text/html": [
       "8"
      ],
      "text/latex": [
       "8"
      ],
      "text/markdown": [
       "8"
      ],
      "text/plain": [
       "[1] 8"
      ]
     },
     "metadata": {},
     "output_type": "display_data"
    }
   ],
   "source": [
    "# nchar(x)\n",
    "\n",
    "my_name <- \"Tony Kuo\"\n",
    "nchar(my_name)"
   ]
  },
  {
   "cell_type": "markdown",
   "metadata": {
    "slideshow": {
     "slide_type": "slide"
    }
   },
   "source": [
    "## `paste()`\n",
    "\n",
    "- 將數個文字連結為一個文字\n",
    "- `paste(..., sep = )`\n",
    "\n",
    "```r\n",
    "first_word <- \"How\"\n",
    "second_word <- \"you\"\n",
    "third_word <- \"doing?\"\n",
    "# 將這三個字連結為一句話\n",
    "```"
   ]
  },
  {
   "cell_type": "code",
   "execution_count": 6,
   "metadata": {
    "collapsed": false,
    "slideshow": {
     "slide_type": "subslide"
    }
   },
   "outputs": [
    {
     "data": {
      "text/html": [
       "'How you doing?'"
      ],
      "text/latex": [
       "'How you doing?'"
      ],
      "text/markdown": [
       "'How you doing?'"
      ],
      "text/plain": [
       "[1] \"How you doing?\""
      ]
     },
     "metadata": {},
     "output_type": "display_data"
    },
    {
     "data": {
      "text/html": [
       "'Howyoudoing?'"
      ],
      "text/latex": [
       "'Howyoudoing?'"
      ],
      "text/markdown": [
       "'Howyoudoing?'"
      ],
      "text/plain": [
       "[1] \"Howyoudoing?\""
      ]
     },
     "metadata": {},
     "output_type": "display_data"
    },
    {
     "data": {
      "text/html": [
       "'How,you,doing?'"
      ],
      "text/latex": [
       "'How,you,doing?'"
      ],
      "text/markdown": [
       "'How,you,doing?'"
      ],
      "text/plain": [
       "[1] \"How,you,doing?\""
      ]
     },
     "metadata": {},
     "output_type": "display_data"
    }
   ],
   "source": [
    "# paste(..., sep = )\n",
    "\n",
    "first_word <- \"How\"\n",
    "second_word <- \"you\"\n",
    "third_word <- \"doing?\"\n",
    "paste(first_word, second_word, third_word)\n",
    "paste(first_word, second_word, third_word, sep = \"\")\n",
    "paste(first_word, second_word, third_word, sep = \",\")"
   ]
  },
  {
   "cell_type": "markdown",
   "metadata": {
    "slideshow": {
     "slide_type": "slide"
    }
   },
   "source": [
    "## `sprintf()`\n",
    "\n",
    "- `paste()` 函數的強化版\n",
    "- `sprintf(...)`\n",
    "\n",
    "```r\n",
    "favorite_food <- \"sandwich\"\n",
    "# 印出 My favorite food is sandwich.\n",
    "```"
   ]
  },
  {
   "cell_type": "code",
   "execution_count": 47,
   "metadata": {
    "collapsed": false,
    "slideshow": {
     "slide_type": "subslide"
    }
   },
   "outputs": [
    {
     "data": {
      "text/html": [
       "'My favorite food is sandwich.'"
      ],
      "text/latex": [
       "'My favorite food is sandwich.'"
      ],
      "text/markdown": [
       "'My favorite food is sandwich.'"
      ],
      "text/plain": [
       "[1] \"My favorite food is sandwich.\""
      ]
     },
     "metadata": {},
     "output_type": "display_data"
    }
   ],
   "source": [
    "# sprintf(...)\n",
    "\n",
    "favorite_food <- \"sandwich\"\n",
    "sprintf(\"My favorite food is %s.\", favorite_food)"
   ]
  },
  {
   "cell_type": "markdown",
   "metadata": {},
   "source": [
    "## 練習\n",
    "\n",
    "- `%s` 放置字元、`%d` 放置數字\n",
    "- 印出 I can easily have 3 sandwiches a day.\n",
    "\n",
    "```r\n",
    "favorite_food <- \"sandwiches\"\n",
    "how_many <- 3\n",
    "sprintf(\"I can easily have ____ ____ a day.\", ____, ____)\n",
    "```"
   ]
  },
  {
   "cell_type": "markdown",
   "metadata": {
    "slideshow": {
     "slide_type": "slide"
    }
   },
   "source": [
    "## `toupper()`\n",
    "\n",
    "- 將文字全部轉換為大寫\n",
    "- `toupper(x)`\n",
    "\n",
    "```r\n",
    "a_sentence <- \"How you doing?\"\n",
    "# 將 a_sentence 全部轉換為大寫\n",
    "```"
   ]
  },
  {
   "cell_type": "code",
   "execution_count": 7,
   "metadata": {
    "collapsed": false,
    "slideshow": {
     "slide_type": "subslide"
    }
   },
   "outputs": [
    {
     "data": {
      "text/html": [
       "'HOW YOU DOING?'"
      ],
      "text/latex": [
       "'HOW YOU DOING?'"
      ],
      "text/markdown": [
       "'HOW YOU DOING?'"
      ],
      "text/plain": [
       "[1] \"HOW YOU DOING?\""
      ]
     },
     "metadata": {},
     "output_type": "display_data"
    }
   ],
   "source": [
    "# toupper(x)\n",
    "\n",
    "a_sentence <- \"How you doing?\"\n",
    "toupper(a_sentence)"
   ]
  },
  {
   "cell_type": "markdown",
   "metadata": {
    "slideshow": {
     "slide_type": "slide"
    }
   },
   "source": [
    "## `tolower()`\n",
    "\n",
    "- 將文字全部轉換為小寫\n",
    "- `tolower(x)`\n",
    "\n",
    "```r\n",
    "a_sentence <- \"How you doing?\"\n",
    "# 將 a_sentence 全部轉換為小寫\n",
    "```"
   ]
  },
  {
   "cell_type": "code",
   "execution_count": 8,
   "metadata": {
    "collapsed": false,
    "slideshow": {
     "slide_type": "subslide"
    }
   },
   "outputs": [
    {
     "data": {
      "text/html": [
       "'how you doing?'"
      ],
      "text/latex": [
       "'how you doing?'"
      ],
      "text/markdown": [
       "'how you doing?'"
      ],
      "text/plain": [
       "[1] \"how you doing?\""
      ]
     },
     "metadata": {},
     "output_type": "display_data"
    }
   ],
   "source": [
    "# tolower(x)\n",
    "\n",
    "a_sentence <- \"How you doing?\"\n",
    "tolower(a_sentence)"
   ]
  },
  {
   "cell_type": "markdown",
   "metadata": {
    "slideshow": {
     "slide_type": "slide"
    }
   },
   "source": [
    "## `substr()`\n",
    "\n",
    "- 擷取文字的某個部分\n",
    "- `substr(x, start = , stop = )`\n",
    "\n",
    "```r\n",
    "my_favorite_character <- \"Chandler Bing\"\n",
    "# 透過 substr() 分別擷取出姓、名\n",
    "```"
   ]
  },
  {
   "cell_type": "code",
   "execution_count": 3,
   "metadata": {
    "collapsed": false,
    "slideshow": {
     "slide_type": "subslide"
    }
   },
   "outputs": [
    {
     "data": {
      "text/html": [
       "'Chandler'"
      ],
      "text/latex": [
       "'Chandler'"
      ],
      "text/markdown": [
       "'Chandler'"
      ],
      "text/plain": [
       "[1] \"Chandler\""
      ]
     },
     "metadata": {},
     "output_type": "display_data"
    },
    {
     "data": {
      "text/html": [
       "'Bing'"
      ],
      "text/latex": [
       "'Bing'"
      ],
      "text/markdown": [
       "'Bing'"
      ],
      "text/plain": [
       "[1] \"Bing\""
      ]
     },
     "metadata": {},
     "output_type": "display_data"
    }
   ],
   "source": [
    "# substr(x, start = , stop = )\n",
    "\n",
    "a_favorite_character <- \"Chandler Bing\"\n",
    "his_first_name <- substr(a_favorite_character, start = 1, stop = 8)\n",
    "his_last_name <- substr(a_favorite_character, start = 10, stop = 13)\n",
    "his_first_name\n",
    "his_last_name"
   ]
  },
  {
   "cell_type": "markdown",
   "metadata": {
    "slideshow": {
     "slide_type": "subslide"
    }
   },
   "source": [
    "## 練習\n",
    "\n",
    "```r\n",
    "another_favorite_character <- \"Phoebe Buffay\"\n",
    "her_first_name <- substr(____, start = ____, stop = ____)\n",
    "her_last_name <- substr(____, start = ____, stop = ____)\n",
    "her_first_name\n",
    "her_last_name\n",
    "```"
   ]
  },
  {
   "cell_type": "markdown",
   "metadata": {
    "slideshow": {
     "slide_type": "slide"
    }
   },
   "source": [
    "## `strsplit()`\n",
    "\n",
    "- 將一個文字依照分隔符號（split）拆開為數個文字\n",
    "- `strsplit(x, split = )`\n",
    "\n",
    "```r\n",
    "a_sentence <- \"How you doing?\"\n",
    "# 依照空格拆成三個文字\n",
    "```"
   ]
  },
  {
   "cell_type": "code",
   "execution_count": 9,
   "metadata": {
    "collapsed": false,
    "slideshow": {
     "slide_type": "subslide"
    }
   },
   "outputs": [
    {
     "data": {
      "text/html": [
       "<ol>\n",
       "\t<li><ol class=list-inline>\n",
       "\t<li>'How'</li>\n",
       "\t<li>'you'</li>\n",
       "\t<li>'doing?'</li>\n",
       "</ol>\n",
       "</li>\n",
       "</ol>\n"
      ],
      "text/latex": [
       "\\begin{enumerate}\n",
       "\\item \\begin{enumerate*}\n",
       "\\item 'How'\n",
       "\\item 'you'\n",
       "\\item 'doing?'\n",
       "\\end{enumerate*}\n",
       "\n",
       "\\end{enumerate}\n"
      ],
      "text/markdown": [
       "1. 1. 'How'\n",
       "2. 'you'\n",
       "3. 'doing?'\n",
       "\n",
       "\n",
       "\n",
       "\n",
       "\n"
      ],
      "text/plain": [
       "[[1]]\n",
       "[1] \"How\"    \"you\"    \"doing?\"\n"
      ]
     },
     "metadata": {},
     "output_type": "display_data"
    }
   ],
   "source": [
    "# strsplit(x, split = )\n",
    "\n",
    "a_sentence <- \"How you doing?\"\n",
    "strsplit(a_sentence, split = \" \")"
   ]
  },
  {
   "cell_type": "markdown",
   "metadata": {
    "slideshow": {
     "slide_type": "subslide"
    }
   },
   "source": [
    "## 練習\n",
    "\n",
    "```r\n",
    "another_sentence <- \"We,were,on,a,break!\"\n",
    "strsplit(____, split = ____)\n",
    "```"
   ]
  },
  {
   "cell_type": "markdown",
   "metadata": {
    "slideshow": {
     "slide_type": "slide"
    }
   },
   "source": [
    "## `grep()`\n",
    "\n",
    "- 尋找文字中的指定特徵並回傳索引值\n",
    "- `grep(pattern = , x, fixed = TRUE)`\n",
    "\n",
    "```r\n",
    "a_sentence <- c(\"We\", \"were\", \"on\", \"a\", \"break!\")\n",
    "# 尋找 were、on 與 hello\n",
    "```"
   ]
  },
  {
   "cell_type": "code",
   "execution_count": 15,
   "metadata": {
    "collapsed": false,
    "slideshow": {
     "slide_type": "subslide"
    }
   },
   "outputs": [
    {
     "data": {
      "text/html": [
       "2"
      ],
      "text/latex": [
       "2"
      ],
      "text/markdown": [
       "2"
      ],
      "text/plain": [
       "[1] 2"
      ]
     },
     "metadata": {},
     "output_type": "display_data"
    },
    {
     "data": {
      "text/html": [
       "3"
      ],
      "text/latex": [
       "3"
      ],
      "text/markdown": [
       "3"
      ],
      "text/plain": [
       "[1] 3"
      ]
     },
     "metadata": {},
     "output_type": "display_data"
    },
    {
     "data": {
      "text/html": [],
      "text/latex": [],
      "text/markdown": [],
      "text/plain": [
       "integer(0)"
      ]
     },
     "metadata": {},
     "output_type": "display_data"
    }
   ],
   "source": [
    "# grep(pattern = , x, fixed = TRUE)\n",
    "\n",
    "a_sentence <- c(\"We\", \"were\", \"on\", \"a\", \"break!\")\n",
    "grep(pattern = \"were\", a_sentence, fixed = TRUE)\n",
    "grep(pattern = \"on\", a_sentence, fixed = TRUE)\n",
    "grep(pattern = \"hello\", a_sentence, fixed = TRUE) # 找不到回傳 integer(0)"
   ]
  },
  {
   "cell_type": "markdown",
   "metadata": {
    "slideshow": {
     "slide_type": "subslide"
    }
   },
   "source": [
    "## 練習\n",
    "\n",
    "```r\n",
    "a_sentence <- c(\"Joey\", \"doesn't\", \"share\", \"food!\")\n",
    "# 尋找 share\n",
    "grep(pattern = ____, ____, fixed = TRUE)\n",
    "# 尋找 FOOD\n",
    "grep(pattern = \"FOOD\", ____, fixed = TRUE)\n",
    "```"
   ]
  },
  {
   "cell_type": "markdown",
   "metadata": {
    "slideshow": {
     "slide_type": "slide"
    }
   },
   "source": [
    "## `sub()`\n",
    "\n",
    "- 尋找文字中的指定特徵並取代第一個為指定文字\n",
    "- `sub(pattern = , replacement = , x, fixed = TRUE)`\n",
    "\n",
    "```r\n",
    "a_sentence <- \"Smelly cat, smelly cat, what are they feeding you?\"\n",
    "# 將第一個 cat 取代為 dog\n",
    "```"
   ]
  },
  {
   "cell_type": "code",
   "execution_count": 25,
   "metadata": {
    "collapsed": false,
    "slideshow": {
     "slide_type": "subslide"
    }
   },
   "outputs": [
    {
     "data": {
      "text/html": [
       "'Smelly dog, smelly cat, what are they feeding you?'"
      ],
      "text/latex": [
       "'Smelly dog, smelly cat, what are they feeding you?'"
      ],
      "text/markdown": [
       "'Smelly dog, smelly cat, what are they feeding you?'"
      ],
      "text/plain": [
       "[1] \"Smelly dog, smelly cat, what are they feeding you?\""
      ]
     },
     "metadata": {},
     "output_type": "display_data"
    }
   ],
   "source": [
    "# sub(pattern = , replacement = , x, fixed = TRUE)\n",
    "\n",
    "a_sentence <- \"Smelly cat, smelly cat, what are they feeding you?\"\n",
    "sub(pattern = \"cat\", replacement = \"dog\", a_sentence, fixed = TRUE)"
   ]
  },
  {
   "cell_type": "markdown",
   "metadata": {
    "slideshow": {
     "slide_type": "slide"
    }
   },
   "source": [
    "## `gsub()`\n",
    "\n",
    "- 尋找文字中的指定特徵並全部取代為指定文字\n",
    "- `gsub(pattern = , replacement = , x, fixed = TRUE)`\n",
    "\n",
    "```r\n",
    "a_sentence <- \"Smelly cat, smelly cat, what are they feeding you?\"\n",
    "# 將全部的 cat 取代為 dog\n",
    "```"
   ]
  },
  {
   "cell_type": "code",
   "execution_count": 26,
   "metadata": {
    "collapsed": false,
    "slideshow": {
     "slide_type": "subslide"
    }
   },
   "outputs": [
    {
     "data": {
      "text/html": [
       "'Smelly dog, smelly dog, what are they feeding you?'"
      ],
      "text/latex": [
       "'Smelly dog, smelly dog, what are they feeding you?'"
      ],
      "text/markdown": [
       "'Smelly dog, smelly dog, what are they feeding you?'"
      ],
      "text/plain": [
       "[1] \"Smelly dog, smelly dog, what are they feeding you?\""
      ]
     },
     "metadata": {},
     "output_type": "display_data"
    }
   ],
   "source": [
    "# gsub(pattern = , replacement = , x, fixed = TRUE)\n",
    "\n",
    "a_sentence <- \"Smelly cat, smelly cat, what are they feeding you?\"\n",
    "gsub(pattern = \"cat\", replacement = \"dog\", a_sentence, fixed = TRUE)"
   ]
  },
  {
   "cell_type": "markdown",
   "metadata": {
    "slideshow": {
     "slide_type": "subslide"
    }
   },
   "source": [
    "## 練習\n",
    "\n",
    "- 將 hamburger 取代為 sandwich\n",
    "\n",
    "```r\n",
    "a_sentence <- \"You threw my hamburger away. My hamburger? My hamburger?\"\n",
    "gsub(pattern = ____, replacement = ____, a_sentence, fixed = TRUE)\n",
    "```"
   ]
  }
 ],
 "metadata": {
  "celltoolbar": "Slideshow",
  "kernelspec": {
   "display_name": "R",
   "language": "R",
   "name": "ir"
  },
  "language_info": {
   "codemirror_mode": "r",
   "file_extension": ".r",
   "mimetype": "text/x-r-source",
   "name": "R",
   "pygments_lexer": "r",
   "version": "3.4.0"
  }
 },
 "nbformat": 4,
 "nbformat_minor": 2
}

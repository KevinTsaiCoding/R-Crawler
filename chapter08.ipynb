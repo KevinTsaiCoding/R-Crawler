{
 "cells": [
  {
   "cell_type": "markdown",
   "metadata": {
    "slideshow": {
     "slide_type": "slide"
    }
   },
   "source": [
    "# 爬蟲練習\n",
    "\n",
    "## 郭耀仁"
   ]
  },
  {
   "cell_type": "markdown",
   "metadata": {
    "slideshow": {
     "slide_type": "slide"
    }
   },
   "source": [
    "## 批踢踢實業坊\n",
    "\n",
    "- 熱門看板\n",
    "- 一般看板\n",
    "- 十八禁看板"
   ]
  },
  {
   "cell_type": "markdown",
   "metadata": {
    "slideshow": {
     "slide_type": "slide"
    }
   },
   "source": [
    "## 熱門看板\n",
    "\n",
    "- 網址：<https://www.ptt.cc/bbs/hotboards.html>\n",
    "- 先練習將第一欄：版名抓出來"
   ]
  },
  {
   "cell_type": "code",
   "execution_count": 1,
   "metadata": {
    "collapsed": false,
    "slideshow": {
     "slide_type": "-"
    }
   },
   "outputs": [
    {
     "name": "stderr",
     "output_type": "stream",
     "text": [
      "Loading required package: xml2\n"
     ]
    },
    {
     "data": {
      "text/html": [
       "<ol class=list-inline>\n",
       "\t<li>'NBA'</li>\n",
       "\t<li>'Gossiping'</li>\n",
       "\t<li>'Baseball'</li>\n",
       "\t<li>'C_Chat'</li>\n",
       "\t<li>'LoL'</li>\n",
       "\t<li>'sex'</li>\n",
       "</ol>\n"
      ],
      "text/latex": [
       "\\begin{enumerate*}\n",
       "\\item 'NBA'\n",
       "\\item 'Gossiping'\n",
       "\\item 'Baseball'\n",
       "\\item 'C\\_Chat'\n",
       "\\item 'LoL'\n",
       "\\item 'sex'\n",
       "\\end{enumerate*}\n"
      ],
      "text/markdown": [
       "1. 'NBA'\n",
       "2. 'Gossiping'\n",
       "3. 'Baseball'\n",
       "4. 'C_Chat'\n",
       "5. 'LoL'\n",
       "6. 'sex'\n",
       "\n",
       "\n"
      ],
      "text/plain": [
       "[1] \"NBA\"       \"Gossiping\" \"Baseball\"  \"C_Chat\"    \"LoL\"       \"sex\"      "
      ]
     },
     "metadata": {},
     "output_type": "display_data"
    },
    {
     "data": {
      "text/html": [
       "128"
      ],
      "text/latex": [
       "128"
      ],
      "text/markdown": [
       "128"
      ],
      "text/plain": [
       "[1] 128"
      ]
     },
     "metadata": {},
     "output_type": "display_data"
    }
   ],
   "source": [
    "library(rvest)\n",
    "\n",
    "url <- \"https://www.ptt.cc/bbs/hotboards.html\"\n",
    "raw_html <- read_html(url)\n",
    "board_css <- \".board-name\"\n",
    "boards <- raw_html %>%\n",
    "    html_nodes(css = board_css) %>%\n",
    "    html_text()\n",
    "head(boards)\n",
    "length(boards)"
   ]
  },
  {
   "cell_type": "markdown",
   "metadata": {
    "slideshow": {
     "slide_type": "subslide"
    }
   },
   "source": [
    "## 熱門看板（2）\n",
    "\n",
    "- 練習將第二欄：人氣抓出來\n",
    "\n",
    "```r\n",
    "library(rvest)\n",
    "\n",
    "url <- \"https://www.ptt.cc/bbs/hotboards.html\"\n",
    "raw_html <- read_html(url)\n",
    "viewer_css <- \"___\"\n",
    "viewers <- raw_html %>%\n",
    "    html_nodes(css = viewer_css) %>%\n",
    "    html_text()\n",
    "head(viewers)\n",
    "length(viewers)\n",
    "```"
   ]
  },
  {
   "cell_type": "markdown",
   "metadata": {
    "slideshow": {
     "slide_type": "subslide"
    }
   },
   "source": [
    "## 熱門看板（3）\n",
    "\n",
    "- 是否覺得跟第一個欄位的程式很像？\n",
    "- 我們只需要更換 CSS Selector 或 XPath 而已\n",
    "- 寫在 for 迴圈裡面，然後用一個函數包起來："
   ]
  },
  {
   "cell_type": "code",
   "execution_count": 2,
   "metadata": {
    "collapsed": true
   },
   "outputs": [],
   "source": [
    "library(rvest)\n",
    "\n",
    "ptt_hot_boards_crawler <- function(){\n",
    "  url <- \"https://www.ptt.cc/bbs/hotboards.html\"\n",
    "  raw_html <- read_html(url)\n",
    "  \n",
    "  board_xpath <- \"//a[@class='board']/div[@class='board-name']\"\n",
    "  viewers_xpath <- \"//a[@class='board']/div[@class='board-nuser']/span\"\n",
    "  category_xpath <- \"//a[@class='board']/div[@class='board-class']\"\n",
    "  title_xpath <- \"//a[@class='board']/div[@class='board-title']\"\n",
    "  \n",
    "  hot_boards_columns <- list()\n",
    "  columns <- c(board_xpath, viewers_xpath, category_xpath, title_xpath)\n",
    "  \n",
    "  for (i in 1:length(columns)){\n",
    "    content <- raw_html %>%\n",
    "      html_nodes(xpath = columns[i]) %>%\n",
    "      html_text()\n",
    "    hot_boards_columns[[i]] <- content\n",
    "  }\n",
    "  names(hot_boards_columns) <- c(\"board\", \"viewers\", \"category\", \"title\")\n",
    "  return(hot_boards_columns)\n",
    "}"
   ]
  },
  {
   "cell_type": "markdown",
   "metadata": {
    "slideshow": {
     "slide_type": "subslide"
    }
   },
   "source": [
    "## 熱門看板（4）\n",
    "\n",
    "- `ptt_hot_boards_cralwer()` 函數不需要輸入，可以直接呼叫\n",
    "- 輸入是一個元素有命名清單（list）"
   ]
  },
  {
   "cell_type": "code",
   "execution_count": 3,
   "metadata": {
    "collapsed": false
   },
   "outputs": [
    {
     "data": {
      "text/html": [
       "<ol class=list-inline>\n",
       "\t<li>'NBA'</li>\n",
       "\t<li>'Gossiping'</li>\n",
       "\t<li>'Baseball'</li>\n",
       "\t<li>'C_Chat'</li>\n",
       "\t<li>'LoL'</li>\n",
       "\t<li>'sex'</li>\n",
       "</ol>\n"
      ],
      "text/latex": [
       "\\begin{enumerate*}\n",
       "\\item 'NBA'\n",
       "\\item 'Gossiping'\n",
       "\\item 'Baseball'\n",
       "\\item 'C\\_Chat'\n",
       "\\item 'LoL'\n",
       "\\item 'sex'\n",
       "\\end{enumerate*}\n"
      ],
      "text/markdown": [
       "1. 'NBA'\n",
       "2. 'Gossiping'\n",
       "3. 'Baseball'\n",
       "4. 'C_Chat'\n",
       "5. 'LoL'\n",
       "6. 'sex'\n",
       "\n",
       "\n"
      ],
      "text/plain": [
       "[1] \"NBA\"       \"Gossiping\" \"Baseball\"  \"C_Chat\"    \"LoL\"       \"sex\"      "
      ]
     },
     "metadata": {},
     "output_type": "display_data"
    },
    {
     "data": {
      "text/html": [
       "<ol class=list-inline>\n",
       "\t<li>'29451'</li>\n",
       "\t<li>'11501'</li>\n",
       "\t<li>'2379'</li>\n",
       "\t<li>'2139'</li>\n",
       "\t<li>'1696'</li>\n",
       "\t<li>'1618'</li>\n",
       "</ol>\n"
      ],
      "text/latex": [
       "\\begin{enumerate*}\n",
       "\\item '29451'\n",
       "\\item '11501'\n",
       "\\item '2379'\n",
       "\\item '2139'\n",
       "\\item '1696'\n",
       "\\item '1618'\n",
       "\\end{enumerate*}\n"
      ],
      "text/markdown": [
       "1. '29451'\n",
       "2. '11501'\n",
       "3. '2379'\n",
       "4. '2139'\n",
       "5. '1696'\n",
       "6. '1618'\n",
       "\n",
       "\n"
      ],
      "text/plain": [
       "[1] \"29451\" \"11501\" \"2379\"  \"2139\"  \"1696\"  \"1618\" "
      ]
     },
     "metadata": {},
     "output_type": "display_data"
    },
    {
     "data": {
      "text/html": [
       "<ol class=list-inline>\n",
       "\t<li>'籃球'</li>\n",
       "\t<li>'綜合'</li>\n",
       "\t<li>'棒球'</li>\n",
       "\t<li>'聊天'</li>\n",
       "\t<li>'遊戲'</li>\n",
       "\t<li>'男女'</li>\n",
       "</ol>\n"
      ],
      "text/latex": [
       "\\begin{enumerate*}\n",
       "\\item '籃球'\n",
       "\\item '綜合'\n",
       "\\item '棒球'\n",
       "\\item '聊天'\n",
       "\\item '遊戲'\n",
       "\\item '男女'\n",
       "\\end{enumerate*}\n"
      ],
      "text/markdown": [
       "1. '籃球'\n",
       "2. '綜合'\n",
       "3. '棒球'\n",
       "4. '聊天'\n",
       "5. '遊戲'\n",
       "6. '男女'\n",
       "\n",
       "\n"
      ],
      "text/plain": [
       "[1] \"籃球\" \"綜合\" \"棒球\" \"聊天\" \"遊戲\" \"男女\""
      ]
     },
     "metadata": {},
     "output_type": "display_data"
    },
    {
     "data": {
      "text/html": [
       "<ol class=list-inline>\n",
       "\t<li>'◎[NBA] 6/10 9:00 Final G4'</li>\n",
       "\t<li>'◎這裡是溫馨八卦版'</li>\n",
       "\t<li>'◎[棒球] Yoh回札幌 中職兩地開戰'</li>\n",
       "\t<li>'◎[希洽] 2016希洽人氣動畫提名中！'</li>\n",
       "\t<li>'◎[LoL] 置底不限制他板難民進駐'</li>\n",
       "\t<li>'◎[西斯] 端午徵文活動快截止嚕 ~'</li>\n",
       "</ol>\n"
      ],
      "text/latex": [
       "\\begin{enumerate*}\n",
       "\\item '◎{[}NBA{]} 6/10 9:00 Final G4'\n",
       "\\item '◎這裡是溫馨八卦版'\n",
       "\\item '◎{[}棒球{]} Yoh回札幌 中職兩地開戰'\n",
       "\\item '◎{[}希洽{]} 2016希洽人氣動畫提名中！'\n",
       "\\item '◎{[}LoL{]} 置底不限制他板難民進駐'\n",
       "\\item '◎{[}西斯{]} 端午徵文活動快截止嚕 \\textasciitilde{}'\n",
       "\\end{enumerate*}\n"
      ],
      "text/markdown": [
       "1. '◎[NBA] 6/10 9:00 Final G4'\n",
       "2. '◎這裡是溫馨八卦版'\n",
       "3. '◎[棒球] Yoh回札幌 中職兩地開戰'\n",
       "4. '◎[希洽] 2016希洽人氣動畫提名中！'\n",
       "5. '◎[LoL] 置底不限制他板難民進駐'\n",
       "6. '◎[西斯] 端午徵文活動快截止嚕 ~'\n",
       "\n",
       "\n"
      ],
      "text/plain": [
       "[1] \"◎[NBA] 6/10 9:00 Final G4\"        \"◎這裡是溫馨八卦版\"               \n",
       "[3] \"◎[棒球] Yoh回札幌 中職兩地開戰\"   \"◎[希洽] 2016希洽人氣動畫提名中！\"\n",
       "[5] \"◎[LoL] 置底不限制他板難民進駐\"    \"◎[西斯] 端午徵文活動快截止嚕 ~\"  "
      ]
     },
     "metadata": {},
     "output_type": "display_data"
    }
   ],
   "source": [
    "current_ptt_hot_boards <- ptt_hot_boards_crawler()\n",
    "head(current_ptt_hot_boards$board)\n",
    "head(current_ptt_hot_boards$viewers)\n",
    "head(current_ptt_hot_boards$category)\n",
    "head(current_ptt_hot_boards$title)"
   ]
  },
  {
   "cell_type": "markdown",
   "metadata": {
    "slideshow": {
     "slide_type": "subslide"
    }
   },
   "source": [
    "## 熱門看板（5）\n",
    "\n",
    "- 練習將熱門看板的連結抓出來\n",
    "- 提示：\n",
    "    - css selector 改用 `.board`\n",
    "    - 改用 `html_attr(\"href\")` 而非 `html_text()`"
   ]
  },
  {
   "cell_type": "markdown",
   "metadata": {
    "slideshow": {
     "slide_type": "slide"
    }
   },
   "source": [
    "## 一般看板\n",
    "\n",
    "- 以 NBA 為例：<https://www.ptt.cc/bbs/NBA/index.html>\n",
    "- 要怎麼將一整頁的文章內容都抓出來呢？"
   ]
  },
  {
   "cell_type": "markdown",
   "metadata": {
    "slideshow": {
     "slide_type": "subslide"
    }
   },
   "source": [
    "## 一般看板（2）\n",
    "\n",
    "- 先把看得到的抓出來：\n",
    "    - 推文數\n",
    "    - 文章標題\n",
    "    - ID"
   ]
  },
  {
   "cell_type": "code",
   "execution_count": 4,
   "metadata": {
    "collapsed": true
   },
   "outputs": [],
   "source": [
    "library(rvest)\n",
    "\n",
    "url <- \"https://www.ptt.cc/bbs/NBA/index.html\"\n",
    "raw_html <- read_html(url)\n",
    "\n",
    "nrec_xpath <- \"//div[@class='nrec']\"\n",
    "title_xpath <- \"//div[@class='title']\"\n",
    "id_xpath <- \"//div[@class='meta']/div[@class='author']\"\n",
    "\n",
    "article_info <- list()\n",
    "columns <- c(nrec_xpath, title_xpath, id_xpath)\n",
    "\n",
    "for (i in 1:length(columns)){\n",
    "  content <- raw_html %>%\n",
    "    html_nodes(xpath = columns[i]) %>%\n",
    "    html_text()\n",
    "  article_info[[i]] <- content\n",
    "}\n",
    "\n",
    "names(article_info) <- c(\"nrec\", \"title\", \"author_id\")"
   ]
  },
  {
   "cell_type": "markdown",
   "metadata": {
    "slideshow": {
     "slide_type": "subslide"
    }
   },
   "source": [
    "## 一般看板（3）\n",
    "\n",
    "- 接著我們要清理一下文章標題"
   ]
  },
  {
   "cell_type": "code",
   "execution_count": 5,
   "metadata": {
    "collapsed": false
   },
   "outputs": [
    {
     "data": {
      "text/html": [
       "<ol class=list-inline>\n",
       "\t<li>'\\n\\t\\t\\t\\n\\t\\t\\t\\t[討論] 騎士穩贏了\\n\\t\\t\\t\\n\\t\\t\\t'</li>\n",
       "\t<li>'\\n\\t\\t\\t\\n\\t\\t\\t\\t[討論] 76人是不是2019年要起飛了？\\n\\t\\t\\t\\n\\t\\t\\t'</li>\n",
       "\t<li>'\\n\\t\\t\\t\\n\\t\\t\\t\\t[討論] 這場騎士的精彩鏡頭要怎麼放？\\n\\t\\t\\t\\n\\t\\t\\t'</li>\n",
       "\t<li>'\\n\\t\\t\\t\\n\\t\\t\\t\\t(本文已被刪除) [kimibear]\\n\\t\\t\\t\\n\\t\\t\\t'</li>\n",
       "\t<li>'\\n\\t\\t\\t\\n\\t\\t\\t\\t[討論] 柯鋁484只會打順風球?\\n\\t\\t\\t\\n\\t\\t\\t'</li>\n",
       "\t<li>'\\n\\t\\t\\t\\n\\t\\t\\t\\t裁判是不是真的很會\\n\\t\\t\\t\\n\\t\\t\\t'</li>\n",
       "</ol>\n"
      ],
      "text/latex": [
       "\\begin{enumerate*}\n",
       "\\item '\\textbackslash{}n\\textbackslash{}t\\textbackslash{}t\\textbackslash{}t\\textbackslash{}n\\textbackslash{}t\\textbackslash{}t\\textbackslash{}t\\textbackslash{}t{[}討論{]} 騎士穩贏了\\textbackslash{}n\\textbackslash{}t\\textbackslash{}t\\textbackslash{}t\\textbackslash{}n\\textbackslash{}t\\textbackslash{}t\\textbackslash{}t'\n",
       "\\item '\\textbackslash{}n\\textbackslash{}t\\textbackslash{}t\\textbackslash{}t\\textbackslash{}n\\textbackslash{}t\\textbackslash{}t\\textbackslash{}t\\textbackslash{}t{[}討論{]} 76人是不是2019年要起飛了？\\textbackslash{}n\\textbackslash{}t\\textbackslash{}t\\textbackslash{}t\\textbackslash{}n\\textbackslash{}t\\textbackslash{}t\\textbackslash{}t'\n",
       "\\item '\\textbackslash{}n\\textbackslash{}t\\textbackslash{}t\\textbackslash{}t\\textbackslash{}n\\textbackslash{}t\\textbackslash{}t\\textbackslash{}t\\textbackslash{}t{[}討論{]} 這場騎士的精彩鏡頭要怎麼放？\\textbackslash{}n\\textbackslash{}t\\textbackslash{}t\\textbackslash{}t\\textbackslash{}n\\textbackslash{}t\\textbackslash{}t\\textbackslash{}t'\n",
       "\\item '\\textbackslash{}n\\textbackslash{}t\\textbackslash{}t\\textbackslash{}t\\textbackslash{}n\\textbackslash{}t\\textbackslash{}t\\textbackslash{}t\\textbackslash{}t(本文已被刪除) {[}kimibear{]}\\textbackslash{}n\\textbackslash{}t\\textbackslash{}t\\textbackslash{}t\\textbackslash{}n\\textbackslash{}t\\textbackslash{}t\\textbackslash{}t'\n",
       "\\item '\\textbackslash{}n\\textbackslash{}t\\textbackslash{}t\\textbackslash{}t\\textbackslash{}n\\textbackslash{}t\\textbackslash{}t\\textbackslash{}t\\textbackslash{}t{[}討論{]} 柯鋁484只會打順風球?\\textbackslash{}n\\textbackslash{}t\\textbackslash{}t\\textbackslash{}t\\textbackslash{}n\\textbackslash{}t\\textbackslash{}t\\textbackslash{}t'\n",
       "\\item '\\textbackslash{}n\\textbackslash{}t\\textbackslash{}t\\textbackslash{}t\\textbackslash{}n\\textbackslash{}t\\textbackslash{}t\\textbackslash{}t\\textbackslash{}t裁判是不是真的很會\\textbackslash{}n\\textbackslash{}t\\textbackslash{}t\\textbackslash{}t\\textbackslash{}n\\textbackslash{}t\\textbackslash{}t\\textbackslash{}t'\n",
       "\\end{enumerate*}\n"
      ],
      "text/markdown": [
       "1. '\\n\\t\\t\\t\\n\\t\\t\\t\\t[討論] 騎士穩贏了\\n\\t\\t\\t\\n\\t\\t\\t'\n",
       "2. '\\n\\t\\t\\t\\n\\t\\t\\t\\t[討論] 76人是不是2019年要起飛了？\\n\\t\\t\\t\\n\\t\\t\\t'\n",
       "3. '\\n\\t\\t\\t\\n\\t\\t\\t\\t[討論] 這場騎士的精彩鏡頭要怎麼放？\\n\\t\\t\\t\\n\\t\\t\\t'\n",
       "4. '\\n\\t\\t\\t\\n\\t\\t\\t\\t(本文已被刪除) [kimibear]\\n\\t\\t\\t\\n\\t\\t\\t'\n",
       "5. '\\n\\t\\t\\t\\n\\t\\t\\t\\t[討論] 柯鋁484只會打順風球?\\n\\t\\t\\t\\n\\t\\t\\t'\n",
       "6. '\\n\\t\\t\\t\\n\\t\\t\\t\\t裁判是不是真的很會\\n\\t\\t\\t\\n\\t\\t\\t'\n",
       "\n",
       "\n"
      ],
      "text/plain": [
       "[1] \"\\n\\t\\t\\t\\n\\t\\t\\t\\t[討論] 騎士穩贏了\\n\\t\\t\\t\\n\\t\\t\\t\"                  \n",
       "[2] \"\\n\\t\\t\\t\\n\\t\\t\\t\\t[討論] 76人是不是2019年要起飛了？\\n\\t\\t\\t\\n\\t\\t\\t\"  \n",
       "[3] \"\\n\\t\\t\\t\\n\\t\\t\\t\\t[討論] 這場騎士的精彩鏡頭要怎麼放？\\n\\t\\t\\t\\n\\t\\t\\t\"\n",
       "[4] \"\\n\\t\\t\\t\\n\\t\\t\\t\\t(本文已被刪除) [kimibear]\\n\\t\\t\\t\\n\\t\\t\\t\"          \n",
       "[5] \"\\n\\t\\t\\t\\n\\t\\t\\t\\t[討論] 柯鋁484只會打順風球?\\n\\t\\t\\t\\n\\t\\t\\t\"        \n",
       "[6] \"\\n\\t\\t\\t\\n\\t\\t\\t\\t裁判是不是真的很會\\n\\t\\t\\t\\n\\t\\t\\t\"                 "
      ]
     },
     "metadata": {},
     "output_type": "display_data"
    },
    {
     "data": {
      "text/html": [
       "<ol class=list-inline>\n",
       "\t<li>'[討論] 騎士穩贏了'</li>\n",
       "\t<li>'[討論] 76人是不是2019年要起飛了？'</li>\n",
       "\t<li>'[討論] 這場騎士的精彩鏡頭要怎麼放？'</li>\n",
       "\t<li>'(本文已被刪除) [kimibear]'</li>\n",
       "\t<li>'[討論] 柯鋁484只會打順風球?'</li>\n",
       "\t<li>'裁判是不是真的很會'</li>\n",
       "</ol>\n"
      ],
      "text/latex": [
       "\\begin{enumerate*}\n",
       "\\item '{[}討論{]} 騎士穩贏了'\n",
       "\\item '{[}討論{]} 76人是不是2019年要起飛了？'\n",
       "\\item '{[}討論{]} 這場騎士的精彩鏡頭要怎麼放？'\n",
       "\\item '(本文已被刪除) {[}kimibear{]}'\n",
       "\\item '{[}討論{]} 柯鋁484只會打順風球?'\n",
       "\\item '裁判是不是真的很會'\n",
       "\\end{enumerate*}\n"
      ],
      "text/markdown": [
       "1. '[討論] 騎士穩贏了'\n",
       "2. '[討論] 76人是不是2019年要起飛了？'\n",
       "3. '[討論] 這場騎士的精彩鏡頭要怎麼放？'\n",
       "4. '(本文已被刪除) [kimibear]'\n",
       "5. '[討論] 柯鋁484只會打順風球?'\n",
       "6. '裁判是不是真的很會'\n",
       "\n",
       "\n"
      ],
      "text/plain": [
       "[1] \"[討論] 騎士穩贏了\"                   \"[討論] 76人是不是2019年要起飛了？\"  \n",
       "[3] \"[討論] 這場騎士的精彩鏡頭要怎麼放？\" \"(本文已被刪除) [kimibear]\"          \n",
       "[5] \"[討論] 柯鋁484只會打順風球?\"         \"裁判是不是真的很會\"                 "
      ]
     },
     "metadata": {},
     "output_type": "display_data"
    }
   ],
   "source": [
    "head(article_info$title)\n",
    "head(gsub(pattern = \"\\n\\t+\\n\\t+\", article_info$title, replacement = \"\"))"
   ]
  },
  {
   "cell_type": "markdown",
   "metadata": {
    "slideshow": {
     "slide_type": "subslide"
    }
   },
   "source": [
    "## 一般看板（4）\n",
    "\n",
    "- 隨便點一篇文章進去看\n",
    "- 我們要抓文章的哪些內容？\n",
    "    - 作者\n",
    "    - 標題\n",
    "    - 時間\n",
    "    - 內文\n",
    "    - IP\n",
    "    - 推文標記\n",
    "    - 推文 ID\n",
    "    - 推文內容\n",
    "    - 推文時間"
   ]
  },
  {
   "cell_type": "code",
   "execution_count": 6,
   "metadata": {
    "collapsed": true,
    "slideshow": {
     "slide_type": "subslide"
    }
   },
   "outputs": [],
   "source": [
    "library(rvest)\n",
    "\n",
    "article_detail <- function(url){\n",
    "    raw_html <- read_html(url)\n",
    "    \n",
    "    author_css <- \".article-metaline:nth-child(1) .article-meta-value\"\n",
    "    title_css <- \".article-metaline-right+ .article-metaline .article-meta-value\"\n",
    "    time_css <- \".article-metaline+ .article-metaline .article-meta-value\"\n",
    "    main_content_css <- \"#main-content\"\n",
    "    ip_css <- \".hl+ .f2\"\n",
    "    push_css <- \".push-tag\"\n",
    "    push_id_css <- \".push-userid\"\n",
    "    push_content_css <- \".push-content\"\n",
    "    push_time_css <- \".push-ipdatetime\"\n",
    "    \n",
    "    article_detail_info <- list()\n",
    "    columns <- c(author_css, title_css, time_css, main_content_css, ip_css, push_css, push_id_css, push_content_css, push_time_css)\n",
    "    for (i in 1:length(columns)){\n",
    "        article_content <- raw_html %>%\n",
    "            html_nodes(css = columns[i]) %>%\n",
    "            html_text()\n",
    "        article_detail_info[[i]] <- article_content\n",
    "    }\n",
    "    names(article_detail_info) <- c(\"author\", \"title\", \"time\", \"main_content\", \"ip\", \"push\", \"push_id\", \"push_content\", \"push_time\")\n",
    "    return(article_detail_info)\n",
    "}\n",
    "\n",
    "article_url <- \"https://www.ptt.cc/bbs/NBA/M.1496931569.A.682.html\"\n",
    "nba_article_details <- article_detail(article_url)"
   ]
  },
  {
   "cell_type": "markdown",
   "metadata": {
    "slideshow": {
     "slide_type": "subslide"
    }
   },
   "source": [
    "## 一般看板（5）\n",
    "\n",
    "- 清理內文\n",
    "- 清理IP\n",
    "- 清理推文\n",
    "- 清理推文 ID\n",
    "- 清理推文內容\n",
    "- 清理推文時間"
   ]
  },
  {
   "cell_type": "markdown",
   "metadata": {
    "collapsed": true,
    "slideshow": {
     "slide_type": "subslide"
    }
   },
   "source": [
    "## 一般看板（6）\n",
    "\n",
    "- 清理內文"
   ]
  },
  {
   "cell_type": "code",
   "execution_count": 7,
   "metadata": {
    "collapsed": true
   },
   "outputs": [],
   "source": [
    "nba_article_details$main_content <- nba_article_details$main_content %>%\n",
    "    gsub(pattern = \"\\n\", ., replacement = \"\") %>% # 清理斷行符號\n",
    "    gsub(pattern = \"--.+\", ., replacement = \"\") %>% # 去尾\n",
    "    gsub(pattern = \"作者.+:[0-9]{2}\\\\s[0-9]{4}\", ., replacement = \"\") # 去頭"
   ]
  },
  {
   "cell_type": "markdown",
   "metadata": {
    "slideshow": {
     "slide_type": "subslide"
    }
   },
   "source": [
    "## 一般看板（7）\n",
    "\n",
    "- 清理IP"
   ]
  },
  {
   "cell_type": "code",
   "execution_count": 8,
   "metadata": {
    "collapsed": true
   },
   "outputs": [],
   "source": [
    "ip_start <- regexpr(pattern = \"[0-9]+\", nba_article_details$ip)\n",
    "ip_end <- nchar(nba_article_details$ip)\n",
    "nba_article_details$ip <- substr(nba_article_details$ip, start = ip_start, stop = ip_end)\n",
    "nba_article_details$ip <- gsub(pattern = \"\\n\", nba_article_details$ip, replacement = \"\") # 清理斷行符號"
   ]
  },
  {
   "cell_type": "markdown",
   "metadata": {
    "slideshow": {
     "slide_type": "subslide"
    }
   },
   "source": [
    "## 一般看板（8）\n",
    "\n",
    "- 清理推文\n",
    "- 清理推文 ID\n",
    "- 清理推文內容\n",
    "- 清理推文時間"
   ]
  },
  {
   "cell_type": "code",
   "execution_count": 9,
   "metadata": {
    "collapsed": true
   },
   "outputs": [],
   "source": [
    "nba_article_details$push <- gsub(pattern = \"\\\\s\", nba_article_details$push, replacement = \"\")\n",
    "nba_article_details$push_id <- gsub(pattern = \"\\\\s\", nba_article_details$push_id, replacement = \"\")\n",
    "nba_article_details$push_content <- nba_article_details$push_content %>%\n",
    "    gsub(pattern = \"\\\\s\", ., replacement = \"\") %>%\n",
    "    gsub(pattern = \":\", ., replacement = \"\")\n",
    "nba_article_details$push_time <- nba_article_details$push_time %>%\n",
    "    gsub(pattern = \"^\\\\s\", ., replacement = \"\") %>%\n",
    "    gsub(pattern = \"\\n\", ., replacement = \"\")"
   ]
  },
  {
   "cell_type": "markdown",
   "metadata": {
    "slideshow": {
     "slide_type": "subslide"
    }
   },
   "source": [
    "## 一般看板（8）\n",
    "\n",
    "- 最後我們把清理資料的程式加入原本的 `article_detail()` 函數中"
   ]
  },
  {
   "cell_type": "code",
   "execution_count": 10,
   "metadata": {
    "collapsed": true
   },
   "outputs": [],
   "source": [
    "library(rvest)\n",
    "\n",
    "article_detail <- function(url){\n",
    "    raw_html <- read_html(url)\n",
    "    \n",
    "    author_css <- \".article-metaline:nth-child(1) .article-meta-value\"\n",
    "    title_css <- \".article-metaline-right+ .article-metaline .article-meta-value\"\n",
    "    time_css <- \".article-metaline+ .article-metaline .article-meta-value\"\n",
    "    main_content_css <- \"#main-content\"\n",
    "    ip_css <- \".hl+ .f2\"\n",
    "    push_css <- \".push-tag\"\n",
    "    push_id_css <- \".push-userid\"\n",
    "    push_content_css <- \".push-content\"\n",
    "    push_time_css <- \".push-ipdatetime\"\n",
    "    \n",
    "    article_detail_info <- list()\n",
    "    columns <- c(author_css, title_css, time_css, main_content_css, ip_css, push_css, push_id_css, push_content_css, push_time_css)\n",
    "    for (i in 1:length(columns)){\n",
    "        article_content <- raw_html %>%\n",
    "            html_nodes(css = columns[i]) %>%\n",
    "            html_text()\n",
    "        article_detail_info[[i]] <- article_content\n",
    "    }\n",
    "    \n",
    "    names(article_detail_info) <- c(\"author\", \"title\", \"time\", \"main_content\", \"ip\", \"push\", \"push_id\", \"push_content\", \"push_time\")\n",
    "    \n",
    "    article_detail_info$main_content <- article_detail_info$main_content %>%\n",
    "        gsub(pattern = \"\\n\", ., replacement = \"\") %>% # 清理斷行符號\n",
    "        gsub(pattern = \"--.+\", ., replacement = \"\") %>% # 去尾\n",
    "        gsub(pattern = \"作者.+:[0-9]{2}\\\\s[0-9]{4}\", ., replacement = \"\") # 去頭\n",
    "    ip_start <- regexpr(pattern = \"[0-9]+\", article_detail_info$ip)\n",
    "    ip_end <- nchar(article_detail_info$ip)\n",
    "    article_detail_info$ip <- substr(article_detail_info$ip, start = ip_start, stop = ip_end)\n",
    "    article_detail_info$ip <- gsub(pattern = \"\\n\", article_detail_info$ip, replacement = \"\") # 清理斷行符號\n",
    "    article_detail_info$push <- gsub(pattern = \"\\\\s\", article_detail_info$push, replacement = \"\")\n",
    "    article_detail_info$push_id <- gsub(pattern = \"\\\\s\", article_detail_info$push_id, replacement = \"\")\n",
    "    article_detail_info$push_content <- article_detail_info$push_content %>%\n",
    "        gsub(pattern = \"\\\\s\", ., replacement = \"\") %>%\n",
    "        gsub(pattern = \":\", ., replacement = \"\")\n",
    "    article_detail_info$push_time <- article_detail_info$push_time %>%\n",
    "        gsub(pattern = \"^\\\\s\", ., replacement = \"\") %>%\n",
    "        gsub(pattern = \"\\n\", ., replacement = \"\")\n",
    "    \n",
    "    return(article_detail_info)\n",
    "}"
   ]
  },
  {
   "cell_type": "markdown",
   "metadata": {
    "slideshow": {
     "slide_type": "subslide"
    }
   },
   "source": [
    "## 一般看板（9）\n",
    "\n",
    "- 接著我們回到最新一頁將所有文章連結抓出來"
   ]
  },
  {
   "cell_type": "code",
   "execution_count": 11,
   "metadata": {
    "collapsed": true
   },
   "outputs": [],
   "source": [
    "library(rvest)\n",
    "\n",
    "url <- \"https://www.ptt.cc/bbs/NBA/index.html\"\n",
    "raw_html <- read_html(url)\n",
    "\n",
    "article_link_xpath <- \"//div[@class='title']/a\"\n",
    "article_links <- raw_html %>%\n",
    "    html_nodes(xpath = article_link_xpath) %>%\n",
    "    html_attr(\"href\")"
   ]
  },
  {
   "cell_type": "code",
   "execution_count": 12,
   "metadata": {
    "collapsed": false
   },
   "outputs": [
    {
     "data": {
      "text/html": [
       "<ol class=list-inline>\n",
       "\t<li>'/bbs/NBA/M.1497066810.A.551.html'</li>\n",
       "\t<li>'/bbs/NBA/M.1497066958.A.F6A.html'</li>\n",
       "\t<li>'/bbs/NBA/M.1497066987.A.31C.html'</li>\n",
       "\t<li>'/bbs/NBA/M.1497067000.A.8C5.html'</li>\n",
       "\t<li>'/bbs/NBA/M.1497067017.A.763.html'</li>\n",
       "\t<li>'/bbs/NBA/M.1497067034.A.AC1.html'</li>\n",
       "</ol>\n"
      ],
      "text/latex": [
       "\\begin{enumerate*}\n",
       "\\item '/bbs/NBA/M.1497066810.A.551.html'\n",
       "\\item '/bbs/NBA/M.1497066958.A.F6A.html'\n",
       "\\item '/bbs/NBA/M.1497066987.A.31C.html'\n",
       "\\item '/bbs/NBA/M.1497067000.A.8C5.html'\n",
       "\\item '/bbs/NBA/M.1497067017.A.763.html'\n",
       "\\item '/bbs/NBA/M.1497067034.A.AC1.html'\n",
       "\\end{enumerate*}\n"
      ],
      "text/markdown": [
       "1. '/bbs/NBA/M.1497066810.A.551.html'\n",
       "2. '/bbs/NBA/M.1497066958.A.F6A.html'\n",
       "3. '/bbs/NBA/M.1497066987.A.31C.html'\n",
       "4. '/bbs/NBA/M.1497067000.A.8C5.html'\n",
       "5. '/bbs/NBA/M.1497067017.A.763.html'\n",
       "6. '/bbs/NBA/M.1497067034.A.AC1.html'\n",
       "\n",
       "\n"
      ],
      "text/plain": [
       "[1] \"/bbs/NBA/M.1497066810.A.551.html\" \"/bbs/NBA/M.1497066958.A.F6A.html\"\n",
       "[3] \"/bbs/NBA/M.1497066987.A.31C.html\" \"/bbs/NBA/M.1497067000.A.8C5.html\"\n",
       "[5] \"/bbs/NBA/M.1497067017.A.763.html\" \"/bbs/NBA/M.1497067034.A.AC1.html\""
      ]
     },
     "metadata": {},
     "output_type": "display_data"
    },
    {
     "data": {
      "text/html": [
       "<ol class=list-inline>\n",
       "\t<li>'https://www.ptt.cc/bbs/NBA/M.1497066810.A.551.html'</li>\n",
       "\t<li>'https://www.ptt.cc/bbs/NBA/M.1497066958.A.F6A.html'</li>\n",
       "\t<li>'https://www.ptt.cc/bbs/NBA/M.1497066987.A.31C.html'</li>\n",
       "\t<li>'https://www.ptt.cc/bbs/NBA/M.1497067000.A.8C5.html'</li>\n",
       "\t<li>'https://www.ptt.cc/bbs/NBA/M.1497067017.A.763.html'</li>\n",
       "\t<li>'https://www.ptt.cc/bbs/NBA/M.1497067034.A.AC1.html'</li>\n",
       "</ol>\n"
      ],
      "text/latex": [
       "\\begin{enumerate*}\n",
       "\\item 'https://www.ptt.cc/bbs/NBA/M.1497066810.A.551.html'\n",
       "\\item 'https://www.ptt.cc/bbs/NBA/M.1497066958.A.F6A.html'\n",
       "\\item 'https://www.ptt.cc/bbs/NBA/M.1497066987.A.31C.html'\n",
       "\\item 'https://www.ptt.cc/bbs/NBA/M.1497067000.A.8C5.html'\n",
       "\\item 'https://www.ptt.cc/bbs/NBA/M.1497067017.A.763.html'\n",
       "\\item 'https://www.ptt.cc/bbs/NBA/M.1497067034.A.AC1.html'\n",
       "\\end{enumerate*}\n"
      ],
      "text/markdown": [
       "1. 'https://www.ptt.cc/bbs/NBA/M.1497066810.A.551.html'\n",
       "2. 'https://www.ptt.cc/bbs/NBA/M.1497066958.A.F6A.html'\n",
       "3. 'https://www.ptt.cc/bbs/NBA/M.1497066987.A.31C.html'\n",
       "4. 'https://www.ptt.cc/bbs/NBA/M.1497067000.A.8C5.html'\n",
       "5. 'https://www.ptt.cc/bbs/NBA/M.1497067017.A.763.html'\n",
       "6. 'https://www.ptt.cc/bbs/NBA/M.1497067034.A.AC1.html'\n",
       "\n",
       "\n"
      ],
      "text/plain": [
       "[1] \"https://www.ptt.cc/bbs/NBA/M.1497066810.A.551.html\"\n",
       "[2] \"https://www.ptt.cc/bbs/NBA/M.1497066958.A.F6A.html\"\n",
       "[3] \"https://www.ptt.cc/bbs/NBA/M.1497066987.A.31C.html\"\n",
       "[4] \"https://www.ptt.cc/bbs/NBA/M.1497067000.A.8C5.html\"\n",
       "[5] \"https://www.ptt.cc/bbs/NBA/M.1497067017.A.763.html\"\n",
       "[6] \"https://www.ptt.cc/bbs/NBA/M.1497067034.A.AC1.html\""
      ]
     },
     "metadata": {},
     "output_type": "display_data"
    }
   ],
   "source": [
    "head(article_links) # relative url\n",
    "article_links <- paste(\"https://www.ptt.cc\", article_links, sep = \"\")\n",
    "head(article_links) # absolute url"
   ]
  },
  {
   "cell_type": "markdown",
   "metadata": {
    "slideshow": {
     "slide_type": "subslide"
    }
   },
   "source": [
    "## 一般看板（10）\n",
    "\n",
    "- 一篇文章的詳細內容存在一個清單中\n",
    "- 外面再用一個清單儲存這些清單（Nested lists）"
   ]
  },
  {
   "cell_type": "code",
   "execution_count": 13,
   "metadata": {
    "collapsed": false
   },
   "outputs": [],
   "source": [
    "article_lists <- list()\n",
    "for (i in 1:length(article_links)){\n",
    "    article_lists[[i]] <- article_detail(article_links[i])\n",
    "}"
   ]
  },
  {
   "cell_type": "markdown",
   "metadata": {
    "slideshow": {
     "slide_type": "slide"
    }
   },
   "source": [
    "## 十八禁看板\n",
    "\n",
    "- 十八禁看板會自動跳轉一個確認是否滿十八歲的頁面\n",
    "- 我們以八卦版（Gossiping）為例：<https://www.ptt.cc/bbs/Gossiping/index.html>\n",
    "\n",
    "![](img/ch0801.png)"
   ]
  },
  {
   "cell_type": "markdown",
   "metadata": {
    "slideshow": {
     "slide_type": "subslide"
    }
   },
   "source": [
    "## 十八禁看板（2）\n",
    "\n",
    "- 瀏覽器的 session 會將使用者點選**我同意**的資訊存在 cookie 中\n",
    "- 下載一個 Chrome 外掛來觀察：[EditThisCookie](https://chrome.google.com/webstore/search/editthiscookie?hl=zh-TW)"
   ]
  },
  {
   "cell_type": "markdown",
   "metadata": {
    "slideshow": {
     "slide_type": "subslide"
    }
   },
   "source": [
    "## 十八禁看板（3）\n",
    "\n",
    "- 點選之後就如同進入一般看板\n",
    "- 打開 EditThisCookie 外掛可以看到\n",
    "\n",
    "![](img/ch0802.png)"
   ]
  },
  {
   "cell_type": "markdown",
   "metadata": {
    "slideshow": {
     "slide_type": "subslide"
    }
   },
   "source": [
    "## 十八禁看板（4）\n",
    "\n",
    "- 接著我們按上一頁，再連回八卦版\n",
    "- 這時就沒有跳轉一個確認是否滿十八歲的頁面\n",
    "- 這是因為 cookie（over18 == 1）已經儲存在 session 中的關係"
   ]
  },
  {
   "cell_type": "markdown",
   "metadata": {
    "slideshow": {
     "slide_type": "subslide"
    }
   },
   "source": [
    "## 十八禁看板（5）\n",
    "\n",
    "- 利用 EditThisCookie 將它刪除\n",
    "- 接著我們按上一頁，再連回八卦版\n",
    "- 這時就跟我們先前一樣會跳轉一個確認是否滿十八歲的頁面"
   ]
  },
  {
   "cell_type": "markdown",
   "metadata": {
    "slideshow": {
     "slide_type": "subslide"
    }
   },
   "source": [
    "## 十八禁看板（6）\n",
    "\n",
    "- 回到 R 語言，如果我們將十八禁看板的網址直接傳入\n",
    "- 將會因為跳轉頁面的關係無法到達看板的最新文章頁面"
   ]
  },
  {
   "cell_type": "code",
   "execution_count": 14,
   "metadata": {
    "collapsed": true
   },
   "outputs": [],
   "source": [
    "url <- \"https://www.ptt.cc/bbs/Gossiping/index.html\"\n",
    "ptt_gossiping <- readLines(url)"
   ]
  },
  {
   "cell_type": "markdown",
   "metadata": {
    "slideshow": {
     "slide_type": "subslide"
    }
   },
   "source": [
    "## 十八禁看板（7）\n",
    "\n",
    "- 這時我們要使用 `httr` 套件所提供的 `GET()` 函數幫忙設定 cookie\n",
    "\n",
    "```\n",
    "install.packages(\"httr\")\n",
    "```"
   ]
  },
  {
   "cell_type": "code",
   "execution_count": 15,
   "metadata": {
    "collapsed": true
   },
   "outputs": [],
   "source": [
    "# install.packages(\"httr\")\n",
    "library(httr)\n",
    "\n",
    "url <- \"https://www.ptt.cc/bbs/Gossiping/index.html\"\n",
    "ptt_gossiping <- GET(url, set_cookies(over18 = 1))"
   ]
  },
  {
   "cell_type": "markdown",
   "metadata": {
    "slideshow": {
     "slide_type": "subslide"
    }
   },
   "source": [
    "## 十八禁看板（8）\n",
    "\n",
    "- 在一般看板的程式中加入 `httr` 的 `GET()` 函數即可"
   ]
  },
  {
   "cell_type": "code",
   "execution_count": 16,
   "metadata": {
    "collapsed": true
   },
   "outputs": [],
   "source": [
    "library(rvest)\n",
    "library(httr)\n",
    "\n",
    "ptt_index_crawler <- function(url){\n",
    "    ptt_index_html_doc <- url %>%\n",
    "        GET(set_cookies(over18 = 1)) %>%\n",
    "        read_html()\n",
    "    nrec_xpath <- \"//div[@class='nrec']\"\n",
    "    title_xpath <- \"//div[@class='title']\"\n",
    "    id_xpath <- \"//div[@class='meta']/div[@class='author']\"\n",
    "    article_info <- list()\n",
    "    columns <- c(nrec_xpath, title_xpath, id_xpath)\n",
    "    for (i in 1:length(columns)){\n",
    "        content <- ptt_index_html_doc %>%\n",
    "            html_nodes(xpath = columns[i]) %>%\n",
    "            html_text()\n",
    "        article_info[[i]] <- content\n",
    "    }\n",
    "    names(article_info) <- c(\"nrec\", \"title\", \"author_id\")\n",
    "    article_info$title <- gsub(pattern = \"\\n\\t+\\n\\t+\", article_info$title, replacement = \"\")\n",
    "    return(article_info)\n",
    "}\n",
    "\n",
    "ptt_gossiping_index <- ptt_index_crawler(\"https://www.ptt.cc/bbs/Gossiping/index.html\")\n",
    "ptt_nba_index <- ptt_index_crawler(\"https://www.ptt.cc/bbs/NBA/index.html\")"
   ]
  }
 ],
 "metadata": {
  "celltoolbar": "Slideshow",
  "kernelspec": {
   "display_name": "R",
   "language": "R",
   "name": "ir"
  },
  "language_info": {
   "codemirror_mode": "r",
   "file_extension": ".r",
   "mimetype": "text/x-r-source",
   "name": "R",
   "pygments_lexer": "r",
   "version": "3.4.0"
  }
 },
 "nbformat": 4,
 "nbformat_minor": 2
}

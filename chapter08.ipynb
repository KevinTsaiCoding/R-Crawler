{
 "cells": [
  {
   "cell_type": "markdown",
   "metadata": {
    "slideshow": {
     "slide_type": "slide"
    }
   },
   "source": [
    "# 爬蟲練習\n",
    "\n",
    "## 郭耀仁"
   ]
  },
  {
   "cell_type": "markdown",
   "metadata": {
    "slideshow": {
     "slide_type": "slide"
    }
   },
   "source": [
    "## 批踢踢實業坊\n",
    "\n",
    "- 熱門看板\n",
    "- 一般看板\n",
    "- 十八禁看板"
   ]
  },
  {
   "cell_type": "markdown",
   "metadata": {
    "slideshow": {
     "slide_type": "slide"
    }
   },
   "source": [
    "## 熱門看板\n",
    "\n",
    "- 網址：<https://www.ptt.cc/bbs/hotboards.html>\n",
    "- 先練習將第一欄：版名抓出來"
   ]
  },
  {
   "cell_type": "code",
   "execution_count": 1,
   "metadata": {
    "collapsed": false,
    "slideshow": {
     "slide_type": "-"
    }
   },
   "outputs": [
    {
     "name": "stderr",
     "output_type": "stream",
     "text": [
      "Loading required package: xml2\n"
     ]
    },
    {
     "data": {
      "text/html": [
       "<ol class=list-inline>\n",
       "\t<li>'Gossiping'</li>\n",
       "\t<li>'NBA'</li>\n",
       "\t<li>'LoL'</li>\n",
       "\t<li>'C_Chat'</li>\n",
       "\t<li>'Baseball'</li>\n",
       "\t<li>'Stock'</li>\n",
       "</ol>\n"
      ],
      "text/latex": [
       "\\begin{enumerate*}\n",
       "\\item 'Gossiping'\n",
       "\\item 'NBA'\n",
       "\\item 'LoL'\n",
       "\\item 'C\\_Chat'\n",
       "\\item 'Baseball'\n",
       "\\item 'Stock'\n",
       "\\end{enumerate*}\n"
      ],
      "text/markdown": [
       "1. 'Gossiping'\n",
       "2. 'NBA'\n",
       "3. 'LoL'\n",
       "4. 'C_Chat'\n",
       "5. 'Baseball'\n",
       "6. 'Stock'\n",
       "\n",
       "\n"
      ],
      "text/plain": [
       "[1] \"Gossiping\" \"NBA\"       \"LoL\"       \"C_Chat\"    \"Baseball\"  \"Stock\"    "
      ]
     },
     "metadata": {},
     "output_type": "display_data"
    },
    {
     "data": {
      "text/html": [
       "128"
      ],
      "text/latex": [
       "128"
      ],
      "text/markdown": [
       "128"
      ],
      "text/plain": [
       "[1] 128"
      ]
     },
     "metadata": {},
     "output_type": "display_data"
    }
   ],
   "source": [
    "library(rvest)\n",
    "\n",
    "url <- \"https://www.ptt.cc/bbs/hotboards.html\"\n",
    "raw_html <- read_html(url)\n",
    "board_css <- \".board-name\"\n",
    "boards <- raw_html %>%\n",
    "    html_nodes(css = board_css) %>%\n",
    "    html_text()\n",
    "head(boards)\n",
    "length(boards)"
   ]
  },
  {
   "cell_type": "markdown",
   "metadata": {
    "slideshow": {
     "slide_type": "subslide"
    }
   },
   "source": [
    "## 熱門看板（2）\n",
    "\n",
    "- 練習將第二欄：人氣抓出來"
   ]
  },
  {
   "cell_type": "code",
   "execution_count": null,
   "metadata": {
    "collapsed": true
   },
   "outputs": [],
   "source": [
    "library(rvest)\n",
    "\n",
    "url <- \"https://www.ptt.cc/bbs/hotboards.html\"\n",
    "raw_html <- read_html(url)\n",
    "viewer_css <- \"___\"\n",
    "viewers <- raw_html %>%\n",
    "    html_nodes(css = viewer_css) %>%\n",
    "    html_text()\n",
    "head(viewers)\n",
    "length(viewers)"
   ]
  },
  {
   "cell_type": "markdown",
   "metadata": {
    "slideshow": {
     "slide_type": "subslide"
    }
   },
   "source": [
    "## 熱門看板（3）\n",
    "\n",
    "- 是否覺得跟第一個欄位的程式很像？\n",
    "- 我們只需要更換 CSS Selector 或 XPath 而已\n",
    "- 寫在 for 迴圈裡面，然後用一個函數包起來："
   ]
  },
  {
   "cell_type": "code",
   "execution_count": 6,
   "metadata": {
    "collapsed": true
   },
   "outputs": [],
   "source": [
    "library(rvest)\n",
    "\n",
    "ptt_hot_boards_crawler <- function(){\n",
    "  url <- \"https://www.ptt.cc/bbs/hotboards.html\"\n",
    "  raw_html <- read_html(url)\n",
    "  \n",
    "  board_xpath <- \"//a[@class='board']/div[@class='board-name']\"\n",
    "  viewers_xpath <- \"//a[@class='board']/div[@class='board-nuser']/span\"\n",
    "  category_xpath <- \"//a[@class='board']/div[@class='board-class']\"\n",
    "  title_xpath <- \"//a[@class='board']/div[@class='board-title']\"\n",
    "  \n",
    "  hot_boards_columns <- list()\n",
    "  columns <- c(board_xpath, viewers_xpath, category_xpath, title_xpath)\n",
    "  \n",
    "  for (i in 1:length(columns)){\n",
    "    content <- raw_html %>%\n",
    "      html_nodes(xpath = columns[i]) %>%\n",
    "      html_text()\n",
    "    hot_boards_columns[[i]] <- content\n",
    "  }\n",
    "  names(hot_boards_columns) <- c(\"board\", \"viewers\", \"category\", \"title\")\n",
    "  return(hot_boards_columns)\n",
    "}"
   ]
  },
  {
   "cell_type": "markdown",
   "metadata": {
    "slideshow": {
     "slide_type": "subslide"
    }
   },
   "source": [
    "## 熱門看板（4）\n",
    "\n",
    "- `ptt_hot_boards_cralwer()` 函數不需要輸入，可以直接呼叫\n",
    "- 輸入是一個元素有命名清單（list）"
   ]
  },
  {
   "cell_type": "code",
   "execution_count": 9,
   "metadata": {
    "collapsed": false
   },
   "outputs": [
    {
     "data": {
      "text/html": [
       "<ol class=list-inline>\n",
       "\t<li>'Gossiping'</li>\n",
       "\t<li>'NBA'</li>\n",
       "\t<li>'LoL'</li>\n",
       "\t<li>'C_Chat'</li>\n",
       "\t<li>'Baseball'</li>\n",
       "\t<li>'Stock'</li>\n",
       "</ol>\n"
      ],
      "text/latex": [
       "\\begin{enumerate*}\n",
       "\\item 'Gossiping'\n",
       "\\item 'NBA'\n",
       "\\item 'LoL'\n",
       "\\item 'C\\_Chat'\n",
       "\\item 'Baseball'\n",
       "\\item 'Stock'\n",
       "\\end{enumerate*}\n"
      ],
      "text/markdown": [
       "1. 'Gossiping'\n",
       "2. 'NBA'\n",
       "3. 'LoL'\n",
       "4. 'C_Chat'\n",
       "5. 'Baseball'\n",
       "6. 'Stock'\n",
       "\n",
       "\n"
      ],
      "text/plain": [
       "[1] \"Gossiping\" \"NBA\"       \"LoL\"       \"C_Chat\"    \"Baseball\"  \"Stock\"    "
      ]
     },
     "metadata": {},
     "output_type": "display_data"
    },
    {
     "data": {
      "text/html": [
       "<ol class=list-inline>\n",
       "\t<li>'12952'</li>\n",
       "\t<li>'11695'</li>\n",
       "\t<li>'2830'</li>\n",
       "\t<li>'2453'</li>\n",
       "\t<li>'2330'</li>\n",
       "\t<li>'1700'</li>\n",
       "</ol>\n"
      ],
      "text/latex": [
       "\\begin{enumerate*}\n",
       "\\item '12952'\n",
       "\\item '11695'\n",
       "\\item '2830'\n",
       "\\item '2453'\n",
       "\\item '2330'\n",
       "\\item '1700'\n",
       "\\end{enumerate*}\n"
      ],
      "text/markdown": [
       "1. '12952'\n",
       "2. '11695'\n",
       "3. '2830'\n",
       "4. '2453'\n",
       "5. '2330'\n",
       "6. '1700'\n",
       "\n",
       "\n"
      ],
      "text/plain": [
       "[1] \"12952\" \"11695\" \"2830\"  \"2453\"  \"2330\"  \"1700\" "
      ]
     },
     "metadata": {},
     "output_type": "display_data"
    },
    {
     "data": {
      "text/html": [
       "<ol class=list-inline>\n",
       "\t<li>'綜合'</li>\n",
       "\t<li>'籃球'</li>\n",
       "\t<li>'遊戲'</li>\n",
       "\t<li>'聊天'</li>\n",
       "\t<li>'棒球'</li>\n",
       "\t<li>'學術'</li>\n",
       "</ol>\n"
      ],
      "text/latex": [
       "\\begin{enumerate*}\n",
       "\\item '綜合'\n",
       "\\item '籃球'\n",
       "\\item '遊戲'\n",
       "\\item '聊天'\n",
       "\\item '棒球'\n",
       "\\item '學術'\n",
       "\\end{enumerate*}\n"
      ],
      "text/markdown": [
       "1. '綜合'\n",
       "2. '籃球'\n",
       "3. '遊戲'\n",
       "4. '聊天'\n",
       "5. '棒球'\n",
       "6. '學術'\n",
       "\n",
       "\n"
      ],
      "text/plain": [
       "[1] \"綜合\" \"籃球\" \"遊戲\" \"聊天\" \"棒球\" \"學術\""
      ]
     },
     "metadata": {},
     "output_type": "display_data"
    },
    {
     "data": {
      "text/html": [
       "<ol class=list-inline>\n",
       "\t<li>'◎[八卦] 夏天熱肥宅'</li>\n",
       "\t<li>'◎[NBA]總冠軍賽6/8 9:00 詠琪大戰'</li>\n",
       "\t<li>'◎[LoL] LMS本日補賽進行中'</li>\n",
       "\t<li>'◎[希洽] 2016希洽人氣動畫提名中！'</li>\n",
       "\t<li><span style=white-space:pre-wrap>'◎[棒球] YOH來了   [email protected]/* &lt;![CDATA[ */!function(t,e,r,n,c,a,p){try{t=document.currentScript||function(){for(t=document.getElementsByTagName(\\'script\\'),e=t.length;e--;)if(t[e].getAttribute(\\'data-cfhash\\'))return t[e]}();if(t&amp;&amp;(c=t.previousSibling)){p=t.parentNode;if(a=c.getAttribute(\\'data-cfemail\\')){for(e=\\'\\',r=\\'0x\\'+a.substr(0,2)|0,n=2;a.length-n;n+=2)e+=\\'%\\'+(\\'0\\'+(\\'0x\\'+a.substr(n,2)^r).toString(16)).slice(-2);p.replaceChild(document.createTextNode(decodeURIComponent(e)),c)}p.removeChild(t)}}catch(u){}}()/* ]]&gt; */'</span></li>\n",
       "\t<li>'◎[股板] 徵文比賽中 好文連載中'</li>\n",
       "</ol>\n"
      ],
      "text/latex": [
       "\\begin{enumerate*}\n",
       "\\item '◎{[}八卦{]} 夏天熱肥宅'\n",
       "\\item '◎{[}NBA{]}總冠軍賽6/8 9:00 詠琪大戰'\n",
       "\\item '◎{[}LoL{]} LMS本日補賽進行中'\n",
       "\\item '◎{[}希洽{]} 2016希洽人氣動畫提名中！'\n",
       "\\item '◎{[}棒球{]} YOH來了   {[}email protected{]}/* <!{[}CDATA{[} */!function(t,e,r,n,c,a,p)\\{try\\{t=document.currentScript\\textbar{}\\textbar{}function()\\{for(t=document.getElementsByTagName(\\textbackslash{}'script\\textbackslash{}'),e=t.length;e--;)if(t{[}e{]}.getAttribute(\\textbackslash{}'data-cfhash\\textbackslash{}'))return t{[}e{]}\\}();if(t\\&\\&(c=t.previousSibling))\\{p=t.parentNode;if(a=c.getAttribute(\\textbackslash{}'data-cfemail\\textbackslash{}'))\\{for(e=\\textbackslash{}'\\textbackslash{}',r=\\textbackslash{}'0x\\textbackslash{}'+a.substr(0,2)\\textbar{}0,n=2;a.length-n;n+=2)e+=\\textbackslash{}'\\%\\textbackslash{}'+(\\textbackslash{}'0\\textbackslash{}'+(\\textbackslash{}'0x\\textbackslash{}'+a.substr(n,2)\\textasciicircum{}r).toString(16)).slice(-2);p.replaceChild(document.createTextNode(decodeURIComponent(e)),c)\\}p.removeChild(t)\\}\\}catch(u)\\{\\}\\}()/* {]}{]}> */'\n",
       "\\item '◎{[}股板{]} 徵文比賽中 好文連載中'\n",
       "\\end{enumerate*}\n"
      ],
      "text/markdown": [
       "1. '◎[八卦] 夏天熱肥宅'\n",
       "2. '◎[NBA]總冠軍賽6/8 9:00 詠琪大戰'\n",
       "3. '◎[LoL] LMS本日補賽進行中'\n",
       "4. '◎[希洽] 2016希洽人氣動畫提名中！'\n",
       "5. <span style=white-space:pre-wrap>'◎[棒球] YOH來了   [email protected]/* &lt;![CDATA[ */!function(t,e,r,n,c,a,p){try{t=document.currentScript||function(){for(t=document.getElementsByTagName(\\'script\\'),e=t.length;e--;)if(t[e].getAttribute(\\'data-cfhash\\'))return t[e]}();if(t&amp;&amp;(c=t.previousSibling)){p=t.parentNode;if(a=c.getAttribute(\\'data-cfemail\\')){for(e=\\'\\',r=\\'0x\\'+a.substr(0,2)|0,n=2;a.length-n;n+=2)e+=\\'%\\'+(\\'0\\'+(\\'0x\\'+a.substr(n,2)^r).toString(16)).slice(-2);p.replaceChild(document.createTextNode(decodeURIComponent(e)),c)}p.removeChild(t)}}catch(u){}}()/* ]]&gt; */'</span>\n",
       "6. '◎[股板] 徵文比賽中 好文連載中'\n",
       "\n",
       "\n"
      ],
      "text/plain": [
       "[1] \"◎[八卦] 夏天熱肥宅\"                                                                                                                                                                                                                                                                                                                                                                                                                                                                                                                            \n",
       "[2] \"◎[NBA]總冠軍賽6/8 9:00 詠琪大戰\"                                                                                                                                                                                                                                                                                                                                                                                                                                                                                                               \n",
       "[3] \"◎[LoL] LMS本日補賽進行中\"                                                                                                                                                                                                                                                                                                                                                                                                                                                                                                                      \n",
       "[4] \"◎[希洽] 2016希洽人氣動畫提名中！\"                                                                                                                                                                                                                                                                                                                                                                                                                                                                                                              \n",
       "[5] \"◎[棒球] YOH來了   [email protected]/* <![CDATA[ */!function(t,e,r,n,c,a,p){try{t=document.currentScript||function(){for(t=document.getElementsByTagName('script'),e=t.length;e--;)if(t[e].getAttribute('data-cfhash'))return t[e]}();if(t&&(c=t.previousSibling)){p=t.parentNode;if(a=c.getAttribute('data-cfemail')){for(e='',r='0x'+a.substr(0,2)|0,n=2;a.length-n;n+=2)e+='%'+('0'+('0x'+a.substr(n,2)^r).toString(16)).slice(-2);p.replaceChild(document.createTextNode(decodeURIComponent(e)),c)}p.removeChild(t)}}catch(u){}}()/* ]]> */\"\n",
       "[6] \"◎[股板] 徵文比賽中 好文連載中\"                                                                                                                                                                                                                                                                                                                                                                                                                                                                                                                 "
      ]
     },
     "metadata": {},
     "output_type": "display_data"
    }
   ],
   "source": [
    "current_ptt_hot_boards <- ptt_hot_boards_crawler()\n",
    "head(current_ptt_hot_boards$board)\n",
    "head(current_ptt_hot_boards$viewers)\n",
    "head(current_ptt_hot_boards$category)\n",
    "head(current_ptt_hot_boards$title)"
   ]
  },
  {
   "cell_type": "markdown",
   "metadata": {
    "slideshow": {
     "slide_type": "subslide"
    }
   },
   "source": [
    "## 熱門看板（5）\n",
    "\n",
    "- 練習將熱門看板的連結抓出來\n",
    "- 提示：\n",
    "    - css selector 改用 `.board`\n",
    "    - 改用 `html_attr(\"href\")` 而非 `html_text()`"
   ]
  },
  {
   "cell_type": "markdown",
   "metadata": {
    "slideshow": {
     "slide_type": "slide"
    }
   },
   "source": [
    "## 一般看板\n",
    "\n",
    "- 以 NBA 為例：<https://www.ptt.cc/bbs/NBA/index.html>\n",
    "- 要怎麼將一整頁的文章內容都抓出來呢？"
   ]
  },
  {
   "cell_type": "markdown",
   "metadata": {
    "slideshow": {
     "slide_type": "subslide"
    }
   },
   "source": [
    "## 一般看板（2）\n",
    "\n",
    "- 先把看得到的抓出來：\n",
    "    - 推文數\n",
    "    - 文章標題\n",
    "    - ID"
   ]
  },
  {
   "cell_type": "code",
   "execution_count": 11,
   "metadata": {
    "collapsed": true
   },
   "outputs": [],
   "source": [
    "library(rvest)\n",
    "\n",
    "url <- \"https://www.ptt.cc/bbs/NBA/index.html\"\n",
    "raw_html <- read_html(url)\n",
    "\n",
    "nrec_xpath <- \"//div[@class='nrec']\"\n",
    "title_xpath <- \"//div[@class='title']\"\n",
    "id_xpath <- \"//div[@class='meta']/div[@class='author']\"\n",
    "\n",
    "article_info <- list()\n",
    "columns <- c(nrec_xpath, title_xpath, id_xpath)\n",
    "\n",
    "for (i in 1:length(columns)){\n",
    "  content <- raw_html %>%\n",
    "    html_nodes(xpath = columns[i]) %>%\n",
    "    html_text()\n",
    "  article_info[[i]] <- content\n",
    "}\n",
    "\n",
    "names(article_info) <- c(\"nrec\", \"title\", \"author_id\")"
   ]
  },
  {
   "cell_type": "markdown",
   "metadata": {
    "slideshow": {
     "slide_type": "subslide"
    }
   },
   "source": [
    "## 一般看板（3）\n",
    "\n",
    "- 接著我們要清理一下文章標題"
   ]
  },
  {
   "cell_type": "code",
   "execution_count": 14,
   "metadata": {
    "collapsed": false
   },
   "outputs": [
    {
     "data": {
      "text/html": [
       "<ol class=list-inline>\n",
       "\t<li>'\\n\\t\\t\\t\\n\\t\\t\\t\\t[討論] 是不是明年又要再看一次勇騎大戰?\\n\\t\\t\\t\\n\\t\\t\\t'</li>\n",
       "\t<li>'\\n\\t\\t\\t\\n\\t\\t\\t\\t[討論] 請問關於今年勇士的一個小問題\\n\\t\\t\\t\\n\\t\\t\\t'</li>\n",
       "\t<li>'\\n\\t\\t\\t\\n\\t\\t\\t\\t[討論]騎士最後的犯規時間點\\n\\t\\t\\t\\n\\t\\t\\t'</li>\n",
       "\t<li>'\\n\\t\\t\\t\\n\\t\\t\\t\\t[公告] 板規6.1\\n\\t\\t\\t\\n\\t\\t\\t'</li>\n",
       "\t<li>'\\n\\t\\t\\t\\n\\t\\t\\t\\t[公告] 違規檢舉區\\n\\t\\t\\t\\n\\t\\t\\t'</li>\n",
       "\t<li>'\\n\\t\\t\\t\\n\\t\\t\\t\\t[情報] 2016-2017 總冠軍賽 (6/2 - 6/19)\\n\\t\\t\\t\\n\\t\\t\\t'</li>\n",
       "</ol>\n"
      ],
      "text/latex": [
       "\\begin{enumerate*}\n",
       "\\item '\\textbackslash{}n\\textbackslash{}t\\textbackslash{}t\\textbackslash{}t\\textbackslash{}n\\textbackslash{}t\\textbackslash{}t\\textbackslash{}t\\textbackslash{}t{[}討論{]} 是不是明年又要再看一次勇騎大戰?\\textbackslash{}n\\textbackslash{}t\\textbackslash{}t\\textbackslash{}t\\textbackslash{}n\\textbackslash{}t\\textbackslash{}t\\textbackslash{}t'\n",
       "\\item '\\textbackslash{}n\\textbackslash{}t\\textbackslash{}t\\textbackslash{}t\\textbackslash{}n\\textbackslash{}t\\textbackslash{}t\\textbackslash{}t\\textbackslash{}t{[}討論{]} 請問關於今年勇士的一個小問題\\textbackslash{}n\\textbackslash{}t\\textbackslash{}t\\textbackslash{}t\\textbackslash{}n\\textbackslash{}t\\textbackslash{}t\\textbackslash{}t'\n",
       "\\item '\\textbackslash{}n\\textbackslash{}t\\textbackslash{}t\\textbackslash{}t\\textbackslash{}n\\textbackslash{}t\\textbackslash{}t\\textbackslash{}t\\textbackslash{}t{[}討論{]}騎士最後的犯規時間點\\textbackslash{}n\\textbackslash{}t\\textbackslash{}t\\textbackslash{}t\\textbackslash{}n\\textbackslash{}t\\textbackslash{}t\\textbackslash{}t'\n",
       "\\item '\\textbackslash{}n\\textbackslash{}t\\textbackslash{}t\\textbackslash{}t\\textbackslash{}n\\textbackslash{}t\\textbackslash{}t\\textbackslash{}t\\textbackslash{}t{[}公告{]} 板規6.1\\textbackslash{}n\\textbackslash{}t\\textbackslash{}t\\textbackslash{}t\\textbackslash{}n\\textbackslash{}t\\textbackslash{}t\\textbackslash{}t'\n",
       "\\item '\\textbackslash{}n\\textbackslash{}t\\textbackslash{}t\\textbackslash{}t\\textbackslash{}n\\textbackslash{}t\\textbackslash{}t\\textbackslash{}t\\textbackslash{}t{[}公告{]} 違規檢舉區\\textbackslash{}n\\textbackslash{}t\\textbackslash{}t\\textbackslash{}t\\textbackslash{}n\\textbackslash{}t\\textbackslash{}t\\textbackslash{}t'\n",
       "\\item '\\textbackslash{}n\\textbackslash{}t\\textbackslash{}t\\textbackslash{}t\\textbackslash{}n\\textbackslash{}t\\textbackslash{}t\\textbackslash{}t\\textbackslash{}t{[}情報{]} 2016-2017 總冠軍賽 (6/2 - 6/19)\\textbackslash{}n\\textbackslash{}t\\textbackslash{}t\\textbackslash{}t\\textbackslash{}n\\textbackslash{}t\\textbackslash{}t\\textbackslash{}t'\n",
       "\\end{enumerate*}\n"
      ],
      "text/markdown": [
       "1. '\\n\\t\\t\\t\\n\\t\\t\\t\\t[討論] 是不是明年又要再看一次勇騎大戰?\\n\\t\\t\\t\\n\\t\\t\\t'\n",
       "2. '\\n\\t\\t\\t\\n\\t\\t\\t\\t[討論] 請問關於今年勇士的一個小問題\\n\\t\\t\\t\\n\\t\\t\\t'\n",
       "3. '\\n\\t\\t\\t\\n\\t\\t\\t\\t[討論]騎士最後的犯規時間點\\n\\t\\t\\t\\n\\t\\t\\t'\n",
       "4. '\\n\\t\\t\\t\\n\\t\\t\\t\\t[公告] 板規6.1\\n\\t\\t\\t\\n\\t\\t\\t'\n",
       "5. '\\n\\t\\t\\t\\n\\t\\t\\t\\t[公告] 違規檢舉區\\n\\t\\t\\t\\n\\t\\t\\t'\n",
       "6. '\\n\\t\\t\\t\\n\\t\\t\\t\\t[情報] 2016-2017 總冠軍賽 (6/2 - 6/19)\\n\\t\\t\\t\\n\\t\\t\\t'\n",
       "\n",
       "\n"
      ],
      "text/plain": [
       "[1] \"\\n\\t\\t\\t\\n\\t\\t\\t\\t[討論] 是不是明年又要再看一次勇騎大戰?\\n\\t\\t\\t\\n\\t\\t\\t\"\n",
       "[2] \"\\n\\t\\t\\t\\n\\t\\t\\t\\t[討論] 請問關於今年勇士的一個小問題\\n\\t\\t\\t\\n\\t\\t\\t\"   \n",
       "[3] \"\\n\\t\\t\\t\\n\\t\\t\\t\\t[討論]騎士最後的犯規時間點\\n\\t\\t\\t\\n\\t\\t\\t\"            \n",
       "[4] \"\\n\\t\\t\\t\\n\\t\\t\\t\\t[公告] 板規6.1\\n\\t\\t\\t\\n\\t\\t\\t\"                        \n",
       "[5] \"\\n\\t\\t\\t\\n\\t\\t\\t\\t[公告] 違規檢舉區\\n\\t\\t\\t\\n\\t\\t\\t\"                     \n",
       "[6] \"\\n\\t\\t\\t\\n\\t\\t\\t\\t[情報] 2016-2017 總冠軍賽 (6/2 - 6/19)\\n\\t\\t\\t\\n\\t\\t\\t\""
      ]
     },
     "metadata": {},
     "output_type": "display_data"
    },
    {
     "data": {
      "text/html": [
       "<ol class=list-inline>\n",
       "\t<li>'[討論] 是不是明年又要再看一次勇騎大戰?'</li>\n",
       "\t<li>'[討論] 請問關於今年勇士的一個小問題'</li>\n",
       "\t<li>'[討論]騎士最後的犯規時間點'</li>\n",
       "\t<li>'[公告] 板規6.1'</li>\n",
       "\t<li>'[公告] 違規檢舉區'</li>\n",
       "\t<li>'[情報] 2016-2017 總冠軍賽 (6/2 - 6/19)'</li>\n",
       "</ol>\n"
      ],
      "text/latex": [
       "\\begin{enumerate*}\n",
       "\\item '{[}討論{]} 是不是明年又要再看一次勇騎大戰?'\n",
       "\\item '{[}討論{]} 請問關於今年勇士的一個小問題'\n",
       "\\item '{[}討論{]}騎士最後的犯規時間點'\n",
       "\\item '{[}公告{]} 板規6.1'\n",
       "\\item '{[}公告{]} 違規檢舉區'\n",
       "\\item '{[}情報{]} 2016-2017 總冠軍賽 (6/2 - 6/19)'\n",
       "\\end{enumerate*}\n"
      ],
      "text/markdown": [
       "1. '[討論] 是不是明年又要再看一次勇騎大戰?'\n",
       "2. '[討論] 請問關於今年勇士的一個小問題'\n",
       "3. '[討論]騎士最後的犯規時間點'\n",
       "4. '[公告] 板規6.1'\n",
       "5. '[公告] 違規檢舉區'\n",
       "6. '[情報] 2016-2017 總冠軍賽 (6/2 - 6/19)'\n",
       "\n",
       "\n"
      ],
      "text/plain": [
       "[1] \"[討論] 是不是明年又要再看一次勇騎大戰?\"\n",
       "[2] \"[討論] 請問關於今年勇士的一個小問題\"   \n",
       "[3] \"[討論]騎士最後的犯規時間點\"            \n",
       "[4] \"[公告] 板規6.1\"                        \n",
       "[5] \"[公告] 違規檢舉區\"                     \n",
       "[6] \"[情報] 2016-2017 總冠軍賽 (6/2 - 6/19)\""
      ]
     },
     "metadata": {},
     "output_type": "display_data"
    }
   ],
   "source": [
    "head(article_info$title)\n",
    "pattern_to_clean <- \"\\n\\t+n\\t+\"\n",
    "head(gsub(pattern = \"\\n\\t+\\n\\t+\", article_info$title, replacement = \"\"))"
   ]
  },
  {
   "cell_type": "markdown",
   "metadata": {
    "slideshow": {
     "slide_type": "subslide"
    }
   },
   "source": [
    "## 一般看板（4）\n",
    "\n",
    "- 隨便點一篇文章進去看\n",
    "- 我們要抓文章的哪些內容？\n",
    "    - 作者\n",
    "    - 標題\n",
    "    - 時間\n",
    "    - 內文\n",
    "    - IP\n",
    "    - 推文標記\n",
    "    - 推文 ID\n",
    "    - 推文內容\n",
    "    - 推文時間"
   ]
  },
  {
   "cell_type": "code",
   "execution_count": null,
   "metadata": {
    "collapsed": true,
    "slideshow": {
     "slide_type": "subslide"
    }
   },
   "outputs": [],
   "source": [
    "library(rvest)\n",
    "\n",
    "article_detail <- function(url){\n",
    "    raw_html <- read_html(url)\n",
    "    \n",
    "    author_css <- \".article-metaline:nth-child(1) .article-meta-value\"\n",
    "    title_css <- \".article-metaline-right+ .article-metaline .article-meta-value\"\n",
    "    time_css <- \".article-metaline+ .article-metaline .article-meta-value\"\n",
    "    main_content_css <- \"#main-content\"\n",
    "    ip_css <- \".hl+ .f2\"\n",
    "    push_css <- \".push-tag\"\n",
    "    push_id_css <- \".push-userid\"\n",
    "    push_content_css <- \".push-content\"\n",
    "    push_time_css <- \".push-ipdatetime\"\n",
    "    \n",
    "    article_detail_info <- list()\n",
    "    columns <- c(author_css, title_css, time_css, main_content_css, ip_css, push_css, push_id_css, push_content_css, push_time_css)\n",
    "    for (i in 1:length(columns)){\n",
    "        article_content <- raw_html %>%\n",
    "            html_nodes(css = columns[i]) %>%\n",
    "            html_text()\n",
    "        article_detail_info[[i]] <- article_content\n",
    "    }\n",
    "    names(article_detail_info) <- c(\"author\", \"title\", \"time\", \"main_content\", \"ip\", \"push\", \"push_id\", \"push_content\", \"push_time\")\n",
    "    return(article_detail_info)\n",
    "}"
   ]
  },
  {
   "cell_type": "code",
   "execution_count": null,
   "metadata": {
    "collapsed": true,
    "slideshow": {
     "slide_type": "subslide"
    }
   },
   "outputs": [],
   "source": [
    "article_url <- \"https://www.ptt.cc/bbs/NBA/M.1496931569.A.682.html\"\n",
    "nba_article_details <- article_detail(article_url)"
   ]
  },
  {
   "cell_type": "markdown",
   "metadata": {
    "slideshow": {
     "slide_type": "subslide"
    }
   },
   "source": [
    "## 一般看板（5）\n",
    "\n",
    "- 清理內文\n",
    "- 清理IP\n",
    "- 清理推文\n",
    "- 清理推文 ID\n",
    "- 清理推文內容\n",
    "- 清理推文時間"
   ]
  },
  {
   "cell_type": "markdown",
   "metadata": {
    "collapsed": true,
    "slideshow": {
     "slide_type": "subslide"
    }
   },
   "source": [
    "## 一般看板（6）\n",
    "\n",
    "- 清理內文"
   ]
  },
  {
   "cell_type": "code",
   "execution_count": null,
   "metadata": {
    "collapsed": true
   },
   "outputs": [],
   "source": [
    "nba_article_details$main_content <- nba_article_details$main_content %>%\n",
    "    gsub(pattern = \"\\n\", ., replacement = \"\") %>% # 清理斷行符號\n",
    "    gsub(pattern = \"--.+\", ., replacement = \"\") %>% # 去尾\n",
    "    gsub(pattern = \"作者.+:[0-9]{2}\\\\s[0-9]{4}\", ., replacement = \"\") # 去頭"
   ]
  },
  {
   "cell_type": "markdown",
   "metadata": {
    "slideshow": {
     "slide_type": "subslide"
    }
   },
   "source": [
    "## 一般看板（7）\n",
    "\n",
    "- 清理IP"
   ]
  },
  {
   "cell_type": "code",
   "execution_count": null,
   "metadata": {
    "collapsed": true
   },
   "outputs": [],
   "source": [
    "ip_start <- regexpr(pattern = \"[0-9]+\", nba_article_details$ip)\n",
    "ip_end <- nchar(nba_article_details$ip)\n",
    "nba_article_details$ip <- substr(nba_article_details$ip, start = ip_start, stop = ip_end)\n",
    "nba_article_details$ip <- gsub(pattern = \"\\n\", nba_article_details$ip, replacement = \"\") # 清理斷行符號"
   ]
  },
  {
   "cell_type": "markdown",
   "metadata": {
    "slideshow": {
     "slide_type": "subslide"
    }
   },
   "source": [
    "## 一般看板（8）\n",
    "\n",
    "- 清理推文\n",
    "- 清理推文 ID\n",
    "- 清理推文內容\n",
    "- 清理推文時間"
   ]
  },
  {
   "cell_type": "code",
   "execution_count": null,
   "metadata": {
    "collapsed": true
   },
   "outputs": [],
   "source": [
    "nba_article_details$push <- gsub(pattern = \"\\\\s\", nba_article_details$push, replacement = \"\")\n",
    "nba_article_details$push_id <- gsub(pattern = \"\\\\s\", nba_article_details$push_id, replacement = \"\")\n",
    "nba_article_details$push_content <- nba_article_details$push_content %>%\n",
    "    gsub(pattern = \"\\\\s\", ., replacement = \"\") %>%\n",
    "    gsub(pattern = \":\", ., replacement = \"\")\n",
    "nba_article_details$push_time <- nba_article_details$push_time %>%\n",
    "    gsub(pattern = \"^\\\\s\", ., replacement = \"\") %>%\n",
    "    gsub(pattern = \"\\n\", ., replacement = \"\")"
   ]
  },
  {
   "cell_type": "markdown",
   "metadata": {
    "slideshow": {
     "slide_type": "subslide"
    }
   },
   "source": [
    "## 一般看板（8）\n",
    "\n",
    "- 最後我們把清理資料的程式加入原本的 `article_detail()` 函數中"
   ]
  },
  {
   "cell_type": "code",
   "execution_count": null,
   "metadata": {
    "collapsed": true
   },
   "outputs": [],
   "source": [
    "library(rvest)\n",
    "\n",
    "article_detail <- function(url){\n",
    "    raw_html <- read_html(url)\n",
    "    \n",
    "    author_css <- \".article-metaline:nth-child(1) .article-meta-value\"\n",
    "    title_css <- \".article-metaline-right+ .article-metaline .article-meta-value\"\n",
    "    time_css <- \".article-metaline+ .article-metaline .article-meta-value\"\n",
    "    main_content_css <- \"#main-content\"\n",
    "    ip_css <- \".hl+ .f2\"\n",
    "    push_css <- \".push-tag\"\n",
    "    push_id_css <- \".push-userid\"\n",
    "    push_content_css <- \".push-content\"\n",
    "    push_time_css <- \".push-ipdatetime\"\n",
    "    \n",
    "    article_detail_info <- list()\n",
    "    columns <- c(author_css, title_css, time_css, main_content_css, ip_css, push_css, push_id_css, push_content_css, push_time_css)\n",
    "    for (i in 1:length(columns)){\n",
    "        article_content <- raw_html %>%\n",
    "            html_nodes(css = columns[i]) %>%\n",
    "            html_text()\n",
    "        article_detail_info[[i]] <- article_content\n",
    "    }\n",
    "    \n",
    "    names(article_detail_info) <- c(\"author\", \"title\", \"time\", \"main_content\", \"ip\", \"push\", \"push_id\", \"push_content\", \"push_time\")\n",
    "    article_detail_info$main_content <- article_detail_info$main_content %>%\n",
    "        gsub(pattern = \"\\n\", ., replacement = \"\") %>% # 清理斷行符號\n",
    "        gsub(pattern = \"--.+\", ., replacement = \"\") %>% # 去尾\n",
    "        gsub(pattern = \"作者.+:[0-9]{2}\\\\s[0-9]{4}\", ., replacement = \"\") # 去頭\n",
    "    ip_start <- regexpr(pattern = \"[0-9]+\", article_detail_info$ip)\n",
    "    ip_end <- nchar(article_detail_info$ip)\n",
    "    article_detail_info$ip <- substr(article_detail_info$ip, start = ip_start, stop = ip_end)\n",
    "    article_detail_info$ip <- gsub(pattern = \"\\n\", article_detail_info$ip, replacement = \"\") # 清理斷行符號\n",
    "    article_detail_info$push <- gsub(pattern = \"\\\\s\", article_detail_info$push, replacement = \"\")\n",
    "    article_detail_info$push_id <- gsub(pattern = \"\\\\s\", article_detail_info$push_id, replacement = \"\")\n",
    "    article_detail_info$push_content <- article_detail_info$push_content %>%\n",
    "        gsub(pattern = \"\\\\s\", ., replacement = \"\") %>%\n",
    "        gsub(pattern = \":\", ., replacement = \"\")\n",
    "    article_detail_info$push_time <- article_detail_info$push_time %>%\n",
    "        gsub(pattern = \"^\\\\s\", ., replacement = \"\") %>%\n",
    "        gsub(pattern = \"\\n\", ., replacement = \"\")\n",
    "    return(article_detail_info)\n",
    "}"
   ]
  },
  {
   "cell_type": "markdown",
   "metadata": {
    "slideshow": {
     "slide_type": "subslide"
    }
   },
   "source": [
    "## 一般看板（9）\n",
    "\n",
    "- 接著我們回到最新一頁將所有文章連結抓出來"
   ]
  },
  {
   "cell_type": "code",
   "execution_count": 17,
   "metadata": {
    "collapsed": false
   },
   "outputs": [
    {
     "data": {
      "text/html": [
       "<ol class=list-inline>\n",
       "\t<li>'/bbs/NBA/M.1496913784.A.819.html'</li>\n",
       "\t<li>'/bbs/NBA/M.1496913913.A.D13.html'</li>\n",
       "\t<li>'/bbs/NBA/M.1496914207.A.319.html'</li>\n",
       "\t<li>'/bbs/NBA/M.1496914864.A.E3F.html'</li>\n",
       "\t<li>'/bbs/NBA/M.1480648734.A.D28.html'</li>\n",
       "\t<li>'/bbs/NBA/M.1478497499.A.150.html'</li>\n",
       "\t<li>'/bbs/NBA/M.1486126665.A.D3C.html'</li>\n",
       "\t<li>'/bbs/NBA/M.1496893864.A.9E3.html'</li>\n",
       "</ol>\n"
      ],
      "text/latex": [
       "\\begin{enumerate*}\n",
       "\\item '/bbs/NBA/M.1496913784.A.819.html'\n",
       "\\item '/bbs/NBA/M.1496913913.A.D13.html'\n",
       "\\item '/bbs/NBA/M.1496914207.A.319.html'\n",
       "\\item '/bbs/NBA/M.1496914864.A.E3F.html'\n",
       "\\item '/bbs/NBA/M.1480648734.A.D28.html'\n",
       "\\item '/bbs/NBA/M.1478497499.A.150.html'\n",
       "\\item '/bbs/NBA/M.1486126665.A.D3C.html'\n",
       "\\item '/bbs/NBA/M.1496893864.A.9E3.html'\n",
       "\\end{enumerate*}\n"
      ],
      "text/markdown": [
       "1. '/bbs/NBA/M.1496913784.A.819.html'\n",
       "2. '/bbs/NBA/M.1496913913.A.D13.html'\n",
       "3. '/bbs/NBA/M.1496914207.A.319.html'\n",
       "4. '/bbs/NBA/M.1496914864.A.E3F.html'\n",
       "5. '/bbs/NBA/M.1480648734.A.D28.html'\n",
       "6. '/bbs/NBA/M.1478497499.A.150.html'\n",
       "7. '/bbs/NBA/M.1486126665.A.D3C.html'\n",
       "8. '/bbs/NBA/M.1496893864.A.9E3.html'\n",
       "\n",
       "\n"
      ],
      "text/plain": [
       "[1] \"/bbs/NBA/M.1496913784.A.819.html\" \"/bbs/NBA/M.1496913913.A.D13.html\"\n",
       "[3] \"/bbs/NBA/M.1496914207.A.319.html\" \"/bbs/NBA/M.1496914864.A.E3F.html\"\n",
       "[5] \"/bbs/NBA/M.1480648734.A.D28.html\" \"/bbs/NBA/M.1478497499.A.150.html\"\n",
       "[7] \"/bbs/NBA/M.1486126665.A.D3C.html\" \"/bbs/NBA/M.1496893864.A.9E3.html\""
      ]
     },
     "metadata": {},
     "output_type": "display_data"
    },
    {
     "data": {
      "text/html": [
       "<ol class=list-inline>\n",
       "\t<li>'https://www.ptt.cc /bbs/NBA/M.1496913784.A.819.html'</li>\n",
       "\t<li>'https://www.ptt.cc /bbs/NBA/M.1496913913.A.D13.html'</li>\n",
       "\t<li>'https://www.ptt.cc /bbs/NBA/M.1496914207.A.319.html'</li>\n",
       "\t<li>'https://www.ptt.cc /bbs/NBA/M.1496914864.A.E3F.html'</li>\n",
       "\t<li>'https://www.ptt.cc /bbs/NBA/M.1480648734.A.D28.html'</li>\n",
       "\t<li>'https://www.ptt.cc /bbs/NBA/M.1478497499.A.150.html'</li>\n",
       "\t<li>'https://www.ptt.cc /bbs/NBA/M.1486126665.A.D3C.html'</li>\n",
       "\t<li>'https://www.ptt.cc /bbs/NBA/M.1496893864.A.9E3.html'</li>\n",
       "</ol>\n"
      ],
      "text/latex": [
       "\\begin{enumerate*}\n",
       "\\item 'https://www.ptt.cc /bbs/NBA/M.1496913784.A.819.html'\n",
       "\\item 'https://www.ptt.cc /bbs/NBA/M.1496913913.A.D13.html'\n",
       "\\item 'https://www.ptt.cc /bbs/NBA/M.1496914207.A.319.html'\n",
       "\\item 'https://www.ptt.cc /bbs/NBA/M.1496914864.A.E3F.html'\n",
       "\\item 'https://www.ptt.cc /bbs/NBA/M.1480648734.A.D28.html'\n",
       "\\item 'https://www.ptt.cc /bbs/NBA/M.1478497499.A.150.html'\n",
       "\\item 'https://www.ptt.cc /bbs/NBA/M.1486126665.A.D3C.html'\n",
       "\\item 'https://www.ptt.cc /bbs/NBA/M.1496893864.A.9E3.html'\n",
       "\\end{enumerate*}\n"
      ],
      "text/markdown": [
       "1. 'https://www.ptt.cc /bbs/NBA/M.1496913784.A.819.html'\n",
       "2. 'https://www.ptt.cc /bbs/NBA/M.1496913913.A.D13.html'\n",
       "3. 'https://www.ptt.cc /bbs/NBA/M.1496914207.A.319.html'\n",
       "4. 'https://www.ptt.cc /bbs/NBA/M.1496914864.A.E3F.html'\n",
       "5. 'https://www.ptt.cc /bbs/NBA/M.1480648734.A.D28.html'\n",
       "6. 'https://www.ptt.cc /bbs/NBA/M.1478497499.A.150.html'\n",
       "7. 'https://www.ptt.cc /bbs/NBA/M.1486126665.A.D3C.html'\n",
       "8. 'https://www.ptt.cc /bbs/NBA/M.1496893864.A.9E3.html'\n",
       "\n",
       "\n"
      ],
      "text/plain": [
       "[1] \"https://www.ptt.cc /bbs/NBA/M.1496913784.A.819.html\"\n",
       "[2] \"https://www.ptt.cc /bbs/NBA/M.1496913913.A.D13.html\"\n",
       "[3] \"https://www.ptt.cc /bbs/NBA/M.1496914207.A.319.html\"\n",
       "[4] \"https://www.ptt.cc /bbs/NBA/M.1496914864.A.E3F.html\"\n",
       "[5] \"https://www.ptt.cc /bbs/NBA/M.1480648734.A.D28.html\"\n",
       "[6] \"https://www.ptt.cc /bbs/NBA/M.1478497499.A.150.html\"\n",
       "[7] \"https://www.ptt.cc /bbs/NBA/M.1486126665.A.D3C.html\"\n",
       "[8] \"https://www.ptt.cc /bbs/NBA/M.1496893864.A.9E3.html\""
      ]
     },
     "metadata": {},
     "output_type": "display_data"
    }
   ],
   "source": [
    "library(rvest)\n",
    "\n",
    "url <- \"https://www.ptt.cc/bbs/NBA/index.html\"\n",
    "raw_html <- read_html(url)\n",
    "\n",
    "article_link_xpath <- \"//div[@class='title']/a\"\n",
    "article_links <- raw_html %>%\n",
    "    html_nodes(xpath = article_link_xpath) %>%\n",
    "    html_attr(\"href\")\n",
    "article_links # relative url\n",
    "article_links <- paste(\"https://www.ptt.cc\", article_links, \"\")\n",
    "article_links # absolute url"
   ]
  },
  {
   "cell_type": "markdown",
   "metadata": {
    "slideshow": {
     "slide_type": "subslide"
    }
   },
   "source": [
    "## 一般看板（10）\n",
    "\n",
    "- 一篇文章的詳細內容存在一個清單中\n",
    "- 外面再用一個清單儲存這些清單（Nested lists）"
   ]
  },
  {
   "cell_type": "code",
   "execution_count": null,
   "metadata": {
    "collapsed": true
   },
   "outputs": [],
   "source": [
    "article_lists <- list()\n",
    "for (i in 1:length(article_links)){\n",
    "    article_details[[i]] <- article_detail(article_links[i])\n",
    "}"
   ]
  }
 ],
 "metadata": {
  "celltoolbar": "Slideshow",
  "kernelspec": {
   "display_name": "R",
   "language": "R",
   "name": "ir"
  },
  "language_info": {
   "codemirror_mode": "r",
   "file_extension": ".r",
   "mimetype": "text/x-r-source",
   "name": "R",
   "pygments_lexer": "r",
   "version": "3.4.0"
  }
 },
 "nbformat": 4,
 "nbformat_minor": 2
}

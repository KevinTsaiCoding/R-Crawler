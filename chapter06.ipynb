{
 "cells": [
  {
   "cell_type": "markdown",
   "metadata": {
    "slideshow": {
     "slide_type": "slide"
    }
   },
   "source": [
    "# `rvest` 套件\n",
    "\n",
    "## 郭耀仁"
   ]
  },
  {
   "cell_type": "markdown",
   "metadata": {
    "slideshow": {
     "slide_type": "slide"
    }
   },
   "source": [
    "## Hadley to the RESCUE!\n",
    "\n",
    "- 由 [Hadley Wickham](http://hadley.nz/) 開發\n",
    "- 啟發於 Python 的套件 [Beautiful Soup](https://www.crummy.com/software/BeautifulSoup/bs4/doc/)\n",
    "- 支援 `%>%` 運算子\n",
    "- 支援 CSS 與 XPath 選取"
   ]
  },
  {
   "cell_type": "markdown",
   "metadata": {
    "slideshow": {
     "slide_type": "slide"
    }
   },
   "source": [
    "## 安裝與載入 `rvest`\n",
    "\n",
    "```\n",
    "install.packages(\"rvest\")\n",
    "```"
   ]
  },
  {
   "cell_type": "code",
   "execution_count": 1,
   "metadata": {
    "collapsed": false
   },
   "outputs": [
    {
     "name": "stderr",
     "output_type": "stream",
     "text": [
      "Loading required package: xml2\n"
     ]
    }
   ],
   "source": [
    "library(rvest)"
   ]
  },
  {
   "cell_type": "markdown",
   "metadata": {
    "slideshow": {
     "slide_type": "slide"
    }
   },
   "source": [
    "## `read_html()` 函數\n",
    "\n",
    "- `read_html()` 函數的功能跟 `readLines()` 函數的功能類似\n",
    "- `readLines()` 所輸出的物件必須自行使用文字函數解析（parsing）\n",
    "- `read_html()` 所輸出的物件可以使用其他 `rvest` 套件提供的函數進行解析"
   ]
  },
  {
   "cell_type": "code",
   "execution_count": 2,
   "metadata": {
    "collapsed": false
   },
   "outputs": [],
   "source": [
    "library(rvest)\n",
    "\n",
    "url <- \"http://www.imdb.com/title/tt3783958/?ref_=fn_al_tt_2\"\n",
    "lalaland <- read_html(url)"
   ]
  },
  {
   "cell_type": "markdown",
   "metadata": {
    "slideshow": {
     "slide_type": "subslide"
    }
   },
   "source": [
    "## `html_nodes()` 函數\n",
    "\n",
    "- 從 `read_html()` 輸出的物件中擷取特定的標籤"
   ]
  },
  {
   "cell_type": "code",
   "execution_count": 3,
   "metadata": {
    "collapsed": false
   },
   "outputs": [
    {
     "data": {
      "text/plain": [
       "{xml_nodeset (1)}\n",
       "[1] <span itemprop=\"ratingValue\">8.3</span>"
      ]
     },
     "metadata": {},
     "output_type": "display_data"
    }
   ],
   "source": [
    "library(rvest)\n",
    "\n",
    "url <- \"http://www.imdb.com/title/tt3783958/?ref_=fn_al_tt_2\"\n",
    "lalaland <- read_html(url)\n",
    "rating <- lalaland %>% html_nodes(css = \"strong span\")\n",
    "rating"
   ]
  },
  {
   "cell_type": "markdown",
   "metadata": {
    "slideshow": {
     "slide_type": "subslide"
    }
   },
   "source": [
    "## `html_text()` 函數\n",
    "\n",
    "- 將 `html_nodes()` 輸出的物件去除標籤後回傳"
   ]
  },
  {
   "cell_type": "code",
   "execution_count": 4,
   "metadata": {
    "collapsed": false
   },
   "outputs": [
    {
     "data": {
      "text/html": [
       "8.3"
      ],
      "text/latex": [
       "8.3"
      ],
      "text/markdown": [
       "8.3"
      ],
      "text/plain": [
       "[1] 8.3"
      ]
     },
     "metadata": {},
     "output_type": "display_data"
    }
   ],
   "source": [
    "library(rvest)\n",
    "\n",
    "url <- \"http://www.imdb.com/title/tt3783958/?ref_=fn_al_tt_2\"\n",
    "lalaland <- read_html(url)\n",
    "rating <- lalaland %>%\n",
    "    html_nodes(css = \"strong span\") %>%\n",
    "    html_text() %>%\n",
    "    as.numeric()\n",
    "rating"
   ]
  },
  {
   "cell_type": "markdown",
   "metadata": {
    "slideshow": {
     "slide_type": "subslide"
    }
   },
   "source": [
    "## `html_text()` 函數（2）\n",
    "\n",
    "- 將 CSS selector 換成 XPath selector"
   ]
  },
  {
   "cell_type": "code",
   "execution_count": 5,
   "metadata": {
    "collapsed": false
   },
   "outputs": [
    {
     "data": {
      "text/html": [
       "8.3"
      ],
      "text/latex": [
       "8.3"
      ],
      "text/markdown": [
       "8.3"
      ],
      "text/plain": [
       "[1] 8.3"
      ]
     },
     "metadata": {},
     "output_type": "display_data"
    }
   ],
   "source": [
    "library(rvest)\n",
    "\n",
    "url <- \"http://www.imdb.com/title/tt3783958/?ref_=fn_al_tt_2\"\n",
    "lalaland <- read_html(url)\n",
    "rating <- lalaland %>%\n",
    "    html_nodes(xpath = \"//strong/span\") %>%\n",
    "    html_text() %>%\n",
    "    as.numeric()\n",
    "rating"
   ]
  },
  {
   "cell_type": "markdown",
   "metadata": {
    "slideshow": {
     "slide_type": "slide"
    }
   },
   "source": [
    "## 練習\n",
    "\n",
    "- 用 CSS selector 跟 XPath selector 將演員名單擷取出來\n",
    "- CSS: `#titleCast .itemprop span`\n",
    "- XPath: `//td[@class='itemprop']/a/span[@class='itemprop']`"
   ]
  }
 ],
 "metadata": {
  "celltoolbar": "Slideshow",
  "kernelspec": {
   "display_name": "R",
   "language": "R",
   "name": "ir"
  },
  "language_info": {
   "codemirror_mode": "r",
   "file_extension": ".r",
   "mimetype": "text/x-r-source",
   "name": "R",
   "pygments_lexer": "r",
   "version": "3.4.0"
  }
 },
 "nbformat": 4,
 "nbformat_minor": 2
}

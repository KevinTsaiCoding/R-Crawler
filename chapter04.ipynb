{
 "cells": [
  {
   "cell_type": "markdown",
   "metadata": {
    "slideshow": {
     "slide_type": "slide"
    }
   },
   "source": [
    "# 認識 HTML 與 CSS\n",
    "\n",
    "## 郭耀仁"
   ]
  },
  {
   "cell_type": "markdown",
   "metadata": {
    "slideshow": {
     "slide_type": "slide"
    }
   },
   "source": [
    "## 認識 HTML\n",
    "\n",
    "- 什麼是 HTML（HyperText Markup Language）？\n",
    "- 網頁的基本結構\n",
    "- 以**標籤**架構一個網頁\n",
    "- 能夠嵌入 CSS 與 JavaScript\n",
    "- 我們利用 [JS Bin](https://jsbin.com) 來瀏覽"
   ]
  },
  {
   "cell_type": "markdown",
   "metadata": {
    "slideshow": {
     "slide_type": "subslide"
    }
   },
   "source": [
    "## 認識 HTML（2）\n",
    "\n",
    "- 這是一個簡單的 HTML 外觀：\n",
    "\n",
    "```html\n",
    "<!DOCTYPE html>\n",
    "<html>\n",
    "<head>\n",
    "    <meta charset=\"utf-8\">\n",
    "    <meta name=\"viewport\" content=\"width=device-width\">\n",
    "    <title>Basic HTML Page</title>\n",
    "</head>\n",
    "<body>\n",
    "    <p>Hello HTML</p>\n",
    "</body>\n",
    "</html>\n",
    "```"
   ]
  },
  {
   "cell_type": "markdown",
   "metadata": {
    "slideshow": {
     "slide_type": "subslide"
    }
   },
   "source": [
    "## 認識 HTML（3）\n",
    "\n",
    "- HTML 標籤具有 **style** 屬性\n",
    "\n",
    "```html\n",
    "<!DOCTYPE html>\n",
    "<html>\n",
    "<head>\n",
    "    <meta charset=\"utf-8\">\n",
    "    <meta name=\"viewport\" content=\"width=device-width\">\n",
    "    <title>Basic HTML Page</title>\n",
    "</head>\n",
    "<body>\n",
    "    <p style = \"color: red;\">Hello HTML</p>\n",
    "</body>\n",
    "</html>\n",
    "```"
   ]
  },
  {
   "cell_type": "markdown",
   "metadata": {
    "slideshow": {
     "slide_type": "slide"
    }
   },
   "source": [
    "## 認識 CSS\n",
    "\n",
    "- 實務作法會將 **style** 的部分獨立出來\n",
    "- 用 CSS（Cascading Style Sheets）設定外觀\n",
    "\n",
    "```html\n",
    "<!DOCTYPE html>\n",
    "<html>\n",
    "<head>\n",
    "    <meta charset=\"utf-8\">\n",
    "    <meta name=\"viewport\" content=\"width=device-width\">\n",
    "    <title>Basic HTML Page</title>\n",
    "    <style>\n",
    "        p {color: red;}\n",
    "    </style>\n",
    "</head>\n",
    "<body>\n",
    "    <p>Hello HTML</p>\n",
    "</body>\n",
    "</html>\n",
    "```"
   ]
  },
  {
   "cell_type": "markdown",
   "metadata": {
    "slideshow": {
     "slide_type": "subslide"
    }
   },
   "source": [
    "## 認識 CSS（2）\n",
    "\n",
    "- 最佳的作法是將 CSS 檔案獨立\n",
    "\n",
    "```css\n",
    "/*style.css*/\n",
    "p {color: red;}\n",
    "```\n",
    "\n",
    "```html\n",
    "<!DOCTYPE html>\n",
    "<html>\n",
    "<head>\n",
    "    <meta charset=\"utf-8\">\n",
    "    <meta name=\"viewport\" content=\"width=device-width\">\n",
    "    <link rel=\"stylesheet\" href=\"style.css\">\n",
    "    <title>Basic HTML Page</title>\n",
    "</head>\n",
    "<body>\n",
    "    <p>Hello HTML</p>\n",
    "</body>\n",
    "</html>\n",
    "```"
   ]
  },
  {
   "cell_type": "markdown",
   "metadata": {
    "slideshow": {
     "slide_type": "subslide"
    }
   },
   "source": [
    "## 認識 CSS（3）\n",
    "\n",
    "- CSS 透過三種方式來選擇：\n",
    "    - **標籤名稱**\n",
    "    - class\n",
    "    - id\n",
    "\n",
    "```css\n",
    "/*style.css*/\n",
    "p {color: red;}\n",
    "```\n",
    "\n",
    "```html\n",
    "<!DOCTYPE html>\n",
    "<html>\n",
    "<head>\n",
    "    <meta charset=\"utf-8\">\n",
    "    <meta name=\"viewport\" content=\"width=device-width\">\n",
    "    <link rel=\"stylesheet\" href=\"style.css\">\n",
    "    <title>Basic HTML Page</title>\n",
    "</head>\n",
    "<body>\n",
    "    <p>Hello HTML</p>\n",
    "    <p>Hello CSS</p>\n",
    "</body>\n",
    "</html>\n",
    "```"
   ]
  },
  {
   "cell_type": "markdown",
   "metadata": {
    "slideshow": {
     "slide_type": "subslide"
    }
   },
   "source": [
    "## 認識 CSS（4）\n",
    "\n",
    "- CSS 透過三種方式來選擇：\n",
    "    - 標籤名稱\n",
    "    - **class**\n",
    "    - id\n",
    "\n",
    "```css\n",
    "/*style.css*/\n",
    ".html {color: red;}\n",
    ".css {color: blue;}\n",
    "```\n",
    "\n",
    "```html\n",
    "<!DOCTYPE html>\n",
    "<html>\n",
    "<head>\n",
    "    <meta charset=\"utf-8\">\n",
    "    <meta name=\"viewport\" content=\"width=device-width\">\n",
    "    <link rel=\"stylesheet\" href=\"style.css\">\n",
    "    <title>Basic HTML Page</title>\n",
    "</head>\n",
    "<body>\n",
    "    <p class=\"html\">Hello HTML</p>\n",
    "    <p class=\"css\">Hello CSS</p>\n",
    "</body>\n",
    "</html>\n",
    "```"
   ]
  },
  {
   "cell_type": "markdown",
   "metadata": {
    "slideshow": {
     "slide_type": "subslide"
    }
   },
   "source": [
    "## 認識 CSS（5）\n",
    "\n",
    "- CSS 透過三種方式來選擇：\n",
    "    - 標籤名稱\n",
    "    - class\n",
    "    - **id**\n",
    "\n",
    "```css\n",
    "/*style.css*/\n",
    "#html {color: red;}\n",
    "#css {color: blue;}\n",
    "```\n",
    "\n",
    "```html\n",
    "<!DOCTYPE html>\n",
    "<html>\n",
    "<head>\n",
    "    <meta charset=\"utf-8\">\n",
    "    <meta name=\"viewport\" content=\"width=device-width\">\n",
    "    <link rel=\"stylesheet\" href=\"style.css\">\n",
    "    <title>Basic HTML Page</title>\n",
    "</head>\n",
    "<body>\n",
    "    <p id=\"html\">Hello HTML</p>\n",
    "    <p id=\"css\">Hello CSS</p>\n",
    "</body>\n",
    "</html>\n",
    "```"
   ]
  },
  {
   "cell_type": "markdown",
   "metadata": {
    "slideshow": {
     "slide_type": "subslide"
    }
   },
   "source": [
    "## 認識 CSS（6）\n",
    "\n",
    "- 可以引入外部的 CSS，像是 [Google Fonts](https://fonts.google.com/)\n",
    "\n",
    "```css\n",
    "/*style.css*/\n",
    "#html {\n",
    "    color: red;\n",
    "    font-size: 2em;\n",
    "    }\n",
    "#css {\n",
    "    color: blue;\n",
    "    font-size: 3em;\n",
    "    font-family: 'Indie Flower', cursive;\n",
    "    }\n",
    "```\n",
    "\n",
    "```html\n",
    "<!DOCTYPE html>\n",
    "<html>\n",
    "<head>\n",
    "    <meta charset=\"utf-8\">\n",
    "    <meta name=\"viewport\" content=\"width=device-width\">\n",
    "    <link href=\"https://fonts.googleapis.com/css?family=Indie+Flower\" rel=\"stylesheet\">\n",
    "    <link rel=\"stylesheet\" href=\"style.css\">\n",
    "    <title>Basic HTML Page</title>\n",
    "</head>\n",
    "<body>\n",
    "    <p id=\"html\">Hello HTML</p>\n",
    "    <p id=\"css\">Hello CSS</p>\n",
    "</body>\n",
    "</html>\n",
    "```"
   ]
  },
  {
   "cell_type": "markdown",
   "metadata": {
    "slideshow": {
     "slide_type": "slide"
    }
   },
   "source": [
    "## 參考連結\n",
    "\n",
    "- [W3Schools](https://www.w3schools.com)"
   ]
  }
 ],
 "metadata": {
  "celltoolbar": "Slideshow",
  "kernelspec": {
   "display_name": "R",
   "language": "R",
   "name": "ir"
  },
  "language_info": {
   "codemirror_mode": "r",
   "file_extension": ".r",
   "mimetype": "text/x-r-source",
   "name": "R",
   "pygments_lexer": "r",
   "version": "3.4.0"
  }
 },
 "nbformat": 4,
 "nbformat_minor": 2
}

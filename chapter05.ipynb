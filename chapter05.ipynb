{
 "cells": [
  {
   "cell_type": "markdown",
   "metadata": {
    "slideshow": {
     "slide_type": "slide"
    }
   },
   "source": [
    "# `readLines() 函數`\n",
    "\n",
    "## 郭耀仁"
   ]
  },
  {
   "cell_type": "markdown",
   "metadata": {
    "slideshow": {
     "slide_type": "slide"
    }
   },
   "source": [
    "## 結構單純的網頁\n",
    "\n",
    "- 可以直接使用內建的 `readLines()` 函數\n",
    "- 將網頁的 html 檔案讀成一個文字向量\n",
    "- 然後再使用文字函數與正規表達式解析"
   ]
  },
  {
   "cell_type": "markdown",
   "metadata": {
    "slideshow": {
     "slide_type": "subslide"
    }
   },
   "source": [
    "## 結構單純的網頁（2）\n",
    "\n",
    "- [The One Where Monica Gets a New Roommate](http://livesinabox.com/friends/season1/101pilot.htm)"
   ]
  },
  {
   "cell_type": "code",
   "execution_count": 1,
   "metadata": {
    "collapsed": false
   },
   "outputs": [
    {
     "data": {
      "text/html": [
       "<ol class=list-inline>\n",
       "\t<li>'&lt;html&gt;'</li>\n",
       "\t<li>''</li>\n",
       "\t<li>'&lt;head&gt;'</li>\n",
       "\t<li>'&lt;title&gt;The One Where Monica Gets a New Roomate (The Pilot-The Uncut Version)&lt;/title&gt;'</li>\n",
       "\t<li>'&lt;/head&gt;'</li>\n",
       "\t<li>''</li>\n",
       "</ol>\n"
      ],
      "text/latex": [
       "\\begin{enumerate*}\n",
       "\\item '<html>'\n",
       "\\item ''\n",
       "\\item '<head>'\n",
       "\\item '<title>The One Where Monica Gets a New Roomate (The Pilot-The Uncut Version)</title>'\n",
       "\\item '</head>'\n",
       "\\item ''\n",
       "\\end{enumerate*}\n"
      ],
      "text/markdown": [
       "1. '&lt;html&gt;'\n",
       "2. ''\n",
       "3. '&lt;head&gt;'\n",
       "4. '&lt;title&gt;The One Where Monica Gets a New Roomate (The Pilot-The Uncut Version)&lt;/title&gt;'\n",
       "5. '&lt;/head&gt;'\n",
       "6. ''\n",
       "\n",
       "\n"
      ],
      "text/plain": [
       "[1] \"<html>\"                                                                              \n",
       "[2] \"\"                                                                                    \n",
       "[3] \"<head>\"                                                                              \n",
       "[4] \"<title>The One Where Monica Gets a New Roomate (The Pilot-The Uncut Version)</title>\"\n",
       "[5] \"</head>\"                                                                             \n",
       "[6] \"\"                                                                                    "
      ]
     },
     "metadata": {},
     "output_type": "display_data"
    }
   ],
   "source": [
    "library(magrittr)\n",
    "\n",
    "fs_s1e1 <- readLines(\"http://livesinabox.com/friends/season1/101pilot.htm\")\n",
    "head(fs_s1e1)"
   ]
  },
  {
   "cell_type": "markdown",
   "metadata": {
    "slideshow": {
     "slide_type": "subslide"
    }
   },
   "source": [
    "## 結構單純的網頁（3）\n",
    "\n",
    "- 我們想要分析在第一季第一集中，每個角色有幾段台詞\n",
    "- 觀察一下這個網頁內容，每段台詞前面都會有角色名"
   ]
  },
  {
   "cell_type": "code",
   "execution_count": 2,
   "metadata": {
    "collapsed": false
   },
   "outputs": [
    {
     "data": {
      "text/html": [
       "<ol class=list-inline>\n",
       "\t<li>'&lt;p align=\"left\"&gt;&lt;font size=\"3\"&gt;&lt;b&gt;Monica:&lt;/b&gt; There\\'s nothing to tell! He\\'s just some guy'</li>\n",
       "\t<li>'&lt;p align=\"left\"&gt;&lt;font size=\"3\"&gt;&lt;b&gt;Joey:&lt;/b&gt; C\\'mon, you\\'re going out with the guy! There\\'s'</li>\n",
       "\t<li>'&lt;p align=\"left\"&gt;&lt;font size=\"3\"&gt;&lt;b&gt;Chandler:&lt;/b&gt; &lt;font color=\"#0000FF\"&gt;All right Joey, be'</li>\n",
       "\t<li>'&lt;p align=\"left\"&gt;&lt;font size=\"3\"&gt;&lt;b&gt;Phoebe:&lt;/b&gt; Wait, does he eat chalk?&lt;/font&gt;&lt;/p&gt;'</li>\n",
       "\t<li>'&lt;p align=\"left\"&gt;&lt;font size=\"3\"&gt;&lt;b&gt;Phoebe:&lt;/b&gt; Just, \\'cause, I don\\'t want her to go through'</li>\n",
       "\t<li>'&lt;p align=\"left\"&gt;&lt;font size=\"3\"&gt;&lt;b&gt;Monica:&lt;/b&gt; Okay, everybody relax. This is not even a'</li>\n",
       "</ol>\n"
      ],
      "text/latex": [
       "\\begin{enumerate*}\n",
       "\\item '<p align=\"left\"><font size=\"3\"><b>Monica:</b> There\\textbackslash{}'s nothing to tell! He\\textbackslash{}'s just some guy'\n",
       "\\item '<p align=\"left\"><font size=\"3\"><b>Joey:</b> C\\textbackslash{}'mon, you\\textbackslash{}'re going out with the guy! There\\textbackslash{}'s'\n",
       "\\item '<p align=\"left\"><font size=\"3\"><b>Chandler:</b> <font color=\"\\#0000FF\">All right Joey, be'\n",
       "\\item '<p align=\"left\"><font size=\"3\"><b>Phoebe:</b> Wait, does he eat chalk?</font></p>'\n",
       "\\item '<p align=\"left\"><font size=\"3\"><b>Phoebe:</b> Just, \\textbackslash{}'cause, I don\\textbackslash{}'t want her to go through'\n",
       "\\item '<p align=\"left\"><font size=\"3\"><b>Monica:</b> Okay, everybody relax. This is not even a'\n",
       "\\end{enumerate*}\n"
      ],
      "text/markdown": [
       "1. '&lt;p align=\"left\"&gt;&lt;font size=\"3\"&gt;&lt;b&gt;Monica:&lt;/b&gt; There\\'s nothing to tell! He\\'s just some guy'\n",
       "2. '&lt;p align=\"left\"&gt;&lt;font size=\"3\"&gt;&lt;b&gt;Joey:&lt;/b&gt; C\\'mon, you\\'re going out with the guy! There\\'s'\n",
       "3. '&lt;p align=\"left\"&gt;&lt;font size=\"3\"&gt;&lt;b&gt;Chandler:&lt;/b&gt; &lt;font color=\"#0000FF\"&gt;All right Joey, be'\n",
       "4. '&lt;p align=\"left\"&gt;&lt;font size=\"3\"&gt;&lt;b&gt;Phoebe:&lt;/b&gt; Wait, does he eat chalk?&lt;/font&gt;&lt;/p&gt;'\n",
       "5. '&lt;p align=\"left\"&gt;&lt;font size=\"3\"&gt;&lt;b&gt;Phoebe:&lt;/b&gt; Just, \\'cause, I don\\'t want her to go through'\n",
       "6. '&lt;p align=\"left\"&gt;&lt;font size=\"3\"&gt;&lt;b&gt;Monica:&lt;/b&gt; Okay, everybody relax. This is not even a'\n",
       "\n",
       "\n"
      ],
      "text/plain": [
       "[1] \"<p align=\\\"left\\\"><font size=\\\"3\\\"><b>Monica:</b> There's nothing to tell! He's just some guy\" \n",
       "[2] \"<p align=\\\"left\\\"><font size=\\\"3\\\"><b>Joey:</b> C'mon, you're going out with the guy! There's\" \n",
       "[3] \"<p align=\\\"left\\\"><font size=\\\"3\\\"><b>Chandler:</b> <font color=\\\"#0000FF\\\">All right Joey, be\"\n",
       "[4] \"<p align=\\\"left\\\"><font size=\\\"3\\\"><b>Phoebe:</b> Wait, does he eat chalk?</font></p>\"         \n",
       "[5] \"<p align=\\\"left\\\"><font size=\\\"3\\\"><b>Phoebe:</b> Just, 'cause, I don't want her to go through\"\n",
       "[6] \"<p align=\\\"left\\\"><font size=\\\"3\\\"><b>Monica:</b> Okay, everybody relax. This is not even a\"   "
      ]
     },
     "metadata": {},
     "output_type": "display_data"
    }
   ],
   "source": [
    "character_pattern <- \"Joey:|Monica:|Ross:|Rachel:|Chandler:|Phoebe:\"\n",
    "found_character <- grepl(pattern = character_pattern, fs_s1e1)\n",
    "fs_s1e1[found_character] %>%\n",
    "    head()"
   ]
  },
  {
   "cell_type": "markdown",
   "metadata": {
    "slideshow": {
     "slide_type": "subslide"
    }
   },
   "source": [
    "## 結構單純的網頁（4）\n",
    "\n",
    "- 接著我們應該要清理前後的標籤 `<p></p>`、`<b></b>`、`<strong></strong>`"
   ]
  },
  {
   "cell_type": "code",
   "execution_count": 3,
   "metadata": {
    "collapsed": false
   },
   "outputs": [
    {
     "data": {
      "text/html": [
       "<ol class=list-inline>\n",
       "\t<li>'Monica:'</li>\n",
       "\t<li>'Joey:'</li>\n",
       "\t<li>'Chandler:'</li>\n",
       "\t<li>'Phoebe:'</li>\n",
       "\t<li>'Phoebe:'</li>\n",
       "\t<li>'Monica:'</li>\n",
       "</ol>\n"
      ],
      "text/latex": [
       "\\begin{enumerate*}\n",
       "\\item 'Monica:'\n",
       "\\item 'Joey:'\n",
       "\\item 'Chandler:'\n",
       "\\item 'Phoebe:'\n",
       "\\item 'Phoebe:'\n",
       "\\item 'Monica:'\n",
       "\\end{enumerate*}\n"
      ],
      "text/markdown": [
       "1. 'Monica:'\n",
       "2. 'Joey:'\n",
       "3. 'Chandler:'\n",
       "4. 'Phoebe:'\n",
       "5. 'Phoebe:'\n",
       "6. 'Monica:'\n",
       "\n",
       "\n"
      ],
      "text/plain": [
       "[1] \"Monica:\"   \"Joey:\"     \"Chandler:\" \"Phoebe:\"   \"Phoebe:\"   \"Monica:\"  "
      ]
     },
     "metadata": {},
     "output_type": "display_data"
    }
   ],
   "source": [
    "fs_s1e1[found_character] %>%\n",
    "    gsub(pattern = \"<p(>|.*)(<b>|<strong>)\", replacement = \"\") %>%\n",
    "    gsub(pattern = \"(</b>|</strong>).*\", replacement = \"\") %>%\n",
    "    head()"
   ]
  },
  {
   "cell_type": "markdown",
   "metadata": {
    "slideshow": {
     "slide_type": "subslide"
    }
   },
   "source": [
    "## 結構單純的網頁（5）\n",
    "\n",
    "- 接著我們清理冒號或多餘的空格"
   ]
  },
  {
   "cell_type": "code",
   "execution_count": 4,
   "metadata": {
    "collapsed": false
   },
   "outputs": [
    {
     "data": {
      "text/html": [
       "<ol class=list-inline>\n",
       "\t<li>'Monica'</li>\n",
       "\t<li>'Joey'</li>\n",
       "\t<li>'Chandler'</li>\n",
       "\t<li>'Phoebe'</li>\n",
       "\t<li>'Phoebe'</li>\n",
       "\t<li>'Monica'</li>\n",
       "</ol>\n"
      ],
      "text/latex": [
       "\\begin{enumerate*}\n",
       "\\item 'Monica'\n",
       "\\item 'Joey'\n",
       "\\item 'Chandler'\n",
       "\\item 'Phoebe'\n",
       "\\item 'Phoebe'\n",
       "\\item 'Monica'\n",
       "\\end{enumerate*}\n"
      ],
      "text/markdown": [
       "1. 'Monica'\n",
       "2. 'Joey'\n",
       "3. 'Chandler'\n",
       "4. 'Phoebe'\n",
       "5. 'Phoebe'\n",
       "6. 'Monica'\n",
       "\n",
       "\n"
      ],
      "text/plain": [
       "[1] \"Monica\"   \"Joey\"     \"Chandler\" \"Phoebe\"   \"Phoebe\"   \"Monica\"  "
      ]
     },
     "metadata": {},
     "output_type": "display_data"
    }
   ],
   "source": [
    "fs_s1e1[found_character] %>%\n",
    "    gsub(pattern = \"<p(>|.*)(<b>|<strong>)\", replacement = \"\") %>%\n",
    "    gsub(pattern = \"(</b>|</strong>).*\", replacement = \"\") %>%\n",
    "    gsub(pattern = \"(:\\\\s)|:\", replacement = \"\") %>%\n",
    "    head()"
   ]
  },
  {
   "cell_type": "markdown",
   "metadata": {
    "slideshow": {
     "slide_type": "subslide"
    }
   },
   "source": [
    "## 結構單純的網頁（6）\n",
    "\n",
    "- 最後我們利用長條圖（barplot）統計每個角色在第一季第一集說了幾段台詞"
   ]
  },
  {
   "cell_type": "code",
   "execution_count": 5,
   "metadata": {
    "collapsed": false
   },
   "outputs": [
    {
     "data": {
      "text/plain": [
       ".\n",
       "         Monica          Rachel            Ross            Joey        Chandler \n",
       "             72              48              47              41              39 \n",
       "         Phoebe Ross and Rachel \n",
       "             19               1 "
      ]
     },
     "metadata": {},
     "output_type": "display_data"
    }
   ],
   "source": [
    "table_result <- fs_s1e1[found_character] %>%\n",
    "    gsub(pattern = \"<p(>|.*)(<b>|<strong>)\", replacement = \"\") %>%\n",
    "    gsub(pattern = \"(</b>|</strong>).*\", replacement = \"\") %>%\n",
    "    gsub(pattern = \"(:\\\\s)|:\", replacement = \"\") %>%\n",
    "    table()\n",
    "sort(table_result, decreasing = TRUE)"
   ]
  },
  {
   "cell_type": "code",
   "execution_count": 6,
   "metadata": {
    "collapsed": false,
    "slideshow": {
     "slide_type": "subslide"
    }
   },
   "outputs": [
    {
     "data": {
      "image/png": "[encoded data removed]",
      "text/plain": [
       "Plot with title “Number of Scripts in Episode 1, Season 1”"
      ]
     },
     "metadata": {},
     "output_type": "display_data"
    }
   ],
   "source": [
    "barplot(sort(table_result, decreasing = TRUE), las = 1, cex.names = 0.7, main = \"Number of Scripts in Episode 1, Season 1\")"
   ]
  },
  {
   "cell_type": "markdown",
   "metadata": {
    "slideshow": {
     "slide_type": "slide"
    }
   },
   "source": [
    "## 討論\n",
    "\n",
    "- `readLines()` 函數只是幫我們把原始網頁檔讀成文字向量而已\n",
    "- 即便面對結構很簡單的網頁內容，還是很辛苦\n",
    "- 我們的心聲，[Hadley Wickham](https://github.com/hadley/rvest) 聽到了！\n",
    "\n",
    "> rvest helps you scrape information from web pages. It is designed to work with [magrittr](https://github.com/tidyverse/magrittr) to make it easy to express common web scraping tasks, inspired by libraries like [beautiful soup](https://www.crummy.com/software/BeautifulSoup/).\n",
    "\n",
    "> Hadley Wickham"
   ]
  }
 ],
 "metadata": {
  "celltoolbar": "Slideshow",
  "kernelspec": {
   "display_name": "R",
   "language": "R",
   "name": "ir"
  },
  "language_info": {
   "codemirror_mode": "r",
   "file_extension": ".r",
   "mimetype": "text/x-r-source",
   "name": "R",
   "pygments_lexer": "r",
   "version": "3.4.0"
  }
 },
 "nbformat": 4,
 "nbformat_minor": 2
}

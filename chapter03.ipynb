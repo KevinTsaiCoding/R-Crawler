{
 "cells": [
  {
   "cell_type": "markdown",
   "metadata": {
    "slideshow": {
     "slide_type": "slide"
    }
   },
   "source": [
    "# 認識 JSON 與 XML\n",
    "\n",
    "## 郭耀仁"
   ]
  },
  {
   "cell_type": "markdown",
   "metadata": {
    "slideshow": {
     "slide_type": "slide"
    }
   },
   "source": [
    "## 認識 JSON\n",
    "\n",
    "- 什麼是 JSON(JavaScript Object Notation)？\n",
    "- 這是一個 JSON：\n",
    "\n",
    "```javascript\n",
    "var friends = {\n",
    "  \"genre\": \"Sitcom\",\n",
    "  \"seasons\": 10,\n",
    "  \"episodes\": 236,\n",
    "  \"stars\": [\"Jennifer Aniston\", \"Courteney Cox\", \"Lisa Kudrow\", \"Matt LeBlanc\", \"Matthew Perry\", \"David Schwimmer\"]\n",
    "};\n",
    "```"
   ]
  },
  {
   "cell_type": "markdown",
   "metadata": {
    "slideshow": {
     "slide_type": "subslide"
    }
   },
   "source": [
    "## 認識 JSON（2）\n",
    "\n",
    "- 本來應當是用 JavaScript 解析 JSON：\n",
    "\n",
    "```javascript\n",
    "var friends = {\n",
    "\t\"genre\": \"Sitcom\",\n",
    "\t\"seasons\": 10,\n",
    "\t\"episodes\": 236,\n",
    "\t\"stars\": [\"Jennifer Aniston\", \"Courteney Cox\", \"Lisa Kudrow\", \"Matt LeBlanc\", \"Matthew Perry\", \"David Schwimmer\"]\n",
    "};\n",
    "\n",
    "// 印出我們想知道的資訊\n",
    "console.log(\"六人行共有幾季：\" + friends[\"seasons\"]);\n",
    "console.log(\"六人行共有幾集：\" + friends[\"episodes\"]);\n",
    "console.log(\"誰飾演 Chandler Bing：\" + friends[\"stars\"][4]);\n",
    "```"
   ]
  },
  {
   "cell_type": "markdown",
   "metadata": {
    "slideshow": {
     "slide_type": "subslide"
    }
   },
   "source": [
    "## 認識 JSON（3）\n",
    "\n",
    "- 在 R 語言中可以透過 `jsonlite` 套件所提供的 `fromJSON()` 函數讀取 JSON"
   ]
  },
  {
   "cell_type": "code",
   "execution_count": 1,
   "metadata": {
    "collapsed": false
   },
   "outputs": [
    {
     "data": {
      "text/html": [
       "'六人行共有幾季： 10'"
      ],
      "text/latex": [
       "'六人行共有幾季： 10'"
      ],
      "text/markdown": [
       "'六人行共有幾季： 10'"
      ],
      "text/plain": [
       "[1] \"六人行共有幾季： 10\""
      ]
     },
     "metadata": {},
     "output_type": "display_data"
    },
    {
     "data": {
      "text/html": [
       "'六人行共有幾集： 236'"
      ],
      "text/latex": [
       "'六人行共有幾集： 236'"
      ],
      "text/markdown": [
       "'六人行共有幾集： 236'"
      ],
      "text/plain": [
       "[1] \"六人行共有幾集： 236\""
      ]
     },
     "metadata": {},
     "output_type": "display_data"
    },
    {
     "data": {
      "text/html": [
       "'誰飾演 Chandler Bing： Matthew Perry'"
      ],
      "text/latex": [
       "'誰飾演 Chandler Bing： Matthew Perry'"
      ],
      "text/markdown": [
       "'誰飾演 Chandler Bing： Matthew Perry'"
      ],
      "text/plain": [
       "[1] \"誰飾演 Chandler Bing： Matthew Perry\""
      ]
     },
     "metadata": {},
     "output_type": "display_data"
    }
   ],
   "source": [
    "# install.packages(\"jsonlite\")\n",
    "library(jsonlite)\n",
    "\n",
    "friends <- '{\n",
    "  \"genre\": \"Sitcom\",\n",
    "  \"seasons\": 10,\n",
    "  \"episodes\": 236,\n",
    "  \"stars\": [\"Jennifer Aniston\", \"Courteney Cox\", \"Lisa Kudrow\", \"Matt LeBlanc\", \"Matthew Perry\", \"David Schwimmer\"]\n",
    "}'\n",
    "friends_list <- fromJSON(friends)\n",
    "paste(\"六人行共有幾季：\", friends_list$seasons)\n",
    "paste(\"六人行共有幾集：\", friends_list$episodes)\n",
    "paste(\"誰飾演 Chandler Bing：\", friends_list$stars[5])"
   ]
  }
 ],
 "metadata": {
  "celltoolbar": "Slideshow",
  "kernelspec": {
   "display_name": "R",
   "language": "R",
   "name": "ir"
  },
  "language_info": {
   "codemirror_mode": "r",
   "file_extension": ".r",
   "mimetype": "text/x-r-source",
   "name": "R",
   "pygments_lexer": "r",
   "version": "3.4.0"
  }
 },
 "nbformat": 4,
 "nbformat_minor": 2
}

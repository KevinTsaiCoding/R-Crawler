{
 "cells": [
  {
   "cell_type": "markdown",
   "metadata": {
    "slideshow": {
     "slide_type": "slide"
    }
   },
   "source": [
    "# 認識 JSON 與 XML\n",
    "\n",
    "## 郭耀仁"
   ]
  },
  {
   "cell_type": "markdown",
   "metadata": {
    "slideshow": {
     "slide_type": "slide"
    }
   },
   "source": [
    "## 認識 JSON\n",
    "\n",
    "- 什麼是 JSON(JavaScript Object Notation)？\n",
    "- 這是一個 JSON：\n",
    "\n",
    "```javascript\n",
    "var friends = {\n",
    "  \"genre\": \"Sitcom\",\n",
    "  \"seasons\": 10,\n",
    "  \"episodes\": 236,\n",
    "  \"stars\": [\"Jennifer Aniston\", \"Courteney Cox\", \"Lisa Kudrow\", \"Matt LeBlanc\", \"Matthew Perry\", \"David Schwimmer\"]\n",
    "};\n",
    "```"
   ]
  },
  {
   "cell_type": "markdown",
   "metadata": {
    "slideshow": {
     "slide_type": "subslide"
    }
   },
   "source": [
    "## 認識 JSON（2）\n",
    "\n",
    "- 本來應當是用 JavaScript 解析 JSON：\n",
    "\n",
    "```javascript\n",
    "var friends = {\n",
    "\t\"genre\": \"Sitcom\",\n",
    "\t\"seasons\": 10,\n",
    "\t\"episodes\": 236,\n",
    "\t\"stars\": [\"Jennifer Aniston\", \"Courteney Cox\", \"Lisa Kudrow\", \"Matt LeBlanc\", \"Matthew Perry\", \"David Schwimmer\"]\n",
    "};\n",
    "\n",
    "// 印出我們想知道的資訊\n",
    "console.log(\"六人行共有幾季：\" + friends[\"seasons\"]);\n",
    "console.log(\"六人行共有幾集：\" + friends[\"episodes\"]);\n",
    "console.log(\"誰飾演 Chandler Bing：\" + friends[\"stars\"][4]);\n",
    "```"
   ]
  },
  {
   "cell_type": "markdown",
   "metadata": {
    "slideshow": {
     "slide_type": "subslide"
    }
   },
   "source": [
    "## 認識 JSON（3）\n",
    "\n",
    "- 在 R 語言中可以透過 `jsonlite` 套件所提供的 `fromJSON()` 函數讀取 JSON\n",
    "- 讀取結果是清單（list）"
   ]
  },
  {
   "cell_type": "code",
   "execution_count": 1,
   "metadata": {
    "collapsed": false
   },
   "outputs": [
    {
     "data": {
      "text/html": [
       "'六人行共有幾季： 10'"
      ],
      "text/latex": [
       "'六人行共有幾季： 10'"
      ],
      "text/markdown": [
       "'六人行共有幾季： 10'"
      ],
      "text/plain": [
       "[1] \"六人行共有幾季： 10\""
      ]
     },
     "metadata": {},
     "output_type": "display_data"
    },
    {
     "data": {
      "text/html": [
       "'六人行共有幾集： 236'"
      ],
      "text/latex": [
       "'六人行共有幾集： 236'"
      ],
      "text/markdown": [
       "'六人行共有幾集： 236'"
      ],
      "text/plain": [
       "[1] \"六人行共有幾集： 236\""
      ]
     },
     "metadata": {},
     "output_type": "display_data"
    },
    {
     "data": {
      "text/html": [
       "'誰飾演 Chandler Bing： Matthew Perry'"
      ],
      "text/latex": [
       "'誰飾演 Chandler Bing： Matthew Perry'"
      ],
      "text/markdown": [
       "'誰飾演 Chandler Bing： Matthew Perry'"
      ],
      "text/plain": [
       "[1] \"誰飾演 Chandler Bing： Matthew Perry\""
      ]
     },
     "metadata": {},
     "output_type": "display_data"
    }
   ],
   "source": [
    "# install.packages(\"jsonlite\")\n",
    "library(jsonlite)\n",
    "\n",
    "friends <- '{\n",
    "  \"genre\": \"Sitcom\",\n",
    "  \"seasons\": 10,\n",
    "  \"episodes\": 236,\n",
    "  \"stars\": [\"Jennifer Aniston\", \"Courteney Cox\", \"Lisa Kudrow\", \"Matt LeBlanc\", \"Matthew Perry\", \"David Schwimmer\"]\n",
    "}'\n",
    "friends_list <- fromJSON(friends)\n",
    "paste(\"六人行共有幾季：\", friends_list$seasons)\n",
    "paste(\"六人行共有幾集：\", friends_list$episodes)\n",
    "paste(\"誰飾演 Chandler Bing：\", friends_list$stars[5])"
   ]
  },
  {
   "cell_type": "markdown",
   "metadata": {
    "slideshow": {
     "slide_type": "subslide"
    }
   },
   "source": [
    "## 練習\n",
    "\n",
    "- 芝加哥公牛隊 1995-96 年球季的勝率（勝場數/總場數）為？\n",
    "- 從先發五人選出你最喜歡的球員"
   ]
  },
  {
   "cell_type": "code",
   "execution_count": 2,
   "metadata": {
    "collapsed": false
   },
   "outputs": [],
   "source": [
    "# install.packages(\"jsonlite\")\n",
    "library(jsonlite)\n",
    "\n",
    "best_chicago_bulls <- '{\n",
    "    \"season\": \"1995-96\",\n",
    "    \"wins\": 72,\n",
    "    \"losses\": 10,\n",
    "    \"head_coach\": \"Phil Jackson\",\n",
    "    \"starting_five\": [\"Scottie Pippen\", \"Dennis Rodman\", \"Luc Longley\", \"Ron Harper\", \"Michael Jordan\"]\n",
    "}'\n",
    "\n",
    "# 這裡寫你的答案\n"
   ]
  },
  {
   "cell_type": "markdown",
   "metadata": {
    "slideshow": {
     "slide_type": "subslide"
    }
   },
   "source": [
    "## 認識 JSON（4）\n",
    "\n",
    "- Array of JSON\n",
    "\n",
    "```javascript\n",
    "var friends_starring = [\n",
    "\t{\n",
    "\t\t\"character\": \"Rachel Green\",\n",
    "\t\t\"star\": \"Jennifer Aniston\"\n",
    "\t},\n",
    "\t{\n",
    "\t\t\"character\": \"Monica Geller\",\n",
    "\t\t\"star\": \"Courteney Cox\"\n",
    "\t},\n",
    "\t{\n",
    "\t\t\"character\": \"Phoebe Buffay\",\n",
    "\t\t\"star\": \"Lisa Kudrow\"\n",
    "\t},\n",
    "\t{\n",
    "\t\t\"character\": \"Joey Tribbiani\",\n",
    "\t\t\"star\": \"Matt LeBlanc\"\n",
    "\t},\n",
    "\t{\n",
    "\t\t\"character\": \"Chandler Bing\",\n",
    "\t\t\"star\": \"Matthew Perry\"\n",
    "\t},\n",
    "\t{\n",
    "\t\t\"character\": \"Ross Geller\",\n",
    "\t\t\"star\": \"David Schwimmer\"\n",
    "\t}\n",
    "];\n",
    "\n",
    "// 印出我們想知道的資訊\n",
    "for (var i = 0; i < friends_starring.length; i++) {\n",
    "\tconsole.log(\"誰飾演 \" + friends_starring[i][\"character\"] + \"：\" + friends_starring[i][\"star\"]);\n",
    "};\n",
    "```"
   ]
  },
  {
   "cell_type": "markdown",
   "metadata": {
    "slideshow": {
     "slide_type": "subslide"
    }
   },
   "source": [
    "## 認識 JSON（5）\n",
    "\n",
    "- 讀取結果是資料框（data.frame）"
   ]
  },
  {
   "cell_type": "code",
   "execution_count": 3,
   "metadata": {
    "collapsed": false,
    "slideshow": {
     "slide_type": "subslide"
    }
   },
   "outputs": [
    {
     "name": "stdout",
     "output_type": "stream",
     "text": [
      "[1] \"誰飾演 Rachel Green ： Jennifer Aniston\"\n",
      "[1] \"誰飾演 Monica Geller ： Courteney Cox\"\n",
      "[1] \"誰飾演 Phoebe Buffay ： Lisa Kudrow\"\n",
      "[1] \"誰飾演 Joey Tribbiani ： Matt LeBlanc\"\n",
      "[1] \"誰飾演 Chandler Bing ： Matthew Perry\"\n",
      "[1] \"誰飾演 Ross Geller ： David Schwimmer\"\n"
     ]
    }
   ],
   "source": [
    "# install.packages(\"jsonlite\")\n",
    "# library(jsonlite)\n",
    "\n",
    "friends_starring <- '[\n",
    "\t{\n",
    "\t\t\"character\": \"Rachel Green\",\n",
    "\t\t\"star\": \"Jennifer Aniston\"\n",
    "\t},\n",
    "\t{\n",
    "\t\t\"character\": \"Monica Geller\",\n",
    "\t\t\"star\": \"Courteney Cox\"\n",
    "\t},\n",
    "\t{\n",
    "\t\t\"character\": \"Phoebe Buffay\",\n",
    "\t\t\"star\": \"Lisa Kudrow\"\n",
    "\t},\n",
    "\t{\n",
    "\t\t\"character\": \"Joey Tribbiani\",\n",
    "\t\t\"star\": \"Matt LeBlanc\"\n",
    "\t},\n",
    "\t{\n",
    "\t\t\"character\": \"Chandler Bing\",\n",
    "\t\t\"star\": \"Matthew Perry\"\n",
    "\t},\n",
    "\t{\n",
    "\t\t\"character\": \"Ross Geller\",\n",
    "\t\t\"star\": \"David Schwimmer\"\n",
    "\t}\n",
    "]'\n",
    "\n",
    "fs_df <- fromJSON(friends_starring)\n",
    "for (i in 1:nrow(fs_df)){\n",
    "    print(paste(\"誰飾演\", fs_df[i, \"character\"], \"：\", fs_df[i, \"star\"]))\n",
    "}"
   ]
  },
  {
   "cell_type": "markdown",
   "metadata": {
    "slideshow": {
     "slide_type": "subslide"
    }
   },
   "source": [
    "## 練習\n",
    "\n",
    "- 列出芝加哥公牛隊 1995-96 年先發五人的位置與球員"
   ]
  },
  {
   "cell_type": "code",
   "execution_count": 4,
   "metadata": {
    "collapsed": false
   },
   "outputs": [],
   "source": [
    "# install.packages(\"jsonlite\")\n",
    "# library(jsonlite)\n",
    "\n",
    "best_cb_start_five <- '[\n",
    "\t{\n",
    "\t\t\"pos\": \"SF\",\n",
    "\t\t\"player\": \"Scottie Pippen\"\n",
    "\t},\n",
    "\t{\n",
    "\t\t\"pos\": \"PF\",\n",
    "\t\t\"player\": \"Dennis Rodman\"\n",
    "\t},\n",
    "\t{\n",
    "\t\t\"pos\": \"C\",\n",
    "\t\t\"player\": \"Luc Longley\"\n",
    "\t},\n",
    "\t{\n",
    "\t\t\"pos\": \"PG\",\n",
    "\t\t\"player\": \"Ron Harper\"\n",
    "\t},\n",
    "\t{\n",
    "\t\t\"pos\": \"SG\",\n",
    "\t\t\"player\": \"Michael Jordan\"\n",
    "\t}\n",
    "]'\n",
    "\n",
    "# 這裡寫你的答案\n"
   ]
  },
  {
   "cell_type": "markdown",
   "metadata": {
    "slideshow": {
     "slide_type": "slide"
    }
   },
   "source": [
    "## 認識 XML\n",
    "\n",
    "- 什麼是 XML（Extensible Markup Language）？\n",
    "- 類似 HTML 的標籤式文件格式\n",
    "- 這是一個 XML：\n",
    "\n",
    "```xml\n",
    "<Friends>\n",
    "    <cast>\n",
    "        <character>Rachel Green</character>\n",
    "        <star>Jennifer Aniston</star>\n",
    "    </cast>\n",
    "    <cast>\n",
    "        <character>Monica Geller</character>\n",
    "        <star>Courteney Cox</star>\n",
    "    </cast>\n",
    "    <cast>\n",
    "        <character>Phoebe Buffay</character>\n",
    "        <star>Lisa Kudrow</star>\n",
    "    </cast>\n",
    "    <cast>\n",
    "        <character>Joey Tribbiani</character>\n",
    "        <star>Matt LeBlanc</star>\n",
    "    </cast>\n",
    "    <cast>\n",
    "        <character>Chandler Bing</character>\n",
    "        <star>Matthew Perry</star>\n",
    "    </cast>\n",
    "    <cast>\n",
    "        <character>Ross Geller</character>\n",
    "        <star>David Schwimmer</star>\n",
    "    </cast>\n",
    "</Friends>\n",
    "```"
   ]
  },
  {
   "cell_type": "markdown",
   "metadata": {
    "slideshow": {
     "slide_type": "subslide"
    }
   },
   "source": [
    "## 認識 XML（2）\n",
    "\n",
    "- 在 R 語言中可以透過 `xml2` 套件所提供的 `read_xml()` 函數讀取 XML"
   ]
  },
  {
   "cell_type": "code",
   "execution_count": 5,
   "metadata": {
    "collapsed": true,
    "slideshow": {
     "slide_type": "subslide"
    }
   },
   "outputs": [],
   "source": [
    "# install.packages(\"xml2\")\n",
    "library(xml2)\n",
    "\n",
    "fs_xml <- \"\n",
    "<Friends>\n",
    "    <cast>\n",
    "        <character>Rachel Green</character>\n",
    "        <star>Jennifer Aniston</star>\n",
    "    </cast>\n",
    "    <cast>\n",
    "        <character>Monica Geller</character>\n",
    "        <star>Courteney Cox</star>\n",
    "    </cast>\n",
    "    <cast>\n",
    "        <character>Phoebe Buffay</character>\n",
    "        <star>Lisa Kudrow</star>\n",
    "    </cast>\n",
    "    <cast>\n",
    "        <character>Joey Tribbiani</character>\n",
    "        <star>Matt LeBlanc</star>\n",
    "    </cast>\n",
    "    <cast>\n",
    "        <character>Chandler Bing</character>\n",
    "        <star>Matthew Perry</star>\n",
    "    </cast>\n",
    "    <cast>\n",
    "        <character>Ross Geller</character>\n",
    "        <star>David Schwimmer</star>\n",
    "    </cast>\n",
    "</Friends>\n",
    "\"\n",
    "\n",
    "fs <- read_xml(fs_xml)"
   ]
  },
  {
   "cell_type": "markdown",
   "metadata": {
    "slideshow": {
     "slide_type": "subslide"
    }
   },
   "source": [
    "## 認識 XML（3）\n",
    "\n",
    "- 接著可以透過 `xml2` 套件提供的其他函數來解析\n",
    "    - `xml_name()`\n",
    "    - `xml_children()`\n",
    "    - `xml_text()`\n",
    "    - `xml_find_all()`"
   ]
  },
  {
   "cell_type": "code",
   "execution_count": 6,
   "metadata": {
    "collapsed": false,
    "slideshow": {
     "slide_type": "subslide"
    }
   },
   "outputs": [
    {
     "data": {
      "text/plain": [
       "{xml_nodeset (6)}\n",
       "[1] <character>Rachel Green</character>\n",
       "[2] <character>Monica Geller</character>\n",
       "[3] <character>Phoebe Buffay</character>\n",
       "[4] <character>Joey Tribbiani</character>\n",
       "[5] <character>Chandler Bing</character>\n",
       "[6] <character>Ross Geller</character>"
      ]
     },
     "metadata": {},
     "output_type": "display_data"
    },
    {
     "data": {
      "text/plain": [
       "{xml_nodeset (6)}\n",
       "[1] <star>Jennifer Aniston</star>\n",
       "[2] <star>Courteney Cox</star>\n",
       "[3] <star>Lisa Kudrow</star>\n",
       "[4] <star>Matt LeBlanc</star>\n",
       "[5] <star>Matthew Perry</star>\n",
       "[6] <star>David Schwimmer</star>"
      ]
     },
     "metadata": {},
     "output_type": "display_data"
    }
   ],
   "source": [
    "fs_name <- xml_name(fs)\n",
    "fs_children <- xml_children(fs)\n",
    "fs_characters <- xml_find_all(fs, xpath = \".//character\")\n",
    "fs_stars <- xml_find_all(fs, xpath = \".//star\")\n",
    "\n",
    "fs_characters\n",
    "fs_stars"
   ]
  },
  {
   "cell_type": "markdown",
   "metadata": {
    "slideshow": {
     "slide_type": "subslide"
    }
   },
   "source": [
    "## 認識 XML（4）\n",
    "\n",
    "- 使用 `%>%` 加速資料解析"
   ]
  },
  {
   "cell_type": "code",
   "execution_count": 7,
   "metadata": {
    "collapsed": false
   },
   "outputs": [
    {
     "name": "stdout",
     "output_type": "stream",
     "text": [
      "[1] \"誰飾演 Rachel Green ： Jennifer Aniston\"\n",
      "[1] \"誰飾演 Monica Geller ： Courteney Cox\"\n",
      "[1] \"誰飾演 Phoebe Buffay ： Lisa Kudrow\"\n",
      "[1] \"誰飾演 Joey Tribbiani ： Matt LeBlanc\"\n",
      "[1] \"誰飾演 Chandler Bing ： Matthew Perry\"\n",
      "[1] \"誰飾演 Ross Geller ： David Schwimmer\"\n"
     ]
    }
   ],
   "source": [
    "# install.packages(\"xml2\")\n",
    "# install.packages(\"magrittr\")\n",
    "library(xml2)\n",
    "library(magrittr)\n",
    "\n",
    "fs_characters <- fs %>%\n",
    "    xml_find_all(xpath = \".//character\") %>%\n",
    "    xml_text()\n",
    "fs_stars <- fs %>%\n",
    "    xml_find_all(xpath = \".//star\") %>%\n",
    "    xml_text()\n",
    "\n",
    "for (i in 1:length(fs_characters)){\n",
    "    print(paste(\"誰飾演\", fs_characters[i], \"：\", fs_stars[i]))\n",
    "}"
   ]
  },
  {
   "cell_type": "markdown",
   "metadata": {
    "slideshow": {
     "slide_type": "subslide"
    }
   },
   "source": [
    "## 練習\n",
    "\n",
    "- 列出芝加哥公牛隊 1995-96 年先發五人的位置與球員"
   ]
  },
  {
   "cell_type": "code",
   "execution_count": 8,
   "metadata": {
    "collapsed": true
   },
   "outputs": [],
   "source": [
    "# install.packages(\"xml2\")\n",
    "library(xml2)\n",
    "\n",
    "cb_xml <- \"\n",
    "<cb>\n",
    "    <startfive>\n",
    "        <position>SF</position>\n",
    "        <player>Scottie Pippen</player>\n",
    "    </startfive>\n",
    "    <startfive>\n",
    "        <position>PF</position>\n",
    "        <player>Dennis Rodman</player>\n",
    "    </startfive>\n",
    "    <startfive>\n",
    "        <position>C</position>\n",
    "        <player>Luc Longley</player>\n",
    "    </startfive>\n",
    "    <startfive>\n",
    "        <position>PG</position>\n",
    "        <player>Ron Harper</player>\n",
    "    </startfive>\n",
    "    <startfive>\n",
    "        <position>SG</position>\n",
    "        <player>Michael Jordan</player>\n",
    "    </startfive>\n",
    "</cb>\n",
    "\"\n",
    "\n",
    "# 這裡寫你的答案\n"
   ]
  }
 ],
 "metadata": {
  "celltoolbar": "Slideshow",
  "kernelspec": {
   "display_name": "R",
   "language": "R",
   "name": "ir"
  },
  "language_info": {
   "codemirror_mode": "r",
   "file_extension": ".r",
   "mimetype": "text/x-r-source",
   "name": "R",
   "pygments_lexer": "r",
   "version": "3.4.0"
  }
 },
 "nbformat": 4,
 "nbformat_minor": 2
}

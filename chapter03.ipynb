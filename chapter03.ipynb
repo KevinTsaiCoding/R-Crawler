{
 "cells": [
  {
   "cell_type": "markdown",
   "metadata": {
    "slideshow": {
     "slide_type": "slide"
    }
   },
   "source": [
    "# 認識 JSON 與 XML\n",
    "\n",
    "## 郭耀仁"
   ]
  },
  {
   "cell_type": "markdown",
   "metadata": {
    "slideshow": {
     "slide_type": "slide"
    }
   },
   "source": [
    "## 認識 JSON\n",
    "\n",
    "- 什麼是 JSON(JavaScript Object Notation)？\n",
    "- 這是一個 JSON：\n",
    "\n",
    "```javascript\n",
    "var friends = {\n",
    "  \"genre\": \"Sitcom\",\n",
    "  \"seasons\": 10,\n",
    "  \"episodes\": 236,\n",
    "  \"stars\": [\"Jennifer Aniston\", \"Courteney Cox\", \"Lisa Kudrow\", \"Matt LeBlanc\", \"Matthew Perry\", \"David Schwimmer\"]\n",
    "};\n",
    "```"
   ]
  },
  {
   "cell_type": "markdown",
   "metadata": {
    "slideshow": {
     "slide_type": "subslide"
    }
   },
   "source": [
    "## 認識 JSON（2）\n",
    "\n",
    "- 本來應當是用 JavaScript 解析 JSON：\n",
    "\n",
    "```javascript\n",
    "var friends = {\n",
    "\t\"genre\": \"Sitcom\",\n",
    "\t\"seasons\": 10,\n",
    "\t\"episodes\": 236,\n",
    "\t\"stars\": [\"Jennifer Aniston\", \"Courteney Cox\", \"Lisa Kudrow\", \"Matt LeBlanc\", \"Matthew Perry\", \"David Schwimmer\"]\n",
    "};\n",
    "\n",
    "// 印出我們想知道的資訊\n",
    "console.log(\"六人行共有幾季：\" + friends[\"seasons\"]);\n",
    "console.log(\"六人行共有幾集：\" + friends[\"episodes\"]);\n",
    "console.log(\"誰飾演 Chandler Bing：\" + friends[\"stars\"][4]);\n",
    "```"
   ]
  },
  {
   "cell_type": "markdown",
   "metadata": {
    "slideshow": {
     "slide_type": "subslide"
    }
   },
   "source": [
    "## 認識 JSON（3）\n",
    "\n",
    "- 在 R 語言中可以透過 `jsonlite` 套件所提供的 `fromJSON()` 函數讀取 JSON\n",
    "- 讀取結果是清單（list）"
   ]
  },
  {
   "cell_type": "code",
   "execution_count": 1,
   "metadata": {
    "collapsed": false
   },
   "outputs": [
    {
     "data": {
      "text/html": [
       "'六人行共有幾季： 10'"
      ],
      "text/latex": [
       "'六人行共有幾季： 10'"
      ],
      "text/markdown": [
       "'六人行共有幾季： 10'"
      ],
      "text/plain": [
       "[1] \"六人行共有幾季： 10\""
      ]
     },
     "metadata": {},
     "output_type": "display_data"
    },
    {
     "data": {
      "text/html": [
       "'六人行共有幾集： 236'"
      ],
      "text/latex": [
       "'六人行共有幾集： 236'"
      ],
      "text/markdown": [
       "'六人行共有幾集： 236'"
      ],
      "text/plain": [
       "[1] \"六人行共有幾集： 236\""
      ]
     },
     "metadata": {},
     "output_type": "display_data"
    },
    {
     "data": {
      "text/html": [
       "'誰飾演 Chandler Bing： Matthew Perry'"
      ],
      "text/latex": [
       "'誰飾演 Chandler Bing： Matthew Perry'"
      ],
      "text/markdown": [
       "'誰飾演 Chandler Bing： Matthew Perry'"
      ],
      "text/plain": [
       "[1] \"誰飾演 Chandler Bing： Matthew Perry\""
      ]
     },
     "metadata": {},
     "output_type": "display_data"
    }
   ],
   "source": [
    "# install.packages(\"jsonlite\")\n",
    "library(jsonlite)\n",
    "\n",
    "friends <- '{\n",
    "  \"genre\": \"Sitcom\",\n",
    "  \"seasons\": 10,\n",
    "  \"episodes\": 236,\n",
    "  \"stars\": [\"Jennifer Aniston\", \"Courteney Cox\", \"Lisa Kudrow\", \"Matt LeBlanc\", \"Matthew Perry\", \"David Schwimmer\"]\n",
    "}'\n",
    "friends_list <- fromJSON(friends)\n",
    "paste(\"六人行共有幾季：\", friends_list$seasons)\n",
    "paste(\"六人行共有幾集：\", friends_list$episodes)\n",
    "paste(\"誰飾演 Chandler Bing：\", friends_list$stars[5])"
   ]
  },
  {
   "cell_type": "markdown",
   "metadata": {
    "slideshow": {
     "slide_type": "subslide"
    }
   },
   "source": [
    "## 練習\n",
    "\n",
    "- 芝加哥公牛隊 1995-96 年球季的勝率（勝場數/總場數）為？\n",
    "- 從先發五人選出你最喜歡的球員"
   ]
  },
  {
   "cell_type": "code",
   "execution_count": 2,
   "metadata": {
    "collapsed": false
   },
   "outputs": [],
   "source": [
    "# install.packages(\"jsonlite\")\n",
    "library(jsonlite)\n",
    "\n",
    "best_chicago_bulls <- '{\n",
    "    \"season\": \"1995-96\",\n",
    "    \"wins\": 72,\n",
    "    \"losses\": 10,\n",
    "    \"head_coach\": \"Phil Jackson\",\n",
    "    \"starting_five\": [\"Scottie Pippen\", \"Dennis Rodman\", \"Luc Longley\", \"Ron Harper\", \"Michael Jordan\"]\n",
    "}'\n",
    "\n",
    "# 這裡寫你的答案\n"
   ]
  },
  {
   "cell_type": "markdown",
   "metadata": {
    "slideshow": {
     "slide_type": "subslide"
    }
   },
   "source": [
    "## 認識 JSON（4）\n",
    "\n",
    "- Array of JSON\n",
    "\n",
    "```javascript\n",
    "var friends_starring = [\n",
    "\t{\n",
    "\t\t\"character\": \"Rachel Green\",\n",
    "\t\t\"star\": \"Jennifer Aniston\"\n",
    "\t},\n",
    "\t{\n",
    "\t\t\"character\": \"Monica Geller\",\n",
    "\t\t\"star\": \"Courteney Cox\"\n",
    "\t},\n",
    "\t{\n",
    "\t\t\"character\": \"Phoebe Buffay\",\n",
    "\t\t\"star\": \"Lisa Kudrow\"\n",
    "\t},\n",
    "\t{\n",
    "\t\t\"character\": \"Joey Tribbiani\",\n",
    "\t\t\"star\": \"Matt LeBlanc\"\n",
    "\t},\n",
    "\t{\n",
    "\t\t\"character\": \"Chandler Bing\",\n",
    "\t\t\"star\": \"Matthew Perry\"\n",
    "\t},\n",
    "\t{\n",
    "\t\t\"character\": \"Ross Geller\",\n",
    "\t\t\"star\": \"David Schwimmer\"\n",
    "\t}\n",
    "];\n",
    "\n",
    "// 印出我們想知道的資訊\n",
    "for (var i = 0; i < friends_starring.length; i++) {\n",
    "\tconsole.log(\"誰飾演 \" + friends_starring[i][\"character\"] + \"：\" + friends_starring[i][\"star\"]);\n",
    "};\n",
    "```"
   ]
  },
  {
   "cell_type": "markdown",
   "metadata": {
    "slideshow": {
     "slide_type": "subslide"
    }
   },
   "source": [
    "## 認識 JSON（5）\n",
    "\n",
    "- 讀取結果是資料框（data.frame）"
   ]
  },
  {
   "cell_type": "code",
   "execution_count": 3,
   "metadata": {
    "collapsed": false
   },
   "outputs": [
    {
     "name": "stdout",
     "output_type": "stream",
     "text": [
      "[1] \"誰飾演 Rachel Green ： Jennifer Aniston\"\n",
      "[1] \"誰飾演 Monica Geller ： Courteney Cox\"\n",
      "[1] \"誰飾演 Phoebe Buffay ： Lisa Kudrow\"\n",
      "[1] \"誰飾演 Joey Tribbiani ： Matt LeBlanc\"\n",
      "[1] \"誰飾演 Chandler Bing ： Matthew Perry\"\n",
      "[1] \"誰飾演 Ross Geller ： David Schwimmer\"\n"
     ]
    }
   ],
   "source": [
    "# install.packages(\"jsonlite\")\n",
    "# library(jsonlite)\n",
    "\n",
    "friends_starring <- '[\n",
    "    {\n",
    "\t\t\"character\": \"Rachel Green\",\n",
    "\t\t\"star\": \"Jennifer Aniston\"\n",
    "\t},\n",
    "\t{\n",
    "\t\t\"character\": \"Monica Geller\",\n",
    "\t\t\"star\": \"Courteney Cox\"\n",
    "\t},\n",
    "\t{\n",
    "\t\t\"character\": \"Phoebe Buffay\",\n",
    "\t\t\"star\": \"Lisa Kudrow\"\n",
    "\t},\n",
    "\t{\n",
    "\t\t\"character\": \"Joey Tribbiani\",\n",
    "\t\t\"star\": \"Matt LeBlanc\"\n",
    "\t},\n",
    "\t{\n",
    "\t\t\"character\": \"Chandler Bing\",\n",
    "\t\t\"star\": \"Matthew Perry\"\n",
    "\t},\n",
    "\t{\n",
    "\t\t\"character\": \"Ross Geller\",\n",
    "\t\t\"star\": \"David Schwimmer\"\n",
    "\t}\n",
    "]'\n",
    "\n",
    "fs_df <- fromJSON(friends_starring)\n",
    "for (i in 1:nrow(fs_df)){\n",
    "    print(paste(\"誰飾演\", fs_df[i, \"character\"], \"：\", fs_df[i, \"star\"]))\n",
    "}"
   ]
  },
  {
   "cell_type": "markdown",
   "metadata": {
    "slideshow": {
     "slide_type": "subslide"
    }
   },
   "source": [
    "## 練習\n",
    "\n",
    "- 列出芝加哥公牛隊 1995-96 年先發五人的位置與球員"
   ]
  },
  {
   "cell_type": "code",
   "execution_count": 4,
   "metadata": {
    "collapsed": false
   },
   "outputs": [],
   "source": [
    "# install.packages(\"jsonlite\")\n",
    "# library(jsonlite)\n",
    "\n",
    "best_cb_start_five <- '[\n",
    "    {\n",
    "\t\t\"pos\": \"SF\",\n",
    "\t\t\"player\": \"Scottie Pippen\"\n",
    "\t},\n",
    "\t{\n",
    "\t\t\"pos\": \"PF\",\n",
    "\t\t\"player\": \"Dennis Rodman\"\n",
    "\t},\n",
    "\t{\n",
    "\t\t\"pos\": \"C\",\n",
    "\t\t\"player\": \"Luc Longley\"\n",
    "\t},\n",
    "\t{\n",
    "\t\t\"pos\": \"PG\",\n",
    "\t\t\"player\": \"Ron Harper\"\n",
    "\t},\n",
    "\t{\n",
    "\t\t\"pos\": \"SG\",\n",
    "\t\t\"player\": \"Michael Jordan\"\n",
    "\t}\n",
    "]'\n",
    "\n",
    "# 這裡寫你的答案\n"
   ]
  },
  {
   "cell_type": "markdown",
   "metadata": {
    "slideshow": {
     "slide_type": "slide"
    }
   },
   "source": [
    "## 認識 XML\n",
    "\n",
    "- 什麼是 XML（Extensible Markup Language）？\n",
    "- 類似 HTML 的標籤式文件格式\n",
    "- 這是一個 XML：\n",
    "\n",
    "```xml\n",
    "<六人行>\n",
    "    <角色演員>\n",
    "        <角色>Rachel Green</角色>\n",
    "        <演員>Jennifer Aniston</演員>\n",
    "    </角色演員>\n",
    "        <角色>Monica Geller</角色>\n",
    "        <演員>Courteney Cox</演員>\n",
    "    <角色演員>\n",
    "        <角色>Phoebe Buffay</角色>\n",
    "        <演員>Lisa Kudrow</演員>\n",
    "    </角色演員>\n",
    "    <角色演員>\n",
    "        <角色>Joey Tribbiani</角色>\n",
    "        <演員>Matt LeBlanc</演員>\n",
    "    </角色演員>\n",
    "    <角色演員>\n",
    "        <角色>Chandler Bing</角色>\n",
    "        <演員>Matthew Perry</演員>\n",
    "    </角色演員>\n",
    "    <角色演員>\n",
    "        <角色>Ross Geller</角色>\n",
    "        <演員>David Schwimmer</演員>\n",
    "    </角色演員>\n",
    "</六人行>\n",
    "```"
   ]
  },
  {
   "cell_type": "markdown",
   "metadata": {
    "slideshow": {
     "slide_type": "subslide"
    }
   },
   "source": [
    "## 認識 XML（2）\n",
    "\n",
    "- 在 R 語言中可以透過 `xml2` 套件所提供的 `read_xml()` 函數讀取 XML"
   ]
  },
  {
   "cell_type": "code",
   "execution_count": 5,
   "metadata": {
    "collapsed": true
   },
   "outputs": [],
   "source": [
    "# install.packages(\"xml2\")\n",
    "library(xml2)\n",
    "\n",
    "fs_xml <- \"\n",
    "<六人行>\n",
    "    <角色演員>\n",
    "        <角色>Rachel Green</角色>\n",
    "        <演員>Jennifer Aniston</演員>\n",
    "    </角色演員>\n",
    "        <角色>Monica Geller</角色>\n",
    "        <演員>Courteney Cox</演員>\n",
    "    <角色演員>\n",
    "        <角色>Phoebe Buffay</角色>\n",
    "        <演員>Lisa Kudrow</演員>\n",
    "    </角色演員>\n",
    "    <角色演員>\n",
    "        <角色>Joey Tribbiani</角色>\n",
    "        <演員>Matt LeBlanc</演員>\n",
    "    </角色演員>\n",
    "    <角色演員>\n",
    "        <角色>Chandler Bing</角色>\n",
    "        <演員>Matthew Perry</演員>\n",
    "    </角色演員>\n",
    "    <角色演員>\n",
    "        <角色>Ross Geller</角色>\n",
    "        <演員>David Schwimmer</演員>\n",
    "    </角色演員>\n",
    "</六人行>\n",
    "\"\n",
    "\n",
    "fs <- read_xml(fs_xml)"
   ]
  },
  {
   "cell_type": "markdown",
   "metadata": {
    "slideshow": {
     "slide_type": "subslide"
    }
   },
   "source": [
    "## 認識 XML（3）\n",
    "\n",
    "- 接著可以透過 `xml2` 套件提供的其他函數來解析\n",
    "    - `xml_name()`\n",
    "    - `xml_children()`\n",
    "    - `xml_text()`\n",
    "    - `xml_find_all()`"
   ]
  },
  {
   "cell_type": "code",
   "execution_count": 6,
   "metadata": {
    "collapsed": false
   },
   "outputs": [
    {
     "data": {
      "text/plain": [
       "{xml_nodeset (6)}\n",
       "[1] <角色>Rachel Green</角色>\n",
       "[2] <角色>Monica Geller</角色>\n",
       "[3] <角色>Phoebe Buffay</角色>\n",
       "[4] <角色>Joey Tribbiani</角色>\n",
       "[5] <角色>Chandler Bing</角色>\n",
       "[6] <角色>Ross Geller</角色>"
      ]
     },
     "metadata": {},
     "output_type": "display_data"
    },
    {
     "data": {
      "text/plain": [
       "{xml_nodeset (6)}\n",
       "[1] <演員>Jennifer Aniston</演員>\n",
       "[2] <演員>Courteney Cox</演員>\n",
       "[3] <演員>Lisa Kudrow</演員>\n",
       "[4] <演員>Matt LeBlanc</演員>\n",
       "[5] <演員>Matthew Perry</演員>\n",
       "[6] <演員>David Schwimmer</演員>"
      ]
     },
     "metadata": {},
     "output_type": "display_data"
    }
   ],
   "source": [
    "fs_name <- xml_name(fs)\n",
    "fs_children <- xml_children(fs)\n",
    "fs_characters <- xml_find_all(fs, xpath = \".//角色\")\n",
    "fs_stars <- xml_find_all(fs, xpath = \".//演員\")\n",
    "\n",
    "fs_characters\n",
    "fs_stars"
   ]
  },
  {
   "cell_type": "markdown",
   "metadata": {
    "slideshow": {
     "slide_type": "subslide"
    }
   },
   "source": [
    "## 認識 XML（4）\n",
    "\n",
    "- 使用 `%>%` 加速資料解析"
   ]
  },
  {
   "cell_type": "code",
   "execution_count": 7,
   "metadata": {
    "collapsed": false
   },
   "outputs": [
    {
     "name": "stdout",
     "output_type": "stream",
     "text": [
      "[1] \"誰飾演 Rachel Green ： Jennifer Aniston\"\n",
      "[1] \"誰飾演 Monica Geller ： Courteney Cox\"\n",
      "[1] \"誰飾演 Phoebe Buffay ： Lisa Kudrow\"\n",
      "[1] \"誰飾演 Joey Tribbiani ： Matt LeBlanc\"\n",
      "[1] \"誰飾演 Chandler Bing ： Matthew Perry\"\n",
      "[1] \"誰飾演 Ross Geller ： David Schwimmer\"\n"
     ]
    }
   ],
   "source": [
    "# install.packages(\"xml2\")\n",
    "# install.packages(\"magrittr\")\n",
    "library(xml2)\n",
    "library(magrittr)\n",
    "\n",
    "fs_characters <- fs %>%\n",
    "    xml_find_all(xpath = \".//角色\") %>%\n",
    "    xml_text()\n",
    "fs_stars <- fs %>%\n",
    "    xml_find_all(xpath = \".//演員\") %>%\n",
    "    xml_text()\n",
    "\n",
    "for (i in 1:length(fs_characters)){\n",
    "    print(paste(\"誰飾演\", fs_characters[i], \"：\", fs_stars[i]))\n",
    "}"
   ]
  },
  {
   "cell_type": "markdown",
   "metadata": {
    "slideshow": {
     "slide_type": "subslide"
    }
   },
   "source": [
    "## 練習\n",
    "\n",
    "- 列出芝加哥公牛隊 1995-96 年先發五人的位置與球員"
   ]
  },
  {
   "cell_type": "code",
   "execution_count": 8,
   "metadata": {
    "collapsed": true
   },
   "outputs": [],
   "source": [
    "# install.packages(\"xml2\")\n",
    "library(xml2)\n",
    "\n",
    "cb_xml <- \"\n",
    "<芝加哥公牛隊先發>\n",
    "    <位置球員>\n",
    "        <位置>SF</位置>\n",
    "        <球員>Scottie Pippen</球員>\n",
    "    </位置球員>\n",
    "        <位置>PF</位置>\n",
    "        <球員>Dennis Rodman</球員>\n",
    "    <位置球員>\n",
    "        <位置>C</位置>\n",
    "        <球員>Luc Longley</球員>\n",
    "    </位置球員>\n",
    "    <位置球員>\n",
    "        <位置>PG</位置>\n",
    "        <球員>Ron Harper</球員>\n",
    "    </位置球員>\n",
    "    <位置球員>\n",
    "        <位置>SG</位置>\n",
    "        <球員>Michael Jordan</球員>\n",
    "    </位置球員>\n",
    "</芝加哥公牛隊先發>\n",
    "\"\n",
    "\n",
    "# 這裡寫你的答案\n"
   ]
  }
 ],
 "metadata": {
  "celltoolbar": "Slideshow",
  "kernelspec": {
   "display_name": "R",
   "language": "R",
   "name": "ir"
  },
  "language_info": {
   "codemirror_mode": "r",
   "file_extension": ".r",
   "mimetype": "text/x-r-source",
   "name": "R",
   "pygments_lexer": "r",
   "version": "3.4.0"
  }
 },
 "nbformat": 4,
 "nbformat_minor": 2
}

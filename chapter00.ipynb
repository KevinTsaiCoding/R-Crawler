{
 "cells": [
  {
   "cell_type": "markdown",
   "metadata": {
    "slideshow": {
     "slide_type": "slide"
    }
   },
   "source": [
    "# 關於這門課\n",
    "\n",
    "## 郭耀仁"
   ]
  },
  {
   "cell_type": "markdown",
   "metadata": {
    "slideshow": {
     "slide_type": "slide"
    }
   },
   "source": [
    "## 這門課的目標\n",
    "\n",
    "- 學習 R 語言的文字函數\n",
    "- 學習正規表達式（Regular Expression）\n",
    "- 學習關於網站的一點知識\n",
    "- 學習 R 語言的基本爬蟲程式撰寫"
   ]
  },
  {
   "cell_type": "markdown",
   "metadata": {
    "slideshow": {
     "slide_type": "subslide"
    }
   },
   "source": [
    "## 課程資源\n",
    "\n",
    "- [課程專頁](http://yaojenkuo.io/r-crawler/)\n",
    "- [Facebook 社團](https://www.facebook.com/groups/ntucsietrainR/)"
   ]
  },
  {
   "cell_type": "markdown",
   "metadata": {
    "slideshow": {
     "slide_type": "subslide"
    }
   },
   "source": [
    "## 關於講師\n",
    "\n",
    "- [郭耀仁](https://www.facebook.com/yaojen.kuo.1)\n",
    "- <http://yaojenkuo.io/>\n",
    "- <tony@kyosei.ai>"
   ]
  }
 ],
 "metadata": {
  "celltoolbar": "Slideshow",
  "kernelspec": {
   "display_name": "R",
   "language": "R",
   "name": "ir"
  },
  "language_info": {
   "codemirror_mode": "r",
   "file_extension": ".r",
   "mimetype": "text/x-r-source",
   "name": "R",
   "pygments_lexer": "r",
   "version": "3.4.0"
  }
 },
 "nbformat": 4,
 "nbformat_minor": 2
}
